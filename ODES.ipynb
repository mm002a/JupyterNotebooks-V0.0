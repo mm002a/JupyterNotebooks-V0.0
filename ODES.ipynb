{
  "nbformat": 4,
  "nbformat_minor": 0,
  "metadata": {
    "colab": {
      "provenance": [],
      "authorship_tag": "ABX9TyNQd2+seO+z1OKhTsAeWBT7",
      "include_colab_link": true
    },
    "kernelspec": {
      "name": "python3",
      "display_name": "Python 3"
    },
    "language_info": {
      "name": "python"
    }
  },
  "cells": [
    {
      "cell_type": "markdown",
      "metadata": {
        "id": "view-in-github",
        "colab_type": "text"
      },
      "source": [
        "<a href=\"https://colab.research.google.com/github/mm002a/JupyterNotebooks-V0.0/blob/main/ODES.ipynb\" target=\"_parent\"><img src=\"https://colab.research.google.com/assets/colab-badge.svg\" alt=\"Open In Colab\"/></a>"
      ]
    },
    {
      "cell_type": "code",
      "execution_count": null,
      "metadata": {
        "id": "YPCGpzJREUOu"
      },
      "outputs": [],
      "source": []
    },
    {
      "cell_type": "markdown",
      "source": [
        "\n",
        "\\begin{align}\n",
        "(1+\\rho) \\ddot{R} &= \\rho \\left [ R \\dot{\\theta}^2 +\\cos \\theta\\right ]  -1 \\\\\n",
        "R\\ddot{\\theta} &= -2 \\dot{R} \\dot{\\theta} - \\sin{\\theta}\\\\\n",
        "\\text{ with initial conditions:}&\\\\\n",
        "\\theta(0) &= \\theta_0, \\dot{\\theta}(0) = 0, R(0) = 1, \\dot{R}(0) =0\\\\\n",
        "\\text{Alternatively, we can write:}&\\\\\n",
        "Z = \\pmatrix{\\theta\\\\ 1}\n",
        "\\end{align}\n",
        "\n"
      ],
      "metadata": {
        "id": "uK7ciiCREcSl"
      }
    },
    {
      "cell_type": "markdown",
      "source": [],
      "metadata": {
        "id": "2NISiu3qEYYJ"
      }
    }
  ]
}