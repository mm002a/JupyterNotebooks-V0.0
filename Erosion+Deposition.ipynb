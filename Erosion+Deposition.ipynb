{
  "nbformat": 4,
  "nbformat_minor": 0,
  "metadata": {
    "colab": {
      "name": "Erosion+Deposition.ipynb",
      "provenance": [],
      "authorship_tag": "ABX9TyNoQVx4n9n/iYewtFmBmALC",
      "include_colab_link": true
    },
    "kernelspec": {
      "name": "python3",
      "display_name": "Python 3"
    },
    "language_info": {
      "name": "python"
    }
  },
  "cells": [
    {
      "cell_type": "markdown",
      "metadata": {
        "id": "view-in-github",
        "colab_type": "text"
      },
      "source": [
        "<a href=\"https://colab.research.google.com/github/mm002a/JupyterNotebooks-V0.0/blob/main/Erosion%2BDeposition.ipynb\" target=\"_parent\"><img src=\"https://colab.research.google.com/assets/colab-badge.svg\" alt=\"Open In Colab\"/></a>"
      ]
    },
    {
      "cell_type": "code",
      "execution_count": 7,
      "metadata": {
        "colab": {
          "base_uri": "https://localhost:8080/"
        },
        "id": "8KQ6CiDIbc3a",
        "outputId": "b9a81c4a-1865-4234-ce28-5514e6fb3d27"
      },
      "outputs": [
        {
          "output_type": "stream",
          "name": "stdout",
          "text": [
            "W_c:  1.553161594163805 m/s\n"
          ]
        }
      ],
      "source": [
        "#Stephenson and Thorpe AIChE Journal (2002)\n",
        "nu = 5E-6\n",
        "g=9.81\n",
        "s=(2540/1000)\n",
        "D_f = 0.3 #0.07 - S+Thorpe values\n",
        "d_P = 250E-6\n",
        "W_c = 3.43*pow(nu*g*(s-1)*D_f/d_P,0.33)\n",
        "print(\"W_c: \",W_c,\"m/s\")\n",
        "Uncert_Wc = 0.25\n",
        "sigma_Wc = Uncert_Wc*W_c\n"
      ]
    },
    {
      "cell_type": "code",
      "source": [
        "#Salama J Energy resources Tech, Trans ASME(2000)\n",
        "rho_m = 750\n",
        "V_e = 400*pow(rho_m,-0.5)*pow(0.4535924/0.3048,0.5)\n",
        "print(\"V_e: \",V_e)\n"
      ],
      "metadata": {
        "colab": {
          "base_uri": "https://localhost:8080/"
        },
        "id": "vnV28RCQd8lF",
        "outputId": "d90e8626-6bcb-4e61-f59d-2c2ab68c8940"
      },
      "execution_count": 6,
      "outputs": [
        {
          "output_type": "stream",
          "name": "stdout",
          "text": [
            "V_e:  17.817828027723994\n"
          ]
        }
      ]
    }
  ]
}