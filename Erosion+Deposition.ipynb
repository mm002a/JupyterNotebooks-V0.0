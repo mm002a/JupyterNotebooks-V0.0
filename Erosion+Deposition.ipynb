{
  "nbformat": 4,
  "nbformat_minor": 0,
  "metadata": {
    "colab": {
      "name": "Erosion+Deposition.ipynb",
      "provenance": [],
      "authorship_tag": "ABX9TyPU3tRGWeZscYOkf5mnPkvx",
      "include_colab_link": true
    },
    "kernelspec": {
      "name": "python3",
      "display_name": "Python 3"
    },
    "language_info": {
      "name": "python"
    }
  },
  "cells": [
    {
      "cell_type": "markdown",
      "metadata": {
        "id": "view-in-github",
        "colab_type": "text"
      },
      "source": [
        "<a href=\"https://colab.research.google.com/github/mm002a/JupyterNotebooks-V0.0/blob/main/Erosion%2BDeposition.ipynb\" target=\"_parent\"><img src=\"https://colab.research.google.com/assets/colab-badge.svg\" alt=\"Open In Colab\"/></a>"
      ]
    },
    {
      "cell_type": "code",
      "execution_count": null,
      "metadata": {
        "colab": {
          "base_uri": "https://localhost:8080/"
        },
        "id": "8KQ6CiDIbc3a",
        "outputId": "eb15aa39-5cc5-42e4-84c2-0a5c283f119f"
      },
      "outputs": [
        {
          "output_type": "stream",
          "name": "stdout",
          "text": [
            "Stephenson & Thorpe W_c:  1.6897761347610094 m/s  d_P:  0.00025\n",
            "Deposition - Wc_min:  0.8617858287281148 W_c mean:  1.6897761347610094  Wc_max:  2.517766440793904\n",
            "Deposition - Wc_min:        0.8618 W_c mean:         +1.69  Wc_max:        +2.518\n"
          ]
        }
      ],
      "source": [
        "#Stephenson and Thorpe AIChE Journal (2002)\n",
        "nu = 5E-6\n",
        "g=9.81\n",
        "s=(2540/850)\n",
        "D_f = 0.3 #0.07 - S+Thorpe values\n",
        "d_P = 250E-6\n",
        "W_c = 3.43*pow(nu*g*(s-1)*D_f/d_P,0.33)\n",
        "print(\"Stephenson & Thorpe W_c: \",W_c,\"m/s\", \" d_P: \", d_P)\n",
        "Uncert = 0.25 #Reasonable value according to Kouba\n",
        "sigma_Wc = Uncert*W_c\n",
        "Zp = 1.960\n",
        "Wc_min = W_c - sigma_Wc* Zp\n",
        "Wc_max = W_c + sigma_Wc* Zp\n",
        "print(\"Deposition - Wc_min: \", Wc_min, \"W_c mean: \",W_c ,\" Wc_max: \", Wc_max)\n",
        "print(\"Deposition - Wc_min: \", '{:12.4g}'.format(Wc_min),\"W_c mean: \",'{:+12.4G}'.format(W_c) ,\" Wc_max: \", '{:+12.4G}'.format(Wc_max))\n",
        "#Investigate this using https://en.wikipedia.org/wiki/Distribution_of_the_product_of_two_random_variables\n",
        "#mu_XY = mu_X * mu_Y AND sigma2_XY = (sigma2_X + mu2_X)(sigma2_Y + mu2_Y) - mu2_X*mu2_Y"
      ]
    },
    {
      "cell_type": "markdown",
      "source": [
        "## Observation on the effect of particle size.\n",
        "What is the qualitative effect of particle diameter on critical transport velocity?  \n",
        "Scanning the ten papers in Fajemidupe, Olawale T. Aliyu, Aliyu M.\n",
        "Baba, Yahaya D.\n",
        "Archibong-Eso, Archibong\n",
        "Yeung, Hoi Chemical Engineering Research and Design (2019)\n",
        "is unclear; some suggest $W_{crit}$ __will decrease__ if the particle parameter $d_P$ decreases.  \n",
        "Some otherwise.\n",
        "\n",
        "_I should work out a full table. Carefully!!_  \n",
        "Variation with $d_P$ -- $W_{crit}$  \n",
        "(+ve correlation => they both increase together.)  \n",
        "Oudeman: unclear  \n",
        "King: unclear  \n",
        "Danielson: +ve correlation  \n",
        "Yan: unclear  \n",
        "Stevenson and Thorpe: -ve(!!)  \n",
        "Thomas: +ve  \n",
        "Davies: +ve  \n",
        "Oroskar: +ve  \n",
        "Ibarra: +ve"
      ],
      "metadata": {
        "id": "CKx4hkqjNDfA"
      }
    },
    {
      "cell_type": "code",
      "source": [
        "#Salama J Energy resources Tech, Trans ASME(2000)\n",
        "#Use the API RP 14E value for C\n",
        "#So this is a pretty straight forward....\n",
        "rho_m = 750\n",
        "V_e = 100*pow(rho_m,-0.5)*pow(0.4535924/0.3048,0.5)\n",
        "print(\"V_e: \",V_e,\"m/s\")\n",
        "sigma_Ve = Uncert*V_e\n",
        "Zp = 1.960 #Use the 95% confidence interval\n",
        "Ve_min = V_e - sigma_Ve * Zp\n",
        "Ve_max = V_e + sigma_Ve * Zp\n",
        "print(\"Erosion - Ve_min: \", Ve_min, \"V_e mean: \", V_e, \" Ve_max: \", Ve_max)"
      ],
      "metadata": {
        "colab": {
          "base_uri": "https://localhost:8080/"
        },
        "id": "vnV28RCQd8lF",
        "outputId": "4a7ea294-b363-4c48-87af-4ed13bde42fb"
      },
      "execution_count": null,
      "outputs": [
        {
          "output_type": "stream",
          "name": "stdout",
          "text": [
            "V_e:  4.4544570069309986 m/s\n",
            "Erosion - Ve_min:  2.2717730735348094 V_e mean:  4.4544570069309986  Ve_max:  6.637140940327187\n"
          ]
        }
      ]
    },
    {
      "cell_type": "code",
      "source": [
        "#Volume fluxes for each case:\n",
        "import math\n",
        "import scipy\n",
        "Diam = 0.1 #m\n",
        "Q_e = scipy.pi*V_e*Diam**2/4\n",
        "Q_c = scipy.pi*W_c*Diam**2/4\n",
        "print(\"Mean Volumetric flow rates -- Q_e: \",Q_e, \" Q_c: \",Q_c, \" m^3/s\")\n",
        "print(\"How do the critical velocity bounds vary with pipe diameter D??\")"
      ],
      "metadata": {
        "colab": {
          "base_uri": "https://localhost:8080/"
        },
        "id": "8NDqTOKh233R",
        "outputId": "c653a6d9-ad51-4796-a0b6-ce91ed248116"
      },
      "execution_count": null,
      "outputs": [
        {
          "output_type": "stream",
          "name": "stdout",
          "text": [
            "Mean Volumetric flow rates -- Q_e:  0.034985223521765016  Q_c:  0.013271470727941362  m^3/s\n",
            "How do the critical velocity bounds vary with pipe diameter D??\n"
          ]
        }
      ]
    }
  ]
}