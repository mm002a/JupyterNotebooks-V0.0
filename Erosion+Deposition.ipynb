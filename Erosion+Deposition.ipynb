{
  "nbformat": 4,
  "nbformat_minor": 0,
  "metadata": {
    "colab": {
      "name": "Erosion+Deposition.ipynb",
      "provenance": [],
      "authorship_tag": "ABX9TyMpDFJOnNJgl7L/2Nw7V0im",
      "include_colab_link": true
    },
    "kernelspec": {
      "name": "python3",
      "display_name": "Python 3"
    },
    "language_info": {
      "name": "python"
    }
  },
  "cells": [
    {
      "cell_type": "markdown",
      "metadata": {
        "id": "view-in-github",
        "colab_type": "text"
      },
      "source": [
        "<a href=\"https://colab.research.google.com/github/mm002a/JupyterNotebooks-V0.0/blob/main/Erosion%2BDeposition.ipynb\" target=\"_parent\"><img src=\"https://colab.research.google.com/assets/colab-badge.svg\" alt=\"Open In Colab\"/></a>"
      ]
    },
    {
      "cell_type": "code",
      "execution_count": 16,
      "metadata": {
        "colab": {
          "base_uri": "https://localhost:8080/"
        },
        "id": "8KQ6CiDIbc3a",
        "outputId": "647d4a53-382b-4ba6-d0a7-bb84aef4119c"
      },
      "outputs": [
        {
          "output_type": "stream",
          "name": "stdout",
          "text": [
            "W_c:  1.553161594163805 m/s\n",
            "Deposition - Wc_min:  0.7921124130235406 W_c mean:  1.553161594163805  Wc_max:  2.3142107753040695\n"
          ]
        }
      ],
      "source": [
        "#Stephenson and Thorpe AIChE Journal (2002)\n",
        "nu = 5E-6\n",
        "g=9.81\n",
        "s=(2540/1000)\n",
        "D_f = 0.3 #0.07 - S+Thorpe values\n",
        "d_P = 250E-6\n",
        "W_c = 3.43*pow(nu*g*(s-1)*D_f/d_P,0.33)\n",
        "print(\"W_c: \",W_c,\"m/s\")\n",
        "Uncert = 0.25 #Reasonable value according to Kouba\n",
        "sigma_Wc = Uncert*W_c\n",
        "Zp = 1.960\n",
        "Wc_min = W_c - sigma_Wc* Zp\n",
        "Wc_max = W_c + sigma_Wc* Zp\n",
        "print(\"Deposition - Wc_min: \", Wc_min, \"W_c mean: \",W_c ,\" Wc_max: \", Wc_max)\n",
        "#Investigate this using https://en.wikipedia.org/wiki/Distribution_of_the_product_of_two_random_variables\n",
        "#mu_XY = mu_X * mu_Y AND sigma2_XY = (sigma2_X + mu2_X)(sigma2_Y + mu2_Y) - mu2_X*mu2_Y"
      ]
    },
    {
      "cell_type": "code",
      "source": [
        "#Salama J Energy resources Tech, Trans ASME(2000)\n",
        "#Use the API RP 14E value for C\n",
        "#So this is a pretty straight forward....\n",
        "rho_m = 750\n",
        "V_e = 100*pow(rho_m,-0.5)*pow(0.4535924/0.3048,0.5)\n",
        "print(\"V_e: \",V_e,\"m/s\")\n",
        "sigma_Ve = Uncert*V_e\n",
        "Zp = 1.960 #Use the 95% confidence interval\n",
        "Ve_min = V_e - sigma_Ve * Zp\n",
        "Ve_max = V_e + sigma_Ve * Zp\n",
        "print(\"Erosion - Ve_min: \", Ve_min, \"V_e mean: \", V_e, \" Ve_max: \", Ve_max)"
      ],
      "metadata": {
        "colab": {
          "base_uri": "https://localhost:8080/"
        },
        "id": "vnV28RCQd8lF",
        "outputId": "4412e045-0142-476d-cc42-edc40cfc34f6"
      },
      "execution_count": 18,
      "outputs": [
        {
          "output_type": "stream",
          "name": "stdout",
          "text": [
            "V_e:  4.4544570069309986 m/s\n",
            "Erosion - Ve_min:  2.2717730735348094 V_e mean:  4.4544570069309986  Ve_max:  6.637140940327187\n"
          ]
        }
      ]
    }
  ]
}