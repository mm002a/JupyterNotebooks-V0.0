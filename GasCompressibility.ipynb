{
  "cells": [
    {
      "cell_type": "markdown",
      "metadata": {
        "id": "h3Maf_I61M6b"
      },
      "source": [
        "# Gas compressibility (see GasCompressibilityJT for extensions with JT cooling)\n",
        "We now investigate correlations for gas compressibility factors $Z$.\n",
        "The key sources are:\n",
        "1. Ding-Yu Peng & Donald B. Robinson, **A New Two-Constant Equation of State**, *Ind. Eng. Chem. Fundam., Vol. 15, No. 1*, 1976\n",
        "[link](https://pubs.acs.org/doi/abs/10.1021/i160057a011)\n",
        "1. Azad Jarrahian, Babak Aghel, Ehsan Heidaryan, **On the viscosity of natural gas**, *Fuel 150 Pp 609–618*, 2015 [link](https://www.sciencedirect.com/science/article/pii/S0016236115001970)\n",
        "\n",
        "## Extensions to non-ideal gases\n",
        "We start by decomposing pressure into a repulsive and attractive component motivated by non-ideal kinetic theory and an inter-molecular attractive force.\n",
        "\n",
        "$$ P = P_R + P_A = \\frac{RT}{V-b} - \\frac{a}{g(V)} $$ \n",
        "where $b$ is related to the size of the 'hard' molecules (independent of $T$), $a$ is a representation of the inter-molecular attraction (and is a function of $T$). $g(V)$ is a function of the molar volume, $V$. Peng and Robinson suggest that:\n",
        "$$P = \\frac{RT}{V-b} - \\frac{a(T)}{V(V+b)+b(V-b)} ~~~~~~~~~~~~~~~\\textsf{Eqn: PR}$$ \n",
        "\n",
        ">  *Compare Van der Waal's forces which can be written as: $\\left (P+\\frac{n^2a}{V^2} \\right ) \\left (V-nb \\right )=nRT $.\n",
        "This has the analytic solution $a=\\frac{27n^2R^2T_c^2}{64P_c}(4-3n^2)$ and $b=\\frac{RT_c}{8P_c}(4-3n^2)$. For $n=1$ we have $a=0.421875\\frac{R^2T_c^2}{P_c}$ and $b=0.125\\frac{RT_c}{P_c}$; compare the PR values obtained below.*\n",
        "\n",
        "We introduce $Z = \\frac{PV}{RT}$ we can write:\n",
        "$$Z^3 - (1-B)Z^2 + (A-3B^2 -2B) Z - (AB -B^2 - B^3) = 0$$\n",
        "where \n",
        "$ A = \\frac{aP}{(RT)^2}, B = \\frac{bP}{RT} $\n",
        "\n",
        "Of course, we can write this as:\n",
        "$$\n",
        "Z^3 - Z^2 + [ B Z^2 + (A-3B^2 -2B) Z - (AB -B^2 - B^3) ] = 0 \n",
        "$$\n",
        "which is consistant with the statement that $Z = 1$ for an ideal gas (because $ a = b = 0$ for an *ideal* gas).\n",
        "\n",
        "At the critical point we have:\n",
        "$$ \\left. \\frac{\\partial P}{\\partial V} \\right |_T = 0 ~~\\textsf{and}~~  \\left. \\frac{\\partial^2 P}{\\partial V^2} \\right |_T = 0$$ which leads to:\n",
        "$$\n",
        "a(T_c) = 0.45724 \\frac{R^2T_c^2}{P_c} , ~~b(T_c) = 0.07780 \\frac{RT_c}{P_c} ~~\\textsf{and}~~ Z_c = 0.307 \n",
        "$$\n",
        "\n",
        "At other temperatures it is reasonable to write: $b(T) = b(T_c)$ (a constant)\n",
        "and $a(T) = a(T_c)\\times\\alpha(T_r,\\omega)$ \n",
        "\n",
        "where $T_r = T/T_c$ is the reduced temperature and $\\omega$ is an 'acentric' factor; clearly we need $\\alpha(1,\\omega) \\equiv 1 ~~~~\\forall~ \\omega$.\n",
        "\n",
        "Comparison with experimental data gives:\n",
        "\\begin{align}\n",
        "\\sqrt{\\alpha} = 1 + \\kappa \\left(1 -T_r^{\\frac{1}{2}}\\right)\n",
        "\\end{align}\n",
        "with:\n",
        "$$\\kappa = 0.37464 + 1.54226\\omega - 0.26992 \\omega^2 $$\n",
        "Values of $\\omega$ can be found from this graph taken from Peng and Robinson (Figure 2).\n",
        "_(This data is also available in tabular form at: [Reid et al.](http://www.kaylaiacovino.com/Petrology_Tools/Critical_Constants_and_Acentric_Factors.htm))_\n",
        "<img src=\"https://github.com/mm002a/JupyterNotebooks-V0.0/blob/main/DocPengRobDiag.png?raw=1\" />  \n",
        "This derivation shows __the Law of Corresponding States__: all fluids behave similarly when described in terms of their reduced temperature and pressure ($T_r$ and $P_r$)."
      ]
    },
    {
      "cell_type": "markdown",
      "metadata": {
        "id": "QdNf-Cyt1M6g"
      },
      "source": [
        "__Status__ 28/4/2020\n",
        "-   Summarised the Peng and Robinson Paper.\n",
        "-   Verified the math and aritmetic at the critical point.\n",
        "   -      included notes on Van der Waal's equation\n",
        "-   Computed the compressibilities of methane and ethane (correctly?).\n",
        "Possible Extensions and Future Work.\n",
        "  -   Talk about mixtures (including mixtures with $CO_2$ and $H_2S$).  \n",
        "    Wichert, E. and Aziz, K. 1972. **Calculate Z's for Sour Gases.** Hydrocarbon Processing 51 (May): 119–122.\n",
        "    -   Talk about additional correlations.\n",
        "    -   Add sheet about equations of state and gas viscosity $\\mu_g$.\n",
        "    -   Clean-up the code and comments (in progress)\n"
      ]
    },
    {
      "cell_type": "markdown",
      "metadata": {
        "id": "NtetnmDy1M6h"
      },
      "source": [
        "## Compressibility of Methane and Ethane for the Frigg pipeline conditions."
      ]
    },
    {
      "cell_type": "code",
      "execution_count": null,
      "metadata": {
        "id": "q3kbxSyn1M6i",
        "outputId": "100b3d45-8498-4010-e425-54e1e2f9e8e6",
        "colab": {
          "base_uri": "https://localhost:8080/"
        }
      },
      "outputs": [
        {
          "output_type": "stream",
          "name": "stdout",
          "text": [
            "Z= 1.0  A= 0.0  B= 0.0 PRCubic= 0.0\n",
            "Ideal Gas (PR cubic should be 0.0): 0.0\n",
            "XARGS:  0.4572355289212813 0.07779607390386772 1\n",
            "Z= 0.30740131  A= 0.4572355289212813  B= 0.07779607390386772 PRCubic= -3.5388358909926865e-15\n",
            "Critical Point (PR cubic should be 0.0): -3.5388358909926865e-15\n",
            "\n",
            "Compressibility of Methane\n",
            "Case 9: T =: 313 K, P = 13010000.0 Pa\n",
            "The compressibility of methane at Frigg conditions is: [0.83924289]\n",
            "\n",
            "Compressibility of Ethane\n",
            "Case 9: T =: 313 K, P = 13010000.0 Pa\n",
            "The compressibility of ethane at Frigg conditions is: [0.39788793]\n"
          ]
        }
      ],
      "source": [
        "import math\n",
        "from scipy import optimize\n",
        "\n",
        "def PRZP3(Z, XARGS =[0.4572355289212813, 0.07779607390386772, 1]):\n",
        "    \"\"\"\n",
        "    Evaluate the Peng-Robinson polynomial for the non-dimensional compressibility (Z):\n",
        "    P(Z,A,B) = Z^3 -(1-B)Z^2 + (A-3B^2-2B)Z-(AB-B^2-B^3)\n",
        "    Try:\n",
        "    A=B=0 (the ideal gas case) => Z=0\n",
        "    and\n",
        "    PolyZ(0.307,0.45724,0.07780) =0 The coefficients in the PR paper evaluated at the critical point.\n",
        "    \"\"\"\n",
        "    Acap=XARGS[0]; Bcap=XARGS[1]; DEBUG=XARGS[2]\n",
        "    PRZ3 = Z**3 - (1-Bcap)*Z**2 + (Acap-3*Bcap**2 - 2*Bcap)*Z -( Acap*Bcap - Bcap**2 - Bcap**3)\n",
        "    if DEBUG: print(\"Z=\",Z,\" A=\",Acap,\" B=\",Bcap,\"PRCubic=\",PRZ3)\n",
        "    return PRZ3\n",
        "Acap=Bcap=0.0; Z=1.0\n",
        "XARGS= [Acap, Bcap,1]\n",
        "print(\"Ideal Gas (PR cubic should be 0.0):\",PRZP3(1.0, XARGS))\n",
        "Acap=0.4572355289212813 # optimal value x[1], from below\n",
        "Bcap=0.07779607390386772 # optimal value x[2], from below\n",
        "XARGS= [Acap, Bcap,1]\n",
        "print(\"XARGS: \",XARGS[0],XARGS[1],XARGS[2])\n",
        "print(\"Critical Point (PR cubic should be 0.0):\",PRZP3(0.30740131,XARGS))\n",
        "\n",
        "\n",
        "R = 8.314413 # The ideal gas constant\n",
        "print(\"\\nCompressibility of Methane\")\n",
        "#R. C. Reid, J. M. Prausnitz, & B. E. Poling, 1987, The Properties of Gases & Liquids, 4th Ed. New York: McGraw-Hill\n",
        "#    http://www.kaylaiacovino.com/Petrology_Tools/Critical_Constants_and_Acentric_Factors.htm\n",
        "\n",
        "omega = 0.0115              # acentric factor for methane\n",
        "kappa = 0.37464+1.54226*omega-0.26992*omega**2\n",
        "Tc = 191.15; Pc = 4.641E6   # Methane critical point properties\n",
        "T= 313 ; P = 13.01E6        # Frigg pipeline conditions (Case 9) Frigg - MCP01\n",
        "Tr = T/Tc; Pr = P/Pc        #Compute reduced temperature and pressure\n",
        "print(\"Case 9: T =:\",T,\"K, P =\",P,\"Pa\")\n",
        "alpha = (1+kappa*(1-math.sqrt(Tr)))**2\n",
        "Acap = (0.4572355289212813*Pr*alpha)/Tr**2 # Use improved values for A and B\n",
        "Bcap = (0.07779607390386772*Pr)/Tr\n",
        "zx=optimize.fsolve(PRZP3,[1], [Acap, Bcap,0],full_output=0)\n",
        "print(\"The compressibility of methane at Frigg conditions is:\", zx)\n",
        "#\n",
        "#\n",
        "print(\"\\nCompressibility of Ethane\")\n",
        "omega = 0.099              # acentric factor for ethane\n",
        "kappa = 0.37464+1.54226*omega-0.26992*omega**2\n",
        "Tc = 305.4; Pc = 4.88E6    # Ethane critical point properties\n",
        "T= 313 ; P = 13.01E6       # Frigg pipeline conditions (Case 9) Frigg - MCP01\n",
        "Tr = T/Tc; Pr = P/Pc       #Compute reduced temperature and pressure\n",
        "print(\"Case 9: T =:\",T,\"K, P =\",P,\"Pa\")\n",
        "alpha = (1+kappa*(1-math.sqrt(Tr)))**2\n",
        "Acap = (0.4572355289212813*Pr*alpha)/Tr**2   # Use improved values for A and B\n",
        "Bcap = (0.07779607390386772*Pr)/Tr\n",
        "zx=optimize.fsolve(PRZP3,1, [Acap, Bcap,0],full_output=0)\n",
        "print(\"The compressibility of ethane at Frigg conditions is:\", zx)"
      ]
    },
    {
      "cell_type": "markdown",
      "metadata": {
        "id": "kRREMyHP1M6k"
      },
      "source": [
        "#### Other resources\n",
        "For methane: [USGS web page](https://pubs.usgs.gov/of/2005/1451/equation.html):\n",
        "$\\omega = 0.0115, T_c = 191.15K, P_c = 4.641 MPa$\n",
        "The ideal gas constant $R = 8.314413 J mol^{-1}K^{-1}$\n",
        "\n",
        "For enthalpy diagrams of other fluids see this [on-line worksheet](https://www.questconsult.com/thermo/enthalpy_pressure_diagram.html):\n",
        "\n",
        "This data is available in tabular form at: [Reid et al.](http://www.kaylaiacovino.com/Petrology_Tools/Critical_Constants_and_Acentric_Factors.htm)\n",
        "\n",
        "Taken from:\n",
        "R. C. Reid, J. M. Prausnitz, and B. E. Poling, 1987, The Properties of Gases and Liquids, 4th Ed. New York: McGraw-Hill\n",
        "\n",
        " #### Other relevant web sites\n",
        "1.  https://engineeringunits.com/compressibility-factor-calculator-z/\n",
        "1.  https://petrowiki.org/Real_gases - poor\n",
        "3.  https://checalc.com/solved/naturalgasZ.html\n",
        "4.  https://pubs.usgs.gov/of/2005/1451/equation.html (Peng-Robinson equation of state)\n",
        "5.  http://www.kaylaiacovino.com/Petrology_Tools/Critical_Constants_and_Acentric_Factors.htm\n",
        "1.  https://engineeringunits.com/compressibility-factor-z-factor/ (Deals with mixtures e.g. Kay's rule - worth a look.)\n",
        "1.  http://www.peacesoftware.de/einigewerte/methan_e.html (Compressibility factors - and other thermodynamic properties - for a few interesting gases.)"
      ]
    },
    {
      "cell_type": "markdown",
      "metadata": {
        "id": "0BxSlcMb1M6k"
      },
      "source": [
        "## Notes on Peng Robinson coefficients at the critical point\n",
        "\n",
        "First let's evaluate the basic polynomial:\n",
        "$ PR(Z) \\equiv Z^3 - Z^2 + [ B Z^2 + (A-3B^2 -2B) Z - (AB -B^2 - B^3) ] = 0 $"
      ]
    },
    {
      "cell_type": "code",
      "execution_count": null,
      "metadata": {
        "id": "fB_EIYSI1M6l",
        "outputId": "2c244f45-78f5-4113-a1e0-8a79e99329af"
      },
      "outputs": [
        {
          "name": "stdout",
          "output_type": "stream",
          "text": [
            "Z= 1  A= 0  B= 0 ANS= 0\n",
            "Ideal Gas  0\n",
            "Z= 0.307  A= 0.45724  B= 0.0778 ANS= -2.691488000014508e-06\n",
            "Critical Point  -2.691488000014508e-06\n"
          ]
        }
      ],
      "source": [
        "def PolyZ(Z, A, B):\n",
        "    \"\"\"\n",
        "    Evaluate the Peng-Robinson polynomial for the non-dimensional compressibility (Z):\n",
        "    P(Z,A,B) = Z^3 -(1-B)Z^2 + (A-3B^2-2B)Z-(AB-B^2-B^3)\n",
        "    Validation tests:\n",
        "    A=B=0 (the ideal gas case) => Z=0\n",
        "    and\n",
        "    PolyZ(0.307,0.45724,0.07780) =0 The coefficients in the PR paper evaluated at the critical point.\n",
        "    \"\"\"\n",
        "    PZ = Z**3 - (1-B)*Z**2 + (A-3*B**2 - 2*B) *Z -( A*B - B**2 - B**3)\n",
        "    print(\"Z=\",Z,\" A=\",A,\" B=\",B,\"ANS=\",PZ)\n",
        "    return PZ\n",
        "print(\"Ideal Gas \",PolyZ(1,0,0))\n",
        "print(\"Critical Point \",PolyZ(0.307,0.45724,0.07780))"
      ]
    },
    {
      "cell_type": "markdown",
      "metadata": {
        "id": "rvn-F4dk1M6m"
      },
      "source": [
        "#### Notes on PR coefficients at the critical point - the first derivative\n",
        "<a id='Notes1'></a>\n",
        "We differentiate Eqn:PR with respect to V:\n",
        "\n",
        "\\begin{align}\n",
        "\\left . \\frac{\\partial P}{\\partial V} \\right |_T &= - \\frac{RT}{(V-b)^2} + 2a \\frac{(V + b)}{(V^2+2bV-b^2)^2}\\\\ \n",
        "\\end{align}\n",
        "\n",
        "which can be written in normalised form as:\n",
        "\\begin{align}\n",
        "- PositiveFn \\times \\frac{P^4}{(RT)^5}\\left .\\frac{\\partial P}{\\partial V} \\right |_T = \\{ 2A (Z+B)(Z-B)^2 - (Z^2 + 2BZ -B^2)^2 \\}\n",
        "\\end{align}\n",
        "\n",
        "Evaluating this at the critical point we have: \n",
        "$\n",
        "\\left .\\frac{\\partial P}{\\partial V} \\right |_T = 0 \n",
        "$\n",
        "which is satisfied by the coefficients and value given above."
      ]
    },
    {
      "cell_type": "code",
      "execution_count": null,
      "metadata": {
        "id": "nW_AmrVR1M6m",
        "outputId": "cdfceedc-f174-4951-e357-e739398f0b27"
      },
      "outputs": [
        {
          "name": "stdout",
          "output_type": "stream",
          "text": [
            "Gradient at Critical Point  -7.684081830341971e-07\n",
            "Gradient at Critical Point  1.290313487653516e-08\n"
          ]
        }
      ],
      "source": [
        "def DPolyZ(Z,A,B):\n",
        "    \"\"\"\n",
        "    This function evaluates the RHS of the above equation for DP/DV.\n",
        "    Usage: DPolyZ(Z-compressibility, A, B - non-dimensional constants from Peng Robinson)\n",
        "    Validation test: It should be zero at the critical point.\n",
        "    \"\"\"\n",
        "    DPZ = 2*A*(Z+B)*(Z-B)**2 - (Z**2 + 2*B*Z - B**2)**2\n",
        "    return DPZ\n",
        "print(\"Gradient at Critical Point \",DPolyZ(0.307,0.45724,0.07780))\n",
        "print(\"Gradient at Critical Point \",DPolyZ(3.07401e-01,4.57236e-01,7.77961e-02))"
      ]
    },
    {
      "cell_type": "markdown",
      "metadata": {
        "id": "HkMZymV_1M6n"
      },
      "source": [
        "#### Notes on PR coefficients at the critical point - the second derivative\n",
        "\n",
        "We differentiate Eqn:PR **twice** wrt V:\n",
        "\n",
        "\\begin{align}\n",
        "\\left . \\frac{\\partial^2 P}{\\partial V^2} \\right |_T &= \\frac{2RT}{(V-b)^3} - 2a \\frac{(3V^2+6BV + 5b^2)}{(V^2+2bV-b^2)^3}\\\\ \n",
        "\\end{align}\n",
        "\n",
        "which can be written in normalised form as:\n",
        "\\begin{align}\n",
        "- 𝑃𝑜𝑠𝑖𝑡𝑖𝑣𝑒𝐹𝑛 \\times \\frac{RT^2}{P^3}\\left .\\frac{\\partial^2 P}{\\partial V^2} \\right |_T &= \n",
        "2\\left \\{ -A \\frac{3Z^2+6BZ+5B^2}{(Z^2+2BZ - B^2)^3}  + \\frac{1}{(Z-B)^3} \\right \\}\\\\\n",
        "&=\\left \\{ \\frac{1}{(Z-B)^3} - A \\frac{3Z^2+6BZ+5B^2}{(Z^2+2BZ - B^2)^3} \\right \\}\n",
        "\\end{align}\n",
        "\n",
        "Evaluating this at the critical point we have: \n",
        "$\n",
        "\\left .\\frac{\\partial^2 P}{\\partial V^2} \\right |_T = 0 \n",
        "$\n",
        "which is satisfied by the coefficients and value given above."
      ]
    },
    {
      "cell_type": "code",
      "execution_count": null,
      "metadata": {
        "id": "l9dL96Bx1M6n",
        "outputId": "f00ed738-c293-44c0-fa36-d55087039b40"
      },
      "outputs": [
        {
          "name": "stdout",
          "output_type": "stream",
          "text": [
            "Second Gradient at Critical Point  0.04366953294452003 That's quite small?\n",
            "Second Gradient at Critical Point  -1.7917987406690372e-05 Very sensitive to rounding!\n"
          ]
        }
      ],
      "source": [
        "def D2PolyZ(Z,A,B):\n",
        "    \"\"\"A function to evaluate a multiple of D^2P/DV^2 of the PR equation\"\"\"\n",
        "    D2PZ = 1/(Z-B)**3 - A*(3*Z**2+6*B*Z+5*B**2)/(Z**2+2*B*Z-B**2)**3\n",
        "    return D2PZ\n",
        "print(\"Second Gradient at Critical Point \",D2PolyZ(0.307,0.45724,0.07780),\"That's quite small?\")\n",
        "print(\"Second Gradient at Critical Point \",D2PolyZ(3.07401e-01,4.57236e-01,7.77961e-02),\"Very sensitive to rounding!\")"
      ]
    },
    {
      "cell_type": "code",
      "execution_count": null,
      "metadata": {
        "id": "wCRrrFGz1M6o",
        "outputId": "6aa06174-4d3d-4888-b4da-604c55d5681a"
      },
      "outputs": [
        {
          "name": "stdout",
          "output_type": "stream",
          "text": [
            "Validation - compressibility for an ideal gas:\n",
            "x:  [1.0, 0, 0] 1.0 0 0\n",
            "Validation for PR values (close to critical point) x:  [0.307, 0.45724, 0.0778] 0.307 0.45724 0.0778\n",
            "                                   F:  [-2.691488000014508e-06, -7.684081830341971e-07, 0.04366953294452003]\n",
            "Behaviour at the critical point - confirms PR result (Eqns. 9,10,11)\n",
            "optimize.fsolve [Z,A,B] [0.30740131 0.45723553 0.07779607] [PR(Z),DP,D^2P] [-3.5388358909926865e-15, 8.396061623727746e-16, -3.1874947126198094e-11]\n",
            "2.5 optimize.fsolve [Z,A,B] [0.30740131 0.45723553 0.07779607] [PR(Z),DP,D^2P] -3.54e-15 8.40e-16 -3.19e-11 \n",
            "4   optimize.fsolve [Z,A,B] [0.30740131 0.45723553 0.07779607] [PR(Z),DP,D^2P] [-3.5388358909926865e-15, 8.396061623727746e-16, -3.1874947126198094e-11]\n"
          ]
        }
      ],
      "source": [
        "from scipy import optimize\n",
        "def func(x):\n",
        "    \"\"\"\n",
        "    A function to evaluate a scaled function of P, DP/DV, D2P/DV2\n",
        "    when written in the Peng-Robinson notation of:\n",
        "    Z,A,B\n",
        "    \"\"\"\n",
        "    DEBUG = 0 # 0 => FALSE\n",
        "#First switch to normal (PR) notation\n",
        "    Z=x[0]; A=x[1] ; B=x[2]\n",
        "    F=[1.0,1.0,1.0] # Initialise to some easy to recognize value\n",
        "#    print(\"Z,A,B: \",Z,A,B)\n",
        "#Calculate P\n",
        "    F[0] = Z**3 - (1-B)*Z**2 +(A-3*B**2-2*B)*Z - (A*B-B**2-B**3)\n",
        "#Calculate DP/DV\n",
        "    F[1] = 2*A*(Z+B)*(Z-B)**2 - (Z**2 + 2*B*Z - B**2)**2\n",
        "#Calculate D2P/DV2\n",
        "    F[2] = 1/(Z-B)**3 - A*(3*Z**2+6*B*Z+5*B**2)/(Z**2+2*B*Z-B**2)**3\n",
        "    \n",
        "    if DEBUG: print(\"Z,A,B: \",'{:12.5e}'.format(Z),'{:12.5e}'.format(A),'{:12.5e}'.format(B),\n",
        "          \"   F: \",'{:8.2e}'.format(F[0]),\" DP/DV:\",'{:8.1e}'.format(F[1]),\"D2P/DV2:\",'{:8.1e}'.format(F[2]))\n",
        "\n",
        "    return F\n",
        "\n",
        "print(\"Validation - compressibility for an ideal gas:\")\n",
        "x=x0 = [1.0,0,0]\n",
        "print(\"x: \",x, x[0],x[1],x[2])\n",
        "x=x0 = [0.307,0.45724,0.07780]\n",
        "print(\"Validation for PR values (close to critical point) x: \",x, x[0],x[1],x[2])\n",
        "\n",
        "FN = func(x0)\n",
        "print(\"                                   F: \",FN)\n",
        "\n",
        "print(\"Behaviour at the critical point - confirms PR result (Eqns. 9,10,11)\")\n",
        "x=optimize.fsolve(func,x0,full_output=0)\n",
        "print(\"optimize.fsolve [Z,A,B]\",x,\"[PR(Z),DP,D^2P]\",func(x))\n",
        "fstring = '{:8.2E}'\n",
        "print(\"2.5 optimize.fsolve [Z,A,B]\",x,\"[PR(Z),DP,D^2P]\",end=' ');\n",
        "for i in range (0,3): print('{:8.2e}'.format(func(x)[i]), end=' ')\n",
        "print()\n",
        "print(\"4   optimize.fsolve [Z,A,B]\",x,\"[PR(Z),DP,D^2P]\",func(x))"
      ]
    },
    {
      "cell_type": "markdown",
      "metadata": {
        "id": "rhKOUKd11M6o"
      },
      "source": [
        "### Summary\n",
        "\n",
        "These results show that the coefficients given in the Peng Robinson paper follow directly form the analysis of the gas behaviour around the critical point. Although the results are sensitive to exact values four decimal places for $b(T_cr)$ has a significant effect on the value of $\\left . \\frac{\\partial ^2 P}{\\partial V^2} \\right |_T$"
      ]
    },
    {
      "cell_type": "markdown",
      "metadata": {
        "id": "LJHIy1DC1M6p"
      },
      "source": [
        "### CNGA compressibility factor\n",
        "\n",
        "The California Natural Gas Association gives the following simple formula for the compressibility of natural gas:\n",
        "$$\n",
        "Z = \\left [ 1+ \\frac{3.44400\\mathrm{E}5 \\times \\overline{P}_{psi~g} \\times 10^{1.785\\gamma}}{\\overline{T}_R^{~3.825}} \\right ]^{~-1}\n",
        "$$\n",
        "in field units(!):\n",
        "$\\overline{P}_{psi~g}$ -- average gas pressure in psig; $\\overline{T}_R$ -- average gas temperature in $ ^\\circ R$ and $\\gamma$ -- specific gravity of the gas. This gives reasonable accuracy for pressures over 100psig ($\\approx 0.69MPa$); below this pressure we can take $Z \\equiv 1$.\n",
        "\n",
        "Converting this to SI units, we obtain:\n",
        "$$\n",
        "Z = \n",
        "\\left [ 1+  \\frac{344\\,400}{6894.75728} \\left ( \\frac{5}{9}\\right )^{3.825} \\frac{  \\overline{P}_{Pa~g} \\times 10^{1.785\\gamma}}{\\overline{T}_{K}^{~3.825}} \\right ]^{~-1}\n",
        "  = \\left [ 1+ \\frac{ 5.273838529 \\times\\overline{P}_{Pa~g} \\times 10^{1.785\\gamma}}{\\overline{T}_{K}^{~3.825}} \\right ]^{~-1}\n",
        "$$\n",
        "where: $\\overline{P}_{Pa~g}$ -- average gas (gauge) pressure in Pa; $\\overline{T}_K$ -- average gas temperature in $K$ and $\\gamma$ -- specific gravity of the gas."
      ]
    },
    {
      "cell_type": "code",
      "execution_count": null,
      "metadata": {
        "id": "QxEulD6M1M6p",
        "outputId": "8c407e23-91f5-486e-a517-53ee494758ef"
      },
      "outputs": [
        {
          "name": "stdout",
          "output_type": "stream",
          "text": [
            "[0.83924289] Should be: 0.83924289\n"
          ]
        }
      ],
      "source": [
        "import math\n",
        "from scipy import optimize\n",
        "def PengRComp(T, P, omega = 0.0115,Tc = 191.15, Pc = 4.641E6, DEBUG=0):\n",
        "    \"\"\"\n",
        "    A function to evaluate the compressibility of a gas using Peng Robinson.\n",
        "    Default values are for methane.\n",
        "    Usage: PengRComp(Temp[K], Press[Pa}, omega(acentric factor),Temp(crit pt), Pres(crit pt), DEBUG(0=>False))\n",
        "    \"\"\"\n",
        "\n",
        "    kappa = 0.37464+1.54226*omega-0.26992*omega**2\n",
        "\n",
        "    Tr = T/Tc; Pr = P/Pc        #Compute reduced temperature and pressure\n",
        "    alpha = (1+kappa*(1-math.sqrt(Tr)))**2\n",
        "    Acap = (0.4572355289212813*Pr*alpha)/Tr**2 # Use improved values for A and B\n",
        "    Bcap = (0.07779607390386772*Pr)/Tr\n",
        "    PRZ=optimize.fsolve(PRZP3,1,[Acap,Bcap,DEBUG],full_output=0)\n",
        "    if DEBUG: print(\"PengRComp - omega: \",omega, \"T: \", T,\" P: \", P,\" Z: \", PRZ)\n",
        "    return PRZ\n",
        "T= 313 ; P = 13.01E6 \n",
        "PRZX=PengRComp(T,P,DEBUG=0)\n",
        "print(PRZX, \"Should be: 0.83924289\")\n"
      ]
    },
    {
      "cell_type": "code",
      "execution_count": null,
      "metadata": {
        "id": "OQzU3YHc1M6q"
      },
      "outputs": [],
      "source": [
        "import matplotlib.pyplot as plt\n",
        "import numpy as np\n",
        "%matplotlib inline\n",
        "# evenly sampled time at 200ms intervals\n",
        "t = np.arange(-.1, 2.0, 0.05)\n",
        "zero = t*0\n",
        "# red dashes, blue squares and green triangles\n",
        "print(\"Acap: \",Acap,\" Bcap: \", Bcap)\n",
        "plt.plot(t, PRZP3(t,[Acap,Bcap,0]),t,zero,)\n",
        "#plt.ylabel('PR polynomial')\n",
        "#plt.xlabel('Compressibility - Z')\n",
        "plt.show()"
      ]
    },
    {
      "cell_type": "code",
      "execution_count": null,
      "metadata": {
        "id": "zzugm0Ks1M6q",
        "outputId": "4587c689-b49a-449b-b334-d680c175bf2c"
      },
      "outputs": [
        {
          "name": "stdout",
          "output_type": "stream",
          "text": [
            "Acap:  1.145493977613641  Bcap:  0.20236707289506495\n"
          ]
        },
        {
          "data": {
            "image/png": "[encoded data removed]",
            "text/plain": [
              "<Figure size 432x288 with 1 Axes>"
            ]
          },
          "metadata": {
            "needs_background": "light"
          },
          "output_type": "display_data"
        }
      ],
      "source": [
        "import matplotlib.pyplot as plt\n",
        "import numpy as np\n",
        "%matplotlib inline\n",
        "# evenly sampled time at 200ms intervals\n",
        "t = np.arange(-1.0,1.0, 0.05)\n",
        "TEMP = 313+50*t\n",
        "PRTEMP=zero = t*0\n",
        "for index in range (len(TEMP)):\n",
        "    PRTEMP[index]=PengRComp(TEMP[index],P,DEBUG=0)\n",
        "# red dashes, blue squares and green triangles\n",
        "print(\"Acap: \",Acap,\" Bcap: \", Bcap)\n",
        "plt.plot(TEMP, PRTEMP,TEMP,zero,)\n",
        "plt.xlabel('Temperature (K)')\n",
        "plt.ylabel('Compressibility - Z')\n",
        "plt.show()"
      ]
    },
    {
      "cell_type": "code",
      "execution_count": null,
      "metadata": {
        "id": "I0tePCZA1M6q"
      },
      "outputs": [],
      "source": [
        ""
      ]
    }
  ],
  "metadata": {
    "kernelspec": {
      "display_name": "Python 3",
      "language": "python",
      "name": "python3"
    },
    "language_info": {
      "codemirror_mode": {
        "name": "ipython",
        "version": 3
      },
      "file_extension": ".py",
      "mimetype": "text/x-python",
      "name": "python",
      "nbconvert_exporter": "python",
      "pygments_lexer": "ipython3",
      "version": "3.7.8"
    },
    "colab": {
      "name": "GasCompressibility.ipynb",
      "provenance": []
    }
  },
  "nbformat": 4,
  "nbformat_minor": 0
}