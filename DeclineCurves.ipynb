{
  "nbformat": 4,
  "nbformat_minor": 0,
  "metadata": {
    "colab": {
      "name": "DeclineCurves.ipynb",
      "provenance": [],
      "authorship_tag": "ABX9TyPEc8s8JhmnS+AemBRLY/fq",
      "include_colab_link": true
    },
    "kernelspec": {
      "name": "python3",
      "display_name": "Python 3"
    },
    "language_info": {
      "name": "python"
    }
  },
  "cells": [
    {
      "cell_type": "markdown",
      "metadata": {
        "id": "view-in-github",
        "colab_type": "text"
      },
      "source": [
        "<a href=\"https://colab.research.google.com/github/mm002a/JupyterNotebooks-V0.0/blob/main/DeclineCurves.ipynb\" target=\"_parent\"><img src=\"https://colab.research.google.com/assets/colab-badge.svg\" alt=\"Open In Colab\"/></a>"
      ]
    },
    {
      "cell_type": "code",
      "execution_count": null,
      "metadata": {
        "colab": {
          "base_uri": "https://localhost:8080/"
        },
        "id": "Ls4OwjMac85M",
        "outputId": "f9429efa-a5dc-486e-a6b0-ff0f0a46379c"
      },
      "outputs": [
        {
          "output_type": "stream",
          "name": "stdout",
          "text": [
            "Collecting pytexit\n",
            "  Downloading pytexit-0.3.4-py2.py3-none-any.whl (24 kB)\n",
            "Requirement already satisfied: six in /usr/local/lib/python3.7/dist-packages (from pytexit) (1.15.0)\n",
            "Installing collected packages: pytexit\n",
            "Successfully installed pytexit-0.3.4\n"
          ]
        }
      ],
      "source": [
        "pip install pytexit"
      ]
    },
    {
      "cell_type": "code",
      "source": [
        "from pytexit import py2tex"
      ],
      "metadata": {
        "id": "JM4yKYkYdEk6"
      },
      "execution_count": null,
      "outputs": []
    },
    {
      "cell_type": "code",
      "source": [
        "py2tex('y=pow(x,2)')"
      ],
      "metadata": {
        "colab": {
          "base_uri": "https://localhost:8080/",
          "height": 74
        },
        "id": "1v7mn3O2dS3J",
        "outputId": "68949625-dfcf-4170-d591-53cbeb122634"
      },
      "execution_count": null,
      "outputs": [
        {
          "output_type": "display_data",
          "data": {
            "text/plain": [
              "<IPython.core.display.Latex object>"
            ],
            "text/latex": "$$y=\\operatorname{pow}\\left(x, 2\\right)$$"
          },
          "metadata": {}
        },
        {
          "output_type": "stream",
          "name": "stdout",
          "text": [
            "$$y=\\operatorname{pow}\\left(x, 2\\right)$$\n"
          ]
        },
        {
          "output_type": "execute_result",
          "data": {
            "text/plain": [
              "'$$y=\\\\operatorname{pow}\\\\left(x, 2\\\\right)$$'"
            ],
            "application/vnd.google.colaboratory.intrinsic+json": {
              "type": "string"
            }
          },
          "metadata": {},
          "execution_count": 6
        }
      ]
    },
    {
      "cell_type": "code",
      "source": [
        "#Exponential decline\n",
        "import math\n",
        "def Tot_prod_exp (q_init=1,d_init=0.1,b=0,T=10):\n",
        "  print(\"Exponential decline:\")\n",
        "  Tot_prod = -q_init*(1-pow((1-d_init),T))/math.log(1-d_init)\n",
        "  print(\"q_init: \",q_init,\"d_init: \",d_init,\" b: \",b,\" T: \",T)\n",
        "  return Tot_prod\n",
        "def Tot_prod_hyper (q_init=1,d_init=0.1,b=0,T=10):\n",
        "  print(\"Hyperbolic decline:\")\n",
        "  Tot_prod = -q_init*(1-pow((1-d_init),T))/math.log(1-d_init)\n",
        "  print(\"q_init: \",q_init,\"d_init: \",d_init,\" b: \",b,\" T: \",T)\n",
        "  return Tot_prod\n",
        "print(\"test of log10: \",math.log10(10),\" e: \",math.e,\" ln: \",math.log(math.e))\n",
        "Tot_prod_exp(T=10)\n",
        "Tot_prod_hyper(T=10)"
      ],
      "metadata": {
        "colab": {
          "base_uri": "https://localhost:8080/"
        },
        "id": "Y0nn6dXZkBRa",
        "outputId": "a657aefd-d8c7-4128-9b8a-40b22f59c762"
      },
      "execution_count": null,
      "outputs": [
        {
          "output_type": "stream",
          "name": "stdout",
          "text": [
            "test of log10:  1.0  e:  2.718281828459045  ln:  1.0\n",
            "Exponential decline:\n",
            "q_init:  1 d_init:  0.1  b:  0  T:  10\n",
            "Hyperbolic decline:\n",
            "q_init:  1 d_init:  0.1  b:  0  T:  10\n"
          ]
        },
        {
          "output_type": "execute_result",
          "data": {
            "text/plain": [
              "6.181837245512941"
            ]
          },
          "metadata": {},
          "execution_count": 11
        }
      ]
    },
    {
      "cell_type": "code",
      "source": [
        "#Data from: https://faculty.ksu.edu.sa/sites/default/files/Production Decline Analysis.pdf Table 8-1\n",
        "import matplotlib.pyplot as plt\n",
        "q_STBpD = [904.84, 818.73, 740.82, 670.32, 606.53, 548.81, 496.59, 449.33, 406.57, 367.88, 332.87, 301.19, 272.53, 246.60, 223.13, 201.90, 182.68, 165.30, 149.57, 135.34, 122.46, 110.80, 100.26, 90.72]\n",
        "print(q_STBpD)\n",
        "plt(q_STBpD)"
      ],
      "metadata": {
        "id": "10KwAjpEYEq7"
      },
      "execution_count": null,
      "outputs": []
    }
  ]
}