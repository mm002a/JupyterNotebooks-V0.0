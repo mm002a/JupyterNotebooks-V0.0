{
  "nbformat": 4,
  "nbformat_minor": 0,
  "metadata": {
    "colab": {
      "name": "DeclineCurves.ipynb",
      "provenance": [],
      "authorship_tag": "ABX9TyNRDsi6+Q3TFXGFqSNP4xTM",
      "include_colab_link": true
    },
    "kernelspec": {
      "name": "python3",
      "display_name": "Python 3"
    },
    "language_info": {
      "name": "python"
    }
  },
  "cells": [
    {
      "cell_type": "markdown",
      "metadata": {
        "id": "view-in-github",
        "colab_type": "text"
      },
      "source": [
        "<a href=\"https://colab.research.google.com/github/mm002a/JupyterNotebooks-V0.0/blob/main/DeclineCurves.ipynb\" target=\"_parent\"><img src=\"https://colab.research.google.com/assets/colab-badge.svg\" alt=\"Open In Colab\"/></a>"
      ]
    },
    {
      "cell_type": "code",
      "execution_count": 20,
      "metadata": {
        "colab": {
          "base_uri": "https://localhost:8080/"
        },
        "id": "Ls4OwjMac85M",
        "outputId": "9f2036a7-0d9c-452f-e09d-84b0b606080d"
      },
      "outputs": [
        {
          "output_type": "stream",
          "name": "stdout",
          "text": [
            "Collecting pytexit\n",
            "  Downloading pytexit-0.4.0-py2.py3-none-any.whl (24 kB)\n",
            "Requirement already satisfied: six in /usr/local/lib/python3.7/dist-packages (from pytexit) (1.15.0)\n",
            "Installing collected packages: pytexit\n",
            "Successfully installed pytexit-0.4.0\n"
          ]
        }
      ],
      "source": [
        "pip install pytexit"
      ]
    },
    {
      "cell_type": "code",
      "source": [
        "from pytexit import py2tex"
      ],
      "metadata": {
        "id": "JM4yKYkYdEk6"
      },
      "execution_count": 22,
      "outputs": []
    },
    {
      "cell_type": "code",
      "source": [
        "py2tex('Tot_prod = (1-pow(1+b*d_init*T,(b/(1-b))))*q_init/(d_init*(1-b))')"
      ],
      "metadata": {
        "colab": {
          "base_uri": "https://localhost:8080/",
          "height": 97
        },
        "id": "1v7mn3O2dS3J",
        "outputId": "7e030c8f-7529-4adf-b3b3-4e56f2c5699a"
      },
      "execution_count": 23,
      "outputs": [
        {
          "output_type": "display_data",
          "data": {
            "text/plain": [
              "<IPython.core.display.Latex object>"
            ],
            "text/latex": "$$Tot_{prod}=\\frac{\\left(1-\\left(1+b d_{init} T\\right)^{\\frac{b}{1-b}}\\right) q_{init}}{d_{init} \\left(1-b\\right)}$$"
          },
          "metadata": {}
        },
        {
          "output_type": "stream",
          "name": "stdout",
          "text": [
            "$$Tot_{prod}=\\frac{\\left(1-\\left(1+b d_{init} T\\right)^{\\frac{b}{1-b}}\\right) q_{init}}{d_{init} \\left(1-b\\right)}$$\n"
          ]
        },
        {
          "output_type": "execute_result",
          "data": {
            "text/plain": [
              "'$$Tot_{prod}=\\\\frac{\\\\left(1-\\\\left(1+b d_{init} T\\\\right)^{\\\\frac{b}{1-b}}\\\\right) q_{init}}{d_{init} \\\\left(1-b\\\\right)}$$'"
            ],
            "application/vnd.google.colaboratory.intrinsic+json": {
              "type": "string"
            }
          },
          "metadata": {},
          "execution_count": 23
        }
      ]
    },
    {
      "cell_type": "code",
      "source": [
        "#Exponential decline\n",
        "import math\n",
        "def Tot_prod_exp (q_init=1,d_init=0.1,b=0,T=10):\n",
        "  \"\"\"\n",
        "  Compute the total production for a well with an exponential decline curve\n",
        "  Tot_prod_exp (q_init=1,d_init=0.1,b=0,T=10)\n",
        "  q_init: the initial production, d_init: the initial decline rate, \n",
        "  b: dummy variable, T: the time period\n",
        "  \"\"\"\n",
        "  print(\"Exponential decline:\")\n",
        "  Tot_prod = -q_init*(1-pow((1-d_init),T))/math.log(1-d_init)\n",
        "  print(\"q_init: \",q_init,\"d_init: \",d_init,\" b: \",b,\" Time: \",T)\n",
        "  return Tot_prod\n",
        "def Tot_prod_hyper (q_init=1,d_init=0.1,b=0.5,T=10):\n",
        "  \"\"\"\n",
        "  Compute the total production for a well with a hyperbolic decline curve\n",
        "  Tot_prod_exp (q_init=1,d_init=0.1,b=0.5,T=10)\n",
        "  q_init: the initial production, d_init: the initial decline rate, \n",
        "  b: model parameter (0->exponential, 1->harmonic), T: the time period\n",
        "  \"\"\"\n",
        "  print(\"Hyperbolic decline:\")\n",
        "  print(\"1+bd\")\n",
        "  Tot_prod = (1-pow(1+b*d_init*T,(b/(1-b))))*q_init/(d_init*(1-b))\n",
        "  print(\"q_init: \",q_init,\"d_init: \",d_init,\" b: \",b,\" T: \",T)\n",
        "  return Tot_prod\n",
        "print(\"Test of log10: \",math.log10(10),\" e: \",math.e,\" ln: \",math.log(math.e))\n",
        "print(\"Tot Prod(exponential decline): \",Tot_prod_exp(T=12))\n",
        "print(\"Tot Prod(hyperbolic decline): \",Tot_prod_hyper(T=12))"
      ],
      "metadata": {
        "colab": {
          "base_uri": "https://localhost:8080/"
        },
        "id": "Y0nn6dXZkBRa",
        "outputId": "379b700f-4b57-4599-dc26-d6e51661da7f"
      },
      "execution_count": 18,
      "outputs": [
        {
          "output_type": "stream",
          "name": "stdout",
          "text": [
            "Test of log10:  1.0  e:  2.718281828459045  ln:  1.0\n",
            "Exponential decline:\n",
            "q_init:  1 d_init:  0.1  b:  0  Time:  12\n",
            "Tot Prod(exponential decline):  6.810620269261164\n",
            "Hyperbolic decline:\n",
            "q_init:  1 d_init:  0.1  b:  0.5  T:  12\n",
            "Tot Prod(hyperbolic decline):  -12.000000000000002\n"
          ]
        }
      ]
    },
    {
      "cell_type": "code",
      "source": [
        "import numpy as np\n",
        "import matplotlib.pyplot as plt\n",
        "#Exponential decay Table 8-1 from https://faculty.ksu.edu.sa/sites/default/files/Production Decline Analysis.pdf\n",
        "q = [904.84, 818.73, 740.82, 670.32, 606.53, 548.81, 496.59, 449.33, 406.57, 367.88, 332.87, 301.19, 272.53, 246.60, 223.13,\n",
        "     201.90, 182.68, 165.30, 149.57, 135.34, 122.46, 110.80, 100.26, 90.72]\n",
        "print(\"q: \",q)\n",
        "x = list(range(1,25))\n",
        "#https://pythonguides.com/matplotlib-two-y-axes/\n",
        "fig, ax1 = plt.subplots() \n",
        "\n",
        "ax1.set_title('Exponential decay')  \n",
        "ax1.set_xlabel('Month') \n",
        "ax1.set_ylabel('q', color = 'black') \n",
        "plot_1 = ax1.plot(x, q, color = 'black') \n",
        "ax1.tick_params(axis ='y', labelcolor = 'black') \n",
        "\n",
        "# Adding Twin Axes\n",
        "\n",
        "ax2 = ax1.twinx() \n",
        "  \n",
        "ax2.set_ylabel('ln(q)', color = 'green') \n",
        "plot_2 = ax2.plot(x, np.log(q), color = 'green') \n",
        "ax2.tick_params(axis ='y', labelcolor = 'green') \n",
        "\n",
        "# Show plot\n",
        "\n",
        "plt.show()\n",
        "#\n"
      ],
      "metadata": {
        "colab": {
          "base_uri": "https://localhost:8080/",
          "height": 332
        },
        "id": "-i868T8qI9O_",
        "outputId": "282a0176-c073-47c7-dc81-58f2615e3515"
      },
      "execution_count": 13,
      "outputs": [
        {
          "output_type": "stream",
          "name": "stdout",
          "text": [
            "q:  [904.84, 818.73, 740.82, 670.32, 606.53, 548.81, 496.59, 449.33, 406.57, 367.88, 332.87, 301.19, 272.53, 246.6, 223.13, 201.9, 182.68, 165.3, 149.57, 135.34, 122.46, 110.8, 100.26, 90.72]\n"
          ]
        },
        {
          "output_type": "display_data",
          "data": {
            "text/plain": [
              "<Figure size 432x288 with 2 Axes>"
            ],
            "image/png": "[encoded data removed]"
          },
          "metadata": {
            "needs_background": "light"
          }
        }
      ]
    },
    {
      "cell_type": "code",
      "source": [
        "import numpy as np\n",
        "import matplotlib.pyplot as plt\n",
        "from array import array\n",
        "#Harmonic decay Table 8-2 from https://faculty.ksu.edu.sa/sites/default/files/Production Decline Analysis.pdf\n",
        "#Just typing data!q = [9.29, 0.30, 8.98, 0.40, 8.68, 0.50, 8.40, 0.60, 8.14, 0.70, 7.90, 0.80, 7.67, 0.90, 7.45, 1.00, 7.25, 1.10, 7.05, 1.20, 6.87, 1.30, 6.69, 1.40, 6.53, \n",
        "#     1.50, 6.37, 1.60, 6.22, 1.70, 6.08, 1.80, 5.94, 1.90, 5.81, 2.00, 5.68,\n",
        "#     2.10, 5.56, 2.20, 5.45, 2.30, 5.34, 2.40, 5.23, 2.50, 5.13, 2.60, 5.03, 2.70, 4.94, 2.80, 4.84]\n",
        "#print(\"q: \",q)\n",
        "#q1 = q[0:54:2]\n",
        "#print(\"q1: \",q1)\n",
        "#q2 =[4.76, 4.67, 4.59, 4.51, 4.44, 4.36, 4.29, 4.22, 4.16, 4.09, 4.03]\n",
        "#qall = np.append(q1,q2)\n",
        "#print(\"qall: \",qall)\n",
        "#\n",
        "qall = [9.29, 8.98, 8.68, 8.4, 8.14, 7.9, 7.67, 7.45, 7.25, 7.05, 6.87, 6.69, 6.53, 6.37, 6.22, 6.08, 5.94, 5.81, 5.68,\n",
        "        5.56, 5.45, 5.34, 5.23, 5.13, 5.03, 4.94, 4.84, 4.76, 4.67, 4.59, 4.51, 4.44, 4.36, 4.29, 4.22, 4.16, 4.09, 4.03]\n",
        "x = np.arange(0.2, 4.0, 0.1)\n",
        "#print(\"x: \",x)\n",
        "#https://pythonguides.com/matplotlib-two-y-axes/\n",
        "fig, ax1 = plt.subplots() \n",
        "\n",
        "ax1.set_title('Harmonic decay')  \n",
        "ax1.set_xlabel('Month') \n",
        "ax1.set_ylabel('q', color = 'black') \n",
        "plot_1 = ax1.plot(x, qall, color = 'black') \n",
        "ax1.tick_params(axis ='y', labelcolor = 'black') \n",
        "\n",
        "# Adding Twin Axes\n",
        "\n",
        "ax2 = ax1.twinx() \n",
        "  \n",
        "ax2.set_ylabel('ln(q)', color = 'green') \n",
        "#\n",
        "xt = np.arange(0.2, 3.9, 0.1)\n",
        "print(xt)\n",
        "Dq = np.zeros(37)\n",
        "for i in range(37):\n",
        "    Dq[i] = (qall[i+1]-qall[i])/(qall[i]*xt[i])\n",
        "print(Dq)\n",
        "#\n",
        "plot_2 = ax2.plot(x, np.log(qall), color = 'green') \n",
        "ax2.tick_params(axis ='y', labelcolor = 'green') \n",
        "\n",
        "# Show plot\n",
        "\n",
        "plt.show()\n",
        "#\n"
      ],
      "metadata": {
        "colab": {
          "base_uri": "https://localhost:8080/",
          "height": 469
        },
        "id": "tQ7P0gfBN8Xd",
        "outputId": "9715bb02-c528-41f9-bbb2-8f31b5ac5c68"
      },
      "execution_count": 36,
      "outputs": [
        {
          "output_type": "stream",
          "name": "stdout",
          "text": [
            "[0.2 0.3 0.4 0.5 0.6 0.7 0.8 0.9 1.  1.1 1.2 1.3 1.4 1.5 1.6 1.7 1.8 1.9\n",
            " 2.  2.1 2.2 2.3 2.4 2.5 2.6 2.7 2.8 2.9 3.  3.1 3.2 3.3 3.4 3.5 3.6 3.7\n",
            " 3.8]\n",
            "[-0.16684607 -0.11135857 -0.08064516 -0.06190476 -0.04914005 -0.04159132\n",
            " -0.03585398 -0.02982849 -0.02758621 -0.02321083 -0.02183406 -0.01839715\n",
            " -0.01750164 -0.01569859 -0.01406752 -0.01354489 -0.01215862 -0.01177643\n",
            " -0.01056338 -0.00942103 -0.00917431 -0.0089562  -0.00796686 -0.00779727\n",
            " -0.00688179 -0.00749738 -0.00590319 -0.00651985 -0.00571021 -0.00562232\n",
            " -0.00485033 -0.00546001 -0.00472207 -0.004662   -0.00394945 -0.00454782\n",
            " -0.00386051]\n"
          ]
        },
        {
          "output_type": "display_data",
          "data": {
            "text/plain": [
              "<Figure size 432x288 with 2 Axes>"
            ],
            "image/png": "[encoded data removed]"
          },
          "metadata": {
            "needs_background": "light"
          }
        }
      ]
    }
  ]
}