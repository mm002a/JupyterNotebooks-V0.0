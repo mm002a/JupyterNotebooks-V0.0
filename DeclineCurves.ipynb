{
  "nbformat": 4,
  "nbformat_minor": 0,
  "metadata": {
    "colab": {
      "name": "DeclineCurves.ipynb",
      "provenance": [],
      "authorship_tag": "ABX9TyMa/qx5milkK/Za9b+QwWBu",
      "include_colab_link": true
    },
    "kernelspec": {
      "name": "python3",
      "display_name": "Python 3"
    },
    "language_info": {
      "name": "python"
    }
  },
  "cells": [
    {
      "cell_type": "markdown",
      "metadata": {
        "id": "view-in-github",
        "colab_type": "text"
      },
      "source": [
        "<a href=\"https://colab.research.google.com/github/mm002a/JupyterNotebooks-V0.0/blob/main/DeclineCurves.ipynb\" target=\"_parent\"><img src=\"https://colab.research.google.com/assets/colab-badge.svg\" alt=\"Open In Colab\"/></a>"
      ]
    },
    {
      "cell_type": "code",
      "execution_count": 20,
      "metadata": {
        "colab": {
          "base_uri": "https://localhost:8080/"
        },
        "id": "Ls4OwjMac85M",
        "outputId": "9f2036a7-0d9c-452f-e09d-84b0b606080d"
      },
      "outputs": [
        {
          "output_type": "stream",
          "name": "stdout",
          "text": [
            "Collecting pytexit\n",
            "  Downloading pytexit-0.4.0-py2.py3-none-any.whl (24 kB)\n",
            "Requirement already satisfied: six in /usr/local/lib/python3.7/dist-packages (from pytexit) (1.15.0)\n",
            "Installing collected packages: pytexit\n",
            "Successfully installed pytexit-0.4.0\n"
          ]
        }
      ],
      "source": [
        "pip install pytexit"
      ]
    },
    {
      "cell_type": "code",
      "source": [
        "from pytexit import py2tex"
      ],
      "metadata": {
        "id": "JM4yKYkYdEk6"
      },
      "execution_count": 22,
      "outputs": []
    },
    {
      "cell_type": "code",
      "source": [
        "py2tex('Tot_prod = (1-pow(1+b*d_init*T,(b/(1-b))))*q_init/(d_init*(1-b))')"
      ],
      "metadata": {
        "colab": {
          "base_uri": "https://localhost:8080/",
          "height": 97
        },
        "id": "1v7mn3O2dS3J",
        "outputId": "7e030c8f-7529-4adf-b3b3-4e56f2c5699a"
      },
      "execution_count": 23,
      "outputs": [
        {
          "output_type": "display_data",
          "data": {
            "text/plain": [
              "<IPython.core.display.Latex object>"
            ],
            "text/latex": "$$Tot_{prod}=\\frac{\\left(1-\\left(1+b d_{init} T\\right)^{\\frac{b}{1-b}}\\right) q_{init}}{d_{init} \\left(1-b\\right)}$$"
          },
          "metadata": {}
        },
        {
          "output_type": "stream",
          "name": "stdout",
          "text": [
            "$$Tot_{prod}=\\frac{\\left(1-\\left(1+b d_{init} T\\right)^{\\frac{b}{1-b}}\\right) q_{init}}{d_{init} \\left(1-b\\right)}$$\n"
          ]
        },
        {
          "output_type": "execute_result",
          "data": {
            "text/plain": [
              "'$$Tot_{prod}=\\\\frac{\\\\left(1-\\\\left(1+b d_{init} T\\\\right)^{\\\\frac{b}{1-b}}\\\\right) q_{init}}{d_{init} \\\\left(1-b\\\\right)}$$'"
            ],
            "application/vnd.google.colaboratory.intrinsic+json": {
              "type": "string"
            }
          },
          "metadata": {},
          "execution_count": 23
        }
      ]
    },
    {
      "cell_type": "code",
      "source": [
        "#Exponential decline\n",
        "import math\n",
        "def Tot_prod_exp (q_init=1,d_init=0.1,b=0,T=10):\n",
        "  \"\"\"\n",
        "  Compute the total production for a well with an exponential decline curve\n",
        "  Tot_prod_exp (q_init=1,d_init=0.1,b=0,T=10)\n",
        "  q_init: the initial production, d_init: the initial decline rate, \n",
        "  b: dummy variable, T: the time period\n",
        "  \"\"\"\n",
        "  print(\"Exponential decline:\")\n",
        "  Tot_prod = -q_init*(1-pow((1-d_init),T))/math.log(1-d_init)\n",
        "  print(\"q_init: \",q_init,\"d_init: \",d_init,\" b: \",b,\" Time: \",T)\n",
        "  return Tot_prod\n",
        "def Tot_prod_hyper (q_init=1,d_init=0.1,b=0.5,T=10):\n",
        "  \"\"\"\n",
        "  Compute the total production for a well with a hyperbolic decline curve\n",
        "  Tot_prod_exp (q_init=1,d_init=0.1,b=0.5,T=10)\n",
        "  q_init: the initial production, d_init: the initial decline rate, \n",
        "  b: model parameter (0->exponential, 1->harmonic), T: the time period\n",
        "  \"\"\"\n",
        "  print(\"Hyperbolic decline:\")\n",
        "  print(\"1+bd\")\n",
        "  Tot_prod = (1-pow(1+b*d_init*T,(b/(1-b))))*q_init/(d_init*(1-b))\n",
        "  print(\"q_init: \",q_init,\"d_init: \",d_init,\" b: \",b,\" T: \",T)\n",
        "  return Tot_prod\n",
        "print(\"Test of log10: \",math.log10(10),\" e: \",math.e,\" ln: \",math.log(math.e))\n",
        "print(\"Tot Prod(exponential decline): \",Tot_prod_exp(T=12))\n",
        "print(\"Tot Prod(hyperbolic decline): \",Tot_prod_hyper(T=12))"
      ],
      "metadata": {
        "colab": {
          "base_uri": "https://localhost:8080/"
        },
        "id": "Y0nn6dXZkBRa",
        "outputId": "379b700f-4b57-4599-dc26-d6e51661da7f"
      },
      "execution_count": 18,
      "outputs": [
        {
          "output_type": "stream",
          "name": "stdout",
          "text": [
            "Test of log10:  1.0  e:  2.718281828459045  ln:  1.0\n",
            "Exponential decline:\n",
            "q_init:  1 d_init:  0.1  b:  0  Time:  12\n",
            "Tot Prod(exponential decline):  6.810620269261164\n",
            "Hyperbolic decline:\n",
            "q_init:  1 d_init:  0.1  b:  0.5  T:  12\n",
            "Tot Prod(hyperbolic decline):  -12.000000000000002\n"
          ]
        }
      ]
    },
    {
      "cell_type": "code",
      "source": [
        "import numpy as np\n",
        "import matplotlib.pyplot as plt\n",
        "#Exponential decay Table 8-1 from https://faculty.ksu.edu.sa/sites/default/files/Production Decline Analysis.pdf\n",
        "q = [904.84, 818.73, 740.82, 670.32, 606.53, 548.81, 496.59, 449.33, 406.57, 367.88, 332.87, 301.19, 272.53, 246.60, 223.13,\n",
        "     201.90, 182.68, 165.30, 149.57, 135.34, 122.46, 110.80, 100.26, 90.72]\n",
        "print(\"q: \",q)\n",
        "x = list(range(1,25))\n",
        "#https://pythonguides.com/matplotlib-two-y-axes/\n",
        "fig, ax1 = plt.subplots() \n",
        "  \n",
        "ax1.set_xlabel('X-axis') \n",
        "ax1.set_ylabel('q', color = 'black') \n",
        "plot_1 = ax1.plot(x, q, color = 'black') \n",
        "ax1.tick_params(axis ='y', labelcolor = 'black') \n",
        "\n",
        "# Adding Twin Axes\n",
        "\n",
        "ax2 = ax1.twinx() \n",
        "  \n",
        "ax2.set_ylabel('ln(q)', color = 'green') \n",
        "plot_2 = ax2.plot(x, np.log(q), color = 'green') \n",
        "ax2.tick_params(axis ='y', labelcolor = 'green') \n",
        "\n",
        "# Show plot\n",
        "\n",
        "plt.show()\n",
        "#\n"
      ],
      "metadata": {
        "colab": {
          "base_uri": "https://localhost:8080/",
          "height": 316
        },
        "id": "-i868T8qI9O_",
        "outputId": "d7b43cbf-6438-48b9-faca-5ffb9210996e"
      },
      "execution_count": 11,
      "outputs": [
        {
          "output_type": "stream",
          "name": "stdout",
          "text": [
            "q:  [904.84, 818.73, 740.82, 670.32, 606.53, 548.81, 496.59, 449.33, 406.57, 367.88, 332.87, 301.19, 272.53, 246.6, 223.13, 201.9, 182.68, 165.3, 149.57, 135.34, 122.46, 110.8, 100.26, 90.72]\n"
          ]
        },
        {
          "output_type": "display_data",
          "data": {
            "text/plain": [
              "<Figure size 432x288 with 2 Axes>"
            ],
            "image/png": "[encoded data removed]"
          },
          "metadata": {
            "needs_background": "light"
          }
        }
      ]
    }
  ]
}