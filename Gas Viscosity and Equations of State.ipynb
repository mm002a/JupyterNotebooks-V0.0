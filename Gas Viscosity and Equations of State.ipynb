{
  "cells": [
    {
      "cell_type": "markdown",
      "metadata": {
        "id": "view-in-github",
        "colab_type": "text"
      },
      "source": [
        "<a href=\"https://colab.research.google.com/github/mm002a/JupyterNotebooks-V0.0/blob/main/Gas%20Viscosity%20and%20Equations%20of%20State.ipynb\" target=\"_parent\"><img src=\"https://colab.research.google.com/assets/colab-badge.svg\" alt=\"Open In Colab\"/></a>"
      ]
    },
    {
      "cell_type": "markdown",
      "metadata": {
        "id": "uFuBJQA-D2v7"
      },
      "source": [
        "# Gas Viscosity\n",
        "\n",
        "## References:\n",
        "-  ### Papers\n",
        "-   Azad Jarrahian, Babak Aghel, Ehsan Heidaryan, __On the viscosity of natural gas__,\n",
        "Fuel, Vol 150, Pp 609-618, 2015  \n",
        "https://doi.org/10.1016/j.fuel.2015.02.049\n",
        "-  Lee, A.L., Gonzalez, M.H., and Eakin, B.E. 1966. **The Viscosity of Natural Gases.** J Pet Technol 18 (8): 997–1000. SPE-1340-PA. http://dx.doi.org/10.2118/1340-PA\n",
        "-  <span style=\"font-variant:small-caps;\"> F.E. Londono, R.A. Archer, and T. A. Blasingame, </span>Texas A&M **Simplified Correlations for Hydrocarbon Gas Viscosity and Gas Density —  [Validation and Correlation of Behavior Using a Large-Scale Database][1]**; *SPE  Gas  Technology  Symposium; Calgary, Alberta, Canada, 30 April–2 May 2002*\n",
        "-  William Sutherland, __LII. The viscosity of gases and molecular force__, Philosophical Magazine Series 5, 36:223, 507-531, 1893  \n",
        "http://dx.doi.org/10.1080/14786449308620508\n",
        "-   ### On-line\n",
        "-   http://excelcalculations.blogspot.com/p/chemical-engineering-calculations.html\n",
        "-   https://petrowiki.org/Gas_viscosity [see below (Londono et al.) and compare with above]  \n",
        "-   https://www.lmnoeng.com/Flow/GasViscosity.php\n",
        "\n",
        "[1]: https://www.researchgate.net/publication/242736426_Correlations_for_Hydrocarbon-Gas_Viscosity_and_Gas_Density-Validation_and_Correlation_of_Behaviour_Using_a_Large-Scale_Database\n",
        "\n",
        "\n"
      ]
    },
    {
      "cell_type": "markdown",
      "metadata": {
        "id": "ZpJr39RJD2wC"
      },
      "source": [
        "#### Gas viscosity: the constant pressure case -- Sutherland's formula\n",
        "The physical properties of a gas vary with pressure and temperature in complex and important way.\n",
        "These variations can be of genuine engineering significance, especially in the petrochemical industry where we are often dealing with\n",
        "mixtures of long, complex molecules in environments where the phase behaviour, including multi-phase equilibria needs to be accurately understood.\n",
        "Consequently,there are  a significant number of experimental campaigns and correlations based on these datasets (usually combined with theoretical models).\n",
        "We discuss some models for gas viscosity here.\n",
        "\n",
        "One simple correlation is due to Sutherland (1893) who used the kinetic theory of gases, including Van der Waal's forces, to derive a simple relationship\n",
        "which shows\n",
        "how the viscosity of a gas varies with temperature __(assuming constant pressure)__:\n",
        "\\begin{align*}\n",
        "\\mu = \\mu_0 \\left(\\frac{T}{T_0}\\right)^{3/2} \\frac{T_0 + S}{T + S},\n",
        "\\end{align*}\n",
        "The constant, $S$, can be derived from experimental data and it encapsulates the molecular properties of the gas.\n",
        "(Compare the derivation of the Peng Robinson model.)\n",
        "\n",
        "We take the reference temperature to be: $T_0$ = 293.15K, additional data computed at $T$ = 450K\n",
        "\n",
        "| Fluid   |         | S(approx) | $\\mu_0$ (Pa\\,s)    |   | Data Point   | Reference |\n",
        "|---------|---------|-----------|-------------------------|---|--------------|------------|\n",
        "| CH$_4$     |         | 173       | 0.01103                 |   |              |            |\n",
        "| Nat Gas | $S_g$ 0.5  | 145.967   | 1.2645714E-5            |   | 1.7720886E-5 | lmnoeng.com |\n",
        "| Nat Gas | $S_g$ 0.75 | 172.446   | 1.1251429E-5            |   | 1.60066E-5   | lmnoeng.com |\n",
        "| Nat Gas | $S_g$ 1    | 238.753   | 1.0217143E-5            |   | 1.50066E-5   | lmnoeng.com |\n",
        "| Air     |         | 120       | 1.822E-5            |   |              |            |\n",
        "| O$_2$      |         | 140       | 2.0229876E-5            |   |              |            |\n",
        "| N$_2$      |         | 120       | 1.7470348E-5            |   |              |            |\n",
        "| CO$_2$     |         | 244       | 1.48E-5                 |   |              |            |\n",
        "| CO      |         | 116       | 1.7435044E-5            |   |              |            |\n",
        "| C$_2$H$_6$    |   | 235.77    | 0.921E-5                |   | 1.351E-5     | engineeringtoolbox.com |\n",
        "|         |         | 243.86    | 0.921E-5                |   | 2.136E-5     | $\\mu$ at (800K)     |\n",
        "| SO$_2$  |         | 416       |                         |   |              |            |\n",
        "|         |         |           |                         |   |              |            |\n",
        "|         |         |           |                         |   |              |            |\n",
        "|         |         |           |                         |   |              |            |\n",
        "\n",
        "In the rows which contain entries in the < Data Point > column the value of $S$ has been obtained by applying the correlation and two points and solving for $S$. The variation in values for __ethane__ show the accuracy of this approach.\n",
        "\n",
        "[Data taken from][2]  www.lmnoeng.com / Crane Tech Paper 410M (2013) / Perry (Chem Eng Handbook)  \n",
        "[Data from][3] www.engineeringtoolbox.com\n",
        "[2]: https://www.lmnoeng.com/Flow/GasViscosity.php\n",
        "[3]: https://www.engineeringtoolbox.com/ethane-dynamic-kinematic-viscosity-temperature-pressure-d_2069.html?vA=293.15&degree=K#"
      ]
    },
    {
      "cell_type": "code",
      "execution_count": null,
      "metadata": {
        "colab": {
          "base_uri": "https://localhost:8080/"
        },
        "id": "5eyFp0paD2wD",
        "outputId": "1f8f2788-0e87-4d36-a2cb-9b29d2049e90"
      },
      "outputs": [
        {
          "name": "stdout",
          "output_type": "stream",
          "text": [
            "Computation of S for various Natural Gas specific gravities) \n",
            "Nat Gas $S_g$ = 0.50 - Sutherland S factor:  145.96744280203066\n",
            "Nat Gas $S_g$ = 0.75 - Sutherland S factor:  172.44568149915352\n",
            "Nat Gas $S_g$ = 1.00 - Sutherland S factor:  238.75286871568218\n",
            "mu0, muT, T0, T1,theta,S:  9.21e-06 1.351e-05 293.15 450 0.7712795135536198 235.77153903863766\n",
            "mu0, muT, T0, T1,theta,S:  9.21e-06 2.136e-05 293.15 800 0.5144480027024468 243.86348490169044\n",
            "Ethane - Sutherland S factor (800):  243.86348490169044\n",
            "\n",
            "Validation:                               muS,         T1,          - Comment\n",
            "Sutherland viscosity Methane         :    1.9315e-02   5.9315e+02 K - agrees with Crane\n",
            "Sutherland viscosity (NatGas Sg=0.50):    2.1623e-05   5.9315e+02 K - agrees with Crane\n",
            "Sutherland viscosity (NatGas Sg=0.75):    2.3094e-05   7.4315e+02 K - agrees with Crane\n",
            "Sutherland viscosity (NatGas Sg=1.00):    2.4502e-05   8.4315e+02 K - agrees with Crane\n",
            "Sutherland viscosity Air             :    3.0066e-05   5.9315e+02 K - agrees with Crane/\n",
            "Sutherland viscosity           Ethane:    2.3072e-05   5.9315e+02 K - EngineeringToolBox: 16.97E-6\n",
            "Sutherland viscosity      Ethane(800):    2.3259e-05   5.9315e+02 K - EngineeringToolBox: 16.97E-6\n"
          ]
        }
      ],
      "source": [
        "#Calculate the Sutherland constant (S in the formula above) using two data points obtained from: https://www.lmnoeng.com/Flow/GasViscosity.php\n",
        "#Validate against the Crane graphs (Metric version PA-6)\n",
        "def SutherlandS(mu0, muT, T0 = 293.15, T1 = 450, DEBUG = 0):\n",
        "    theta = (muT/mu0)*pow(T0/T1,3/2)\n",
        "    S = (T1*theta - T0)/(1 - theta)\n",
        "    if DEBUG == 1: print(\"mu0, muT, T0, T1,theta,S: \",mu0, muT, T0, T1,theta,S)\n",
        "    return S\n",
        "def CalcMu(mu0,T1,S,T0=293.15):\n",
        "    \"\"\"Compute the viscosity of a gas using Sutherland's Correlation.\n",
        "    Usage: CalcMu(mu0,T0,T1,S)(mu0 - known viscosity at temperature T0, muS , viscosity at temperature T, S is Sutherland parameter.)\n",
        "    \"\"\"\n",
        "#Example of assert statement for sanity checking!\n",
        "    assert (T1>0),\"Warning T1 is negative\"\n",
        "    muS = mu0*(T1/T0)**(3/2)*(T0+S)/(T1+S)\n",
        "    return muS\n",
        "#\n",
        "print( \"Computation of S for various Natural Gas specific gravities) \")\n",
        "S = SutherlandS(1.2645714E-5,1.7720886E-5, DEBUG=0)\n",
        "print(\"Nat Gas $S_g$ = 0.50 - Sutherland S factor: \", S)\n",
        "S = SutherlandS(1.1251429E-5,1.60066E-5, DEBUG=0)\n",
        "print(\"Nat Gas $S_g$ = 0.75 - Sutherland S factor: \", S)\n",
        "S = SutherlandS(1.0217143E-5 ,1.50066E-5, DEBUG=0)\n",
        "print(\"Nat Gas $S_g$ = 1.00 - Sutherland S factor: \", S)\n",
        "S = SutherlandS(0.921E-5 ,1.351E-5, DEBUG=1)\n",
        "S = SutherlandS(0.921E-5 ,2.136E-5, T1 = 800, DEBUG=1)\n",
        "print(\"Ethane - Sutherland S factor (800): \", S)\n",
        "#\n",
        "print(\"\\nValidation:                               muS,         T1,          - Comment\")\n",
        "T1 = 293.15+300\n",
        "muS = CalcMu(0.01103,T1,173)\n",
        "print(\"Sutherland viscosity Methane         : \",'{:12.4e}'.format(muS),'{:12.4e}'.format(T1),\"K - agrees with Crane\")\n",
        "#All the arg lists below need changing. then do the push and see if colab has seen it. Then delete this line\n",
        "muS = CalcMu(1.2645714E-5,T1,145.9674428020306)\n",
        "print(\"Sutherland viscosity (NatGas Sg=0.50): \",'{:12.4e}'.format(muS),'{:12.4e}'.format(T1),\"K - agrees with Crane\")\n",
        "T1 = 293.15+450\n",
        "muS = CalcMu(1.1251429E-5,T1,172.44568149915352)\n",
        "print(\"Sutherland viscosity (NatGas Sg=0.75): \",'{:12.4e}'.format(muS),'{:12.4e}'.format(T1),\"K - agrees with Crane\")\n",
        "T1 = 293.15+550\n",
        "muS = CalcMu(1.0217143E-5,T1,238.75286871568218)\n",
        "print(\"Sutherland viscosity (NatGas Sg=1.00): \",'{:12.4e}'.format(muS),'{:12.4e}'.format(T1),\"K - agrees with Crane\")\n",
        "T1 = 293.15+300\n",
        "muS = CalcMu(1.822E-5,T1,110)\n",
        "print(\"Sutherland viscosity Air             : \",'{:12.4e}'.format(muS),'{:12.4e}'.format(T1),\"K - agrees with Crane/\")\n",
        "muS = CalcMu(0.921E-5,900,235.77153903863766)\n",
        "print(\"Sutherland viscosity           Ethane: \",'{:12.4e}'.format(muS),'{:12.4e}'.format(T1),\"K - EngineeringToolBox: 16.97E-6\")\n",
        "muS = CalcMu(0.921E-5,900,243.86)\n",
        "print(\"Sutherland viscosity      Ethane(800): \",'{:12.4e}'.format(muS),'{:12.4e}'.format(T1),\"K - EngineeringToolBox: 16.97E-6\")"
      ]
    },
    {
      "cell_type": "markdown",
      "metadata": {
        "id": "CEcfDcGMD2wG"
      },
      "source": [
        "# Mixtures\n",
        "\n",
        "For many quantities we can use the obvious weighted averages -- aka Kay's rule:\n",
        "Kay, W. 1936. Gases and Vapors At High Temperature and Pressure - Density of Hydrocarbon. Ind. Eng. Chem. 28 (9): 1014-1019. http://dx.doi.org/10.1021/ie50321a008\n",
        "(See also __Fugacity__.)\n",
        "\n",
        "The Piping Calculations Manual (Shashi Menon, 2005) gives the following formula for the vixture of a mixture of components:  \n",
        "$\\mu = \\frac{\\Sigma (\\mu_i y_i \\sqrt{M_i})}{\\Sigma (y_i \\sqrt{M_i})}$\n"
      ]
    },
    {
      "cell_type": "markdown",
      "metadata": {
        "id": "DHgLMeJkD2wH"
      },
      "source": [
        "# Equations of State\n",
        "\n",
        "Many variants of VdW and Peng Robinson.... Where do we get phase information?  \n",
        "Basically we use the generalised gas equation:  \n",
        "$PM = \\rho z R T  \\hspace{10cm}$[Equation 1]  \n",
        "$Z$, the compressibility accouts for the non-idealized behaviour of the gas/mixture. Using Peng-Robinson for $Z$ is a reasonable approach.  \n",
        "Alternatives are:  \n",
        "-  Soave-Redlich-Kwong (SRK EOS)\n",
        "-  [Lee Kesler EOS (LK EOS)][1]\n",
        "-  Benedict-Webb-Rubin EOS (BWR EOS)\n",
        "-  Benedict-Webb-Rubin-Starling EOS (BWRS EOS)\n",
        "[1]: https://www.e-education.psu.edu/png520/m7_p3.html\n",
        "\n",
        "Note that the PR EOS and rhe SRK EOS are derived from van der Waal's equations; these are all cubic equations for the compressibility. There are obviously cases where the equations have three real roots - this reflects that the equilibrium fluid is in two-phase [equilibrium][2] for these conditions. \n",
        "\n",
        "[2]: http://www.et.byu.edu/~rowley/ChEn273/Topics/Mass_Balances/Single_Phase_Systems/Ideal_Systems_Liquid_&_Solid.htm\n",
        "\n",
        "To use [Equation 1] we only need to know the [value of $\\rho$ for some specific values][3] of $P$ and $T$, and the appropriate coefficients for the compressibility of the gas. [On-line calculators][4] are also available.  \n",
        "\n",
        "We can use the data point that natural gas with a molecular weight of 19.5 has a density in the range: $0.7-0.9 kg m^{-3}$ at standard temperature and pressure (273.15K, 1.01325E5 Pa).  \n",
        "\n",
        "[3]: https://www.engineeringtoolbox.com/gas-density-d_158.html\n",
        "[4]: https://www.unitrove.com/engineering/tools/gas/natural-gas-density"
      ]
    },
    {
      "cell_type": "markdown",
      "source": [
        "For a more detailled discussion of gas compressibility see:  \n",
        "https://colab.research.google.com/github/mm002a/JupyterNotebooks-V0.0/blob/main/GasCompressibilityJT.ipynb"
      ],
      "metadata": {
        "id": "t2xiw1ZHGitc"
      }
    }
  ],
  "metadata": {
    "colab": {
      "name": "Gas Viscosity and Equations of State.ipynb",
      "provenance": [],
      "include_colab_link": true
    },
    "kernelspec": {
      "display_name": "Python 3",
      "language": "python",
      "name": "python3"
    },
    "language_info": {
      "codemirror_mode": {
        "name": "ipython",
        "version": 3
      },
      "file_extension": ".py",
      "mimetype": "text/x-python",
      "name": "python",
      "nbconvert_exporter": "python",
      "pygments_lexer": "ipython3",
      "version": "3.7.8"
    }
  },
  "nbformat": 4,
  "nbformat_minor": 0
}