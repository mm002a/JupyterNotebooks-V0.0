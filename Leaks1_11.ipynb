{
  "cells": [
    {
      "cell_type": "markdown",
      "metadata": {
        "id": "view-in-github",
        "colab_type": "text"
      },
      "source": [
        "<a href=\"https://colab.research.google.com/github/mm002a/JupyterNotebooks-V0.0/blob/main/Leaks1_11.ipynb\" target=\"_parent\"><img src=\"https://colab.research.google.com/assets/colab-badge.svg\" alt=\"Open In Colab\"/></a>"
      ]
    },
    {
      "cell_type": "markdown",
      "metadata": {
        "id": "TAbpmBuGDgYd"
      },
      "source": [
        "# Computational Leak Detection: The Plan\n",
        "#### V1.20 (20/8/24)\n",
        "\n",
        "1. Simple case studies, just do a few to see what is going on.\n",
        "   *  Try working through a few simple cases by hand.\n",
        "1. Definition of leaking pipe object\n",
        "   1. What is the minimal set of assumptions that are required to make this work?\n",
        "      1. Four readings are available on a pipe:\n",
        "  $\\dot{M}_{in}$, $P_{in}$ and $\\dot{M}_{out}$, $P_{out}$\n",
        "      1. Assume that the leak rate\n",
        "  $\\dot{Q}_{leak} \\propto ( P_{leak}-P_{ext})^2$\n",
        "      1. Assume the external pressure $P_{ext}$ is constant.\n",
        "      1. Assume we have an  **accurate** *pressure-drop/flow-rate/distance* correlation:\n",
        "      ${\\cal F}(\\dot{M},P_{in},P_{out},L) = 0$\n",
        "1. Exploration of known uncertainty\n",
        "   1. How does meter uncertainty translate to leak uncertainty?\n",
        "   1. How does a single leak compare to multiple leaks? (Hypothesis, there is an equivalence between one leak and two smaller ones; can this be verified?)\n",
        "1. Include (e.g. diurnal) variation - this will lead to separating variations due to leaks and other variations e.g.:\n",
        "   1. Changes in flow properties\n",
        "   1. Operating conditions\n",
        "   1. (Say) thermal effects\n",
        "1. Use ML (=TensorFlow?) to improve equation solution.\n",
        "1. Look at networks - what is the effect of condition number?\n",
        "\n",
        "### Status\n",
        "1. FUNCTIONS:\n",
        "   1. **WeymouthPP** (?redundant)(removed)\n",
        "   1. **Weymouth(Qdot, Pin, Pout, L, D, Sg;PARAMS)** - returns one of first 4 args, given other 3.\n",
        "   1. FindLeakInit (redundant)(removed)\n",
        "   1. Define the `DATASTRUCTURES` for a set of __LEAKS__:\n",
        "      - A Leak = $[LLeak,C]$ is an ordered pair {distance from the inlet of the pipe, the constant C}\n",
        "      (recall: $\\dot{M}_{leak} = C(P_{leak} - P_{external})^2$ )\n",
        "      - A LeakSet is a list of Leaks: $[\\cdots[LLeak_n,C_n]\\cdots]$\n",
        "      - Note that `len([]) = 0` and `len([[LL1,C1]]) = 1` and `len([[LL1,C1],[LL2,C2]]) = 2`\n",
        "      - **SO** `len()` is all we need to determine the number of LEAKS!  \n",
        "      (But must be used carefully because: `len([LL1,C1]) = 2` (**ALAS**!)\n",
        "   1. GenLeak - needs writing!\n",
        "   1. **FindLoc(LLeak, PARAMS)** - returns (`error = Pout - PoutEst`)\n",
        "      * Validated?\n",
        "   1. **FindLeak** Validated? - needs cleaning-up\n",
        "   1. **CheckLeak(Pin,PLeak,Pout,LLeak;PARAMS)** - returns `MLeakTest` & prints some info.\n",
        "      * Validated? - needs cleaning up\n",
        "1. **Clean-up and validate further to get to V1.1**\n",
        "   * Extend by varying `Pin` ($=P_{in}$). Set `Pext` ($=P_{external} = 1bara$).\n",
        "   * Extend by trying to resolve multiple leaks using data from multiple flow rates (different values of `Pin`).\n",
        "1. V1.3 include metering uncertainty.\n",
        "1. V2.0 decrease uncertainty by using external pressure and multiple flow rates.\n",
        "1. **Fork** What about using induction?   \n",
        "__Assume:__\n",
        "   - We can solve a \"system\" with two nodes and one pipe. (This is the easy starting condition.)\n",
        "   - We can grow a solved system  by:\n",
        "      1. adding a node in the middle of a pipe (a new leak) -- this **replaces** one pipe with two (sub-pipes) and an **unknown source** which satisfies the leak flow rate.\n",
        "      1. add a new pipe and node (a 'conventionally' bigger system)\n",
        "   - We interogate the system by:\n",
        "      1. running the system at different flow rates\n",
        "      1. adding pressure sensors\n",
        "      1. adding flow meters\n",
        "This needs some work.\n",
        "   1. Define $D$ to be a DAG (directed acyclic graph) or maybe a tree. Define the DAG by: $D(n,e)$ where the number of nodes is: $n$, the number of edges is: $e$.\n",
        "      1. Clearly increasing the size of the network (either by conventionally increasing the network or by hypothesising a new leak) we have: $D(n,e) \\rightarrow D(n+1, e+1)$\n",
        "      - If we have a leak then we have constraints on the length of the edges\n",
        "   $L^{broken} = L^{new}_1 +L^{new}_2$\n",
        "      and the flow rate at the new node:\n",
        "  $Q(Node^{new}) =C_i(P({Node}^{new}) - P_{external})^{\\alpha}$."
      ]
    },
    {
      "cell_type": "markdown",
      "metadata": {
        "id": "LS17ngOiDgYj"
      },
      "source": [
        "#### Stage 1.1: Single pipe - *N*-leaks.\n",
        "Some notation:\n",
        "1. Define the position of leak $i$ by $L_i$.\n",
        "   - $L_0$ is the inlet and $L_{N+1}$ is the outlet. Of course, $L_0 = 0$ and the pipe length, $L_{N+1}$ is known. _Unknowns: $N$_\n",
        "1. We assume that we have data for the flow performance for $R$ different inlet pressures. The data is the inlet and outlet pressures and flow rates:  \n",
        "$P_0(r) , P_{N+1}(r), \\dot{Q}_0(r) , \\dot{Q}_{N+1}(r)$ respectively.\n",
        "_\"Equations\": 4R (discount)_\n",
        "1. With each pipe segment, $L_{i-1}$ to $L_i$, associate a flowrate $\\dot{Q}_{i-1}(r)$\n",
        " $i = 1\\dots N, r=1\\dots R$\n",
        "1. With each node ($L_i$) we have a leak coefficient $C_i$. _Unknowns: $N$_\n",
        "1. Further, for each node and for each flow case ($r$),  we associate a pressure, $P_i(r)$ and a leakage rate, $\\dot{Q}_i^{leak}(r)$.\n",
        "  - Obviously mass conservation at node $i$ gives:\n",
        "  $$\n",
        "  \\dot{Q}_i^{leak}(r) = \\dot{Q}_i(r) - \\dot{Q}_{i-1}(r)\n",
        "  $$\n",
        "\n",
        "We have the folling relationships:\n",
        "1. We assume that the leakage rate is determined by Bernoulli's equation; so\n",
        "$$\n",
        "\\dot{Q}_i^{leak}(r) = C_i \\left[P_i(r) - P_{ext}\\right]^2\n",
        "$$\n",
        "where $P_{ext}$ is the external pressure, assumed consant for values of $i$ and $r$.\n",
        "1. The pressure drop along segment $L_{i-1}$ to $L_i$ satisfies:\n",
        "$$\n",
        "{\\cal F}\\left(\\overline{\\rho}_{i-1}(r)\\dot{Q}_{i-1}(r),P_{i-1}(r),P_{i}(r),(L_{i-1}-L_i)\\right) = 0\n",
        "$$\n",
        "\n",
        "\n",
        "The next question - how do we find *N*?\n",
        "Approach:\n",
        "- Loop: NLeak = 1,NLkMax monitor size of the normalized residual.\n",
        "- Compare:\n",
        "    - Infinity norm (look at some components - e.g. all $P_i$, $Q_i$ and _ALL_ equations).\n",
        "    - Normalised two norm, as we did with PAMG -?- $\\left (\\frac{1}{NLeak}\\sum_{NLeak} \\left. res_{P_i}^2 \\right. \\right)$\n",
        "    - **How does this quantity vary?**"
      ]
    },
    {
      "cell_type": "markdown",
      "metadata": {
        "id": "QAvvkkIZDgYk"
      },
      "source": [
        "#### Stage 2: Single pipes and uncertainty.\n",
        "-   In the presence of uncertainty we have uncertainty in the sensor readings: $\\dot{M}_{in}$, $P_{in}$ and $\\dot{M}_{out}$, $P_{out}$\n",
        "   -  Assume they are all uniformly distributed with a parameter ${\\mathbf{\\chi}}$.  \n",
        "   Values of $\\chi$ can be obtained from the equipment manufacturer (see above).\n",
        "- Denote the uncertain readings by: $\\overline{\\dot{M}}_{x}, \\overline{P}_{x}$ at location $x \\in \\{in, leak, out\\}$.\n",
        "Then we have:\n",
        "   -  $\\overline{\\dot{M}}_{leak} = \\overline{\\dot{M}}_{in} - \\overline{\\dot{M}}_{out}$\n",
        "   -  ${\\cal W}(\\overline{\\dot{M}}_{in},\\overline{P}_{in},\\overline{P}_{leak},\\overline{L}_{leak}) = 0$\n",
        "   -  ${\\cal W}(\\overline{\\dot{M}}_{out},\\overline{P}_{leak},\\overline{P}_{out},(L - \\overline{L}_{leak})) = 0$\n",
        "   -  $\\overline{\\dot{M}}_{leak} = C(\\overline{P_{leak}} - P_{external})^2$\n",
        "- Let us assume that we have $n$ uncertainty readings denoted by:  $\\overline{\\dot{M}}_{x}(i), \\overline{P}_{x}(i)$ at location $x \\in \\{in, leak, out\\}$; $ 1 \\leq i \\leq n$.  \n",
        "Then, for each $i$ we can write:\n",
        "   -  $\\overline{\\dot{M}}_{leak}(i) = \\overline{\\dot{M}}_{in}(i) - \\overline{\\dot{M}}_{out}(i)$\n",
        "   -  ${\\cal W}(\\overline{\\dot{M}}_{in}(i),\\overline{P}_{in}(i),\\overline{P}_{leak}(i),\\overline{L}_{leak}(i)) = 0$\n",
        "   -  ${\\cal W}(\\overline{\\dot{M}}_{out}(i),\\overline{P}_{leak}(i),\\overline{P}_{out},(L - \\overline{L}_{leak}(i))) = 0$\n",
        "   -  $\\overline{\\dot{M}}_{leak}(i) = C(\\overline{P_{leak}}(i) - P_{external})^2$\n",
        "we are assuming that: $C$ and $P_{external}$ are unaffected by the flow paramters."
      ]
    },
    {
      "cell_type": "markdown",
      "metadata": {
        "id": "2jK9_bS-DgYl"
      },
      "source": [
        "## Leaks - some explorations\n",
        "\n",
        "### Other materials\n",
        "-  [CALDON Meters][1] (single phase liquid). This link specifies an error of __0.01%__ throughout the range.\n",
        "[1]: https://www.sensiaglobal.com/Measurement/Types/Ultrasonic-Flowmeters/Liquid-Hydrocarbon-Ultrasonic-Flowmeters/CALDON-LEFM-280Ci-Ultrasonic-Flow-Meter"
      ]
    },
    {
      "cell_type": "markdown",
      "metadata": {
        "id": "E6UtXbdADgYl"
      },
      "source": [
        "### Case - simple pipe, single leak.\n",
        "- Use the Weymouth Equation to calculate flow rates (it can be any correlation!). For completenesss the Weymouth equation is given by:    \n",
        "$$\n",
        "\\dot{Q}_{st} = 137.2364 \\frac{T_{st}}{P_{st}}\n",
        "\\left [ \\frac{P_1^2-P_2^2-E_{PE}}{L ~S_g~ T_{avg}z_{avg}} \\right ] ^{1/2}\n",
        "D^{8/3}\n",
        "$$\n",
        "- Inputs from sensors: $\\dot{M}_{in}$, $P_{in}$ and $\\dot{M}_{out}$, $P_{out}$\n",
        "- Physical parameters $D (= 0.34)$, $L (= 1.65E5)$, $S_g (= 0.693)$, $Z_{avg} = 1$, $T_{st} = 288.15$, $P_{st} = 1.01325E5$, $E_{PE} = 0$\n",
        "\n",
        "- Flow parameters: $\\dot{M}_{in} = 34.25483928234368$, $P_{in} = 9.0 {\\rm MPa}$ and $\\dot{M}_{out} = 34.25483928234368$, $P_{out} = 2 {\\rm MPa}$\n",
        "\n",
        "Topography:\n",
        "\n",
        "   [$\\dot{M}/P_{in}$ ----------------------------------- $\\dot{M}/P_{leak}$ --------------------------------$\\dot{M}/P_{out}$]\n",
        "   \n",
        "   |< -------------------------$L_{leak}$---------------->|\n",
        "\n",
        "                             External Pressure $P_{ext}$.\n",
        "                             \n",
        "We assume that:\n",
        "-  we know an accurate correlation between flow rate and pressure drop (in this case Weymouth: ${\\cal W}\\left(\\dot{M},P_{in},P_{out},L\\right) = 0$).\n",
        "-  there is a known correlation $\\dot{M}_{leak} = {\\cal F}_{leak}(P_{leak} - P_{external})$ -  \n",
        "(we'll start with $\\dot{M}_{leak} = C(P_{leak} - P_{external})^2$).\n",
        "\n",
        "#### Stage 1: Single pipe - single leak.\n",
        "Clearly:\n",
        "-   $M_{leak} = M_{in} - M_{out}$\n",
        "-   We need to solve:\n",
        "   -       ${\\cal W}\\left(\\dot{M}_{in},P_{in},P_{leak},L_{leak}\\right) = 0$\n",
        "   -       ${\\cal W}\\left(\\dot{M}_{out},P_{leak},P_{out},(L_{tot} - L_{leak})\\right) = 0$\n",
        "   -       for $P_{leak},L_{leak}$.\n",
        "   - __SOLVED 20/7/20 in:__ `Leaks1.py`\n",
        "      - NEEDS:--\n",
        "      1.   Cleaning up (some done `Leaks1.1.ipynb`).\n",
        "      2.   Validating :-). The accuracy seems very good (for single pipes)\n",
        "      3.   Write $\\rho$ as $\\rho(P,T)$ from  `GasCompressibility.ipynb`"
      ]
    },
    {
      "cell_type": "code",
      "execution_count": null,
      "metadata": {
        "id": "oAHyNB-PDgYm"
      },
      "outputs": [],
      "source": [
        "#Introduce L as an argument (not a PARAMETER) for the leaks work.\n",
        "# 1) Swap the arguments 2) Validate 3) Change the parameters 4) Validate. == DONE. IS MainArgs and PARAMS used??\n",
        "#DEFINE Generalised Transport Equations as RetCode = f(Qdot, Pin, Pout; parameters)\n",
        "#Syntax: OUTPUT varb is initialised to -9999.\n",
        "#This works because, in real life everything must be positive.\n",
        "# Triple:{Qdot, Pin, Pout} legal example: {-9999, Pin>Pout, Pout>0}- find Qdot, {Qin>0,-Pin,-9999} find Pout by varying Pin\n",
        "def Weymouth(Qdot, Pin, Pout, L, D, Sg, Tavg = 277.2, zavg = 1, Tst=288.15, Pst=1.01325E5, EPE=0, Const=137.2364, DEBUG = 0):\n",
        "    \"\"\"\n",
        "    Weymouth(Qdot, Pin, Pout, L, D, Sg, Tavg = 277.2K, zavg = 1, Tst = 288.15K, Pst = 1.01325E5Pa, EPE = 0)\n",
        "    - use the Weymouth formula to generate one of Qdot_st, Pin, Pout - given the other two.\n",
        "    The unknown is specified by a value of -9999.\n",
        "    We use PARAMS: [D(iameter), L(ength), Sg].\n",
        "    Qdot in standard cubic metres per second.\n",
        "    \"\"\"\n",
        "    #Only one of Qdot, Pin, Pout, L should be -9999\n",
        "    import math\n",
        "    MainArgs = [Qdot, Pin, Pout, L]\n",
        "    PARAMS = [D, Sg]\n",
        "    if not (MainArgs.count(-9999) == 1):\n",
        "        print(\"Error - only one argument should be -9999\")\n",
        "        return -9999\n",
        "    T1 = 137.2364 * (Tst/Pst)*pow(D,8/3)\n",
        "    denom = Sg * Tavg *zavg\n",
        "    if Qdot == -9999 :\n",
        "        if DEBUG == 1 : print(\"Weymouth to find Qdot. Pin: \", '{:12.3e}'.format(Pin), \" Pout: \", '{:12.3e}'.format(Pout))\n",
        "        T2 = (pow(Pin,2) - pow(Pout,2) - EPE)/(denom*L)\n",
        "        Qst = T1*pow(T2,1/2)\n",
        "        if DEBUG == 1 : print(\"In Weymouth [Qst]: \", Qst)\n",
        "        return Qst\n",
        "    elif Pin == -9999:\n",
        "        if DEBUG == 1 : print(\"Weymouth to find Pin. Qdot: \", '{:12.3e}'.format(Qdot), \" Pout: \", '{:12.3e}'.format(Pout))\n",
        "        PinSq = L*denom*(Qdot/T1)**2 + Pout**2 + EPE\n",
        "        Pin = math.sqrt(PinSq)\n",
        "        if DEBUG == 1 : print(\"In Weymouth [Pin]: \", Qdot,Pin)\n",
        "        return Pin\n",
        "    elif Pout == -9999:\n",
        "        PoutSq = Pin**2 - L*denom*(Qdot/T1)**2 - EPE\n",
        "        if DEBUG == 1 : print(\"Weymouth to find Pout. Qdot: \", '{:12.3e}'.format(Qdot),\n",
        "                              \" Pin: \", '{:12.3e}'.format(Pin),\" Pout: \", '{:12.3e}'.format(Pout))\n",
        "        Pout = math.sqrt(max(0,PoutSq))#Do I need an warning here?\n",
        "        return Pout\n",
        "    elif L == -9999:\n",
        "        T2 = (pow(Pin,2) - pow(Pout,2) - EPE)/denom\n",
        "        L = (T1/Qdot)**2 *T2\n",
        "        return L\n",
        "    return \"ERROR\"\n",
        "\n",
        "\n",
        "def GenLeak(Qdotin, Pin, LLeak, D, Sg, Tavg = 277.2, zavg = 1, Tst=288.15, Pst=1.01325E5, EPE=0, Const=137.2364, DEBUG = 0):\n",
        "    \"\"\"\n",
        "    GenLeak(Qdot, Pin, LLeak, D, Sg, Tavg = 277.2K, zavg = 1, Tst = 288.15K, Pst = 1.01325E5Pa, EPE = 0)\n",
        "    - use the Weymouth formula to generate one of Qdot_st, Pin, Pout - given the other two.\n",
        "    The unknown is specified by a value of -9999.\n",
        "    We use PARAMS: [D(iameter), L(ength), Sg].\n",
        "    Qdot in standard cubic metres per second.\n",
        "    \"\"\"\n",
        "    print(\"Needs to be written and validated!\")\n",
        "    return [Qout,PLeak,Pout]\n"
      ]
    },
    {
      "cell_type": "code",
      "execution_count": null,
      "metadata": {
        "id": "BfpVhmjCDgYn",
        "outputId": "9fb546b4-027f-47ff-e90c-21728d55fbd6"
      },
      "outputs": [
        {
          "ename": "NameError",
          "evalue": "name 'FindLeakInit' is not defined",
          "output_type": "error",
          "traceback": [
            "\u001b[1;31m---------------------------------------------------------------------------\u001b[0m",
            "\u001b[1;31mNameError\u001b[0m                                 Traceback (most recent call last)",
            "\u001b[1;32m<ipython-input-4-39832828f6d5>\u001b[0m in \u001b[0;36m<module>\u001b[1;34m\u001b[0m\n\u001b[0;32m      4\u001b[0m \u001b[0mPin\u001b[0m \u001b[1;33m=\u001b[0m \u001b[1;36m9.0E6\u001b[0m\u001b[1;33m\u001b[0m\u001b[1;33m\u001b[0m\u001b[0m\n\u001b[0;32m      5\u001b[0m \u001b[0mPout\u001b[0m \u001b[1;33m=\u001b[0m \u001b[1;36m2.0E6\u001b[0m\u001b[1;33m\u001b[0m\u001b[1;33m\u001b[0m\u001b[0m\n\u001b[1;32m----> 6\u001b[1;33m [MLeak,PLeak,LLeak] = FindLeakInit(Min, Pin, Mout, Pout, \n\u001b[0m\u001b[0;32m      7\u001b[0m                                D = 0.34, L = 1.65E5, Sg = 0.693, Tavg = 277.2, zavg = 1, Tst = 288.15, Pst = 1.01325e5, EPE = 0, DEBUG = 0)\n\u001b[0;32m      8\u001b[0m \u001b[0mprint\u001b[0m\u001b[1;33m(\u001b[0m\u001b[1;34m\"FLInit - MLeak, PLeak, LLeak: \"\u001b[0m\u001b[1;33m,\u001b[0m\u001b[1;33m[\u001b[0m\u001b[0mMLeak\u001b[0m\u001b[1;33m,\u001b[0m\u001b[0mPLeak\u001b[0m\u001b[1;33m,\u001b[0m\u001b[0mLLeak\u001b[0m\u001b[1;33m]\u001b[0m\u001b[1;33m)\u001b[0m\u001b[1;33m\u001b[0m\u001b[1;33m\u001b[0m\u001b[0m\n",
            "\u001b[1;31mNameError\u001b[0m: name 'FindLeakInit' is not defined"
          ]
        }
      ],
      "source": [
        "#Some testing :)\n",
        "Min = 34.25483928234368*0.8 # 0.8 kg/m^3 is from data sheet. Assuming incompressibility.\n",
        "Mout = Min *1 # A 0% leak :-)\n",
        "Pin = 9.0E6\n",
        "Pout = 2.0E6\n",
        "[MLeak,PLeak,LLeak] = FindLeakInit(Min, Pin, Mout, Pout,\n",
        "                               D = 0.34, L = 1.65E5, Sg = 0.693, Tavg = 277.2, zavg = 1, Tst = 288.15, Pst = 1.01325e5, EPE = 0, DEBUG = 0)\n",
        "print(\"FLInit - MLeak, PLeak, LLeak: \",[MLeak,PLeak,LLeak])\n",
        "print(\"-------------------------------\")\n",
        "Min = 34.25483928234368*0.8 # 0.8 kg/m^3 is from data sheet. Assuming incompressibility.\n",
        "Mout = Min *0.99 # A 1% leak :-)\n",
        "Pin = 9.0E6\n",
        "Pout = 2.0E6\n",
        "[MLeak,PLeak,LLeak] = FindLeakInit(Min, Pin, Mout, Pout,\n",
        "                               D = 0.34, L = 1.65E5, Sg = 0.693, Tavg = 277.2, zavg = 1, Tst = 288.15, Pst = 1.01325e5, EPE = 0, DEBUG = 0)\n",
        "print(\"FLInit - MLeak, PLeak, LLeak: \",[MLeak,PLeak,LLeak])\n",
        "print(\"-------------------------------\")\n",
        "print(\"This just validates a possibly superflous initialisation routine!\")\n",
        "Min = 34.25483928234368*0.8 # 0.8 kg/m^3 is from data sheet. Assuming incompressibility.\n",
        "Mout = Min *0.99 # A 1% leak :-)\n",
        "Pin = 9.0E6\n",
        "Pout = 2.0E6*1.01 # Move the leak away from the outlet\n",
        "[MLeak,PLeak,LLeak] = FindLeakInit(Min, Pin, Mout, Pout,\n",
        "                               D = 0.34, L = 1.65E5, Sg = 0.693, Tavg = 277.2, zavg = 1, Tst = 288.15, Pst = 1.01325e5, EPE = 0, DEBUG = 0)\n",
        "print(\"FLInit - MLeak, PLeak, LLeak: \",[MLeak,PLeak,LLeak])"
      ]
    },
    {
      "cell_type": "code",
      "execution_count": null,
      "metadata": {
        "id": "3qrRQj01DgYp"
      },
      "outputs": [],
      "source": [
        "from scipy import optimize\n",
        "\n",
        "#DEFINE Generalised Transport Equations as RetCode = f(Min, Mout, Pin, Pout; parameters)\n",
        "#Syntax: OUTPUT varb is initialised to -9999.\n",
        "#This works because, in real life everything must be positive.\n",
        "# Triple:{Qdot, Pin, Pout} legal example: {-9999, Pin>Pout, Pout>0}- find Qdot, {Qin>0,-Pin,-9999} find Pout by varying Pin\n",
        "def FindLoc(LLeak, PARAMS):\n",
        "    \"\"\"\n",
        "    FindLoc(Lleak) PARAMS = [Min, Pin, Mout, Pout, LLeak,\n",
        "        L=165000, D = 0.34, Sg = 0.693, Tavg = 277.2, zavg = 1, Tst = 288.15, Pst = 1.01325E5, EPE = 0, DEBUG = 0]\n",
        "    - use the flow formula (Weymouth) formula to find Lleak given Min, Mout, Pin, Pout [and the other parameters].\n",
        "    Min and Mout are in kg/sec .\n",
        "    \"\"\"\n",
        "\n",
        "    [Min, Pin, Mout, Pout, L, D , Sg, Tavg ,zavg, Tst, Pst, EPE , DEBUG]=PARAMS\n",
        "    #if DEBUG == 1: print(\"In FindLoc - LLeak\", LLeak,\"PLeak1/2: \",PLeak1,PLeak2)\n",
        "    rholeak=rhoin=rhoout=1\n",
        "    Qdotin = Min/rhoin\n",
        "    Qdotout = Mout/rhoout\n",
        "    #Strategies:\n",
        "    # 1 Find PLeak1, PLeak2 return (PLeak1-PLeak2) {Fail - LLeak goes negative}\n",
        "    # 2 Find PLeak1 then use PLeak1 & LLeak to find PoutTemp return (Pout-PoutTemp)\n",
        "    #From the inlet to the leak\n",
        "    #if DEBUG == 1: print(\"In FindLoc - LLeak\", LLeak,\"PLeak1/2: \",PLeak1,PLeak2)\n",
        "    PLeak1 = Weymouth(Qdotin, Pin, -9999, LLeak, D, Sg, Tavg, zavg, Tst, Pst, EPE, DEBUG = 0)\n",
        "    #From the leak to the outlet\n",
        "    #if DEBUG == 1: print(\"In FindLoc - LLeak\", LLeak,\"PLeak1: \",PLeak1)\n",
        "    PoutEst = Weymouth(Qdotout, PLeak1, -9999, (L-LLeak), D,Sg,Tavg,zavg,Tst,Pst,EPE,DEBUG = 0)\n",
        "\n",
        "    error = Pout-PoutEst\n",
        "    if DEBUG == 1:\n",
        "        print(\"FindLoc - LLeak\", '{:9.2e}'.format(LLeak[0]),\n",
        "              \"PLeak1:\",'{:9.2e}'.format(PLeak1),\"PoutEst:\",'{:9.2e}'.format(PoutEst),\n",
        "             \" Error:\",'{:9.2e}'.format(error))\n",
        "    return error\n",
        "\n",
        "\n",
        "def FindLeak(Min, Pin, Mout, Pout, LLeak0, L= 165000, D = 0.34, Sg = 0.693, Tavg = 277.2, zavg = 1, Tst = 288.15, Pst = 1.01325E5, EPE = 0, DEBUG = 0):\n",
        "    \"\"\"\n",
        "    FindLeak(Min, Pin, Mout, Pout, LLeak0,\n",
        "        L=165000, D = 0.34, Sg = 0.693, Tavg = 277.2, zavg = 1, Tst = 288.15, Pst = 1.01325E5, EPE = 0, DEBUG = 0)\n",
        "    - use the flow formula (Weymouth) formula to generate MLeak, PLeak and LLeak.\n",
        "    We use PARAMS: [D(iameter), L(ength), Sg].\n",
        "    Min and Mout are in kg/sec in standard cubic metres per second.\n",
        "    \"\"\"\n",
        "    print(\"Start of FindLeak - Mout:\",Mout)\n",
        "    rhoin = 1\n",
        "    PARAMS = [Min, Pin, Mout, Pout, L, D, Sg, Tavg, zavg, Tst, Pst, EPE, DEBUG]\n",
        "    MLeak = Min - Mout\n",
        "    LLeakOpt = optimize.fsolve(FindLoc, LLeak0, PARAMS, full_output=0, xtol=1.49012e-08)\n",
        "    PLeak = Weymouth(Min/rhoin, Pin, -9999, LLeakOpt, D, Sg, Tavg, zavg, Tst, Pst, EPE, DEBUG = 0)\n",
        "    print(\"End of FindLeak - Mout,LLeakOpt:\",Mout,LLeakOpt)\n",
        "    return [MLeak,PLeak,LLeakOpt]\n",
        "def CheckLeak(Pin,PLeak,Pout,LLeak,L = 165000,D = 0.34,Sg = 0.693, rhoin = 1):\n",
        "    \"\"\"\n",
        "    Usage: CheckLeak(Pin,PLeak,Pout,LLeak,L = 165000,D = 0.34,Sg = 0.693, rhoin = 1)\n",
        "        computes the forward problem - given the (\"two\") lengths and three pressures -\n",
        "        what is the mass flow of the leak : THE ANSWER verifying FindLeak()\n",
        "    \"\"\"\n",
        "    Qin = Weymouth(-9999,Pin, PLeak, LLeak, D, Sg)\n",
        "    print(\"L-LLeak: \",L-LLeak,\"Ratio(Lleak/L): \",LLeak/L)\n",
        "    Qout = Weymouth(-9999,PLeak, Pout, (L-LLeak), D, Sg)\n",
        "    print(\"In CheckLeak Qin,Qout,Pout\",Qin,Qout,Pout)\n",
        "    MLeakTest = (Qin-Qout)*rhoin\n",
        "    print(\"Check - MLeak: \", MLeakTest)#'{:9.3e}'.format(MLeakTest))\n",
        "    return MLeakTest"
      ]
    },
    {
      "cell_type": "code",
      "execution_count": null,
      "metadata": {
        "id": "u94LtWXXDgYp"
      },
      "outputs": [],
      "source": [
        "#Generate a case (10%leak middle of the pipe)\n",
        "PLeakNom = Weymouth(34.25483928234368,9.0E6,-9999,1.65E5/2,0.34,0.693)\n",
        "PoutNom = Weymouth(34.25483928234368*0.9,PLeakNom,-9999,1.65E5/2,0.34,0.693)\n",
        "print(\"10% leak, mid-pipe = PLeakNom, PoutNom: \",PLeakNom,PoutNom)\n",
        "#"
      ]
    },
    {
      "cell_type": "code",
      "execution_count": null,
      "metadata": {
        "id": "vGA2SvjBDgYq",
        "outputId": "55178d89-1ccf-4e9d-f643-9cbb0493e7c9"
      },
      "outputs": [
        {
          "name": "stdout",
          "output_type": "stream",
          "text": [
            "Main tests - Mout: 30.829355354109314\n",
            "Start of FindLeak - Mout: 30.829355354109314\n",
            "FindLoc - LLeak  6.60e+04 PLeak1:  7.09e+06 PoutEst:  3.57e+06  Error: -9.75e+05\n",
            "FindLoc - LLeak  6.60e+04 PLeak1:  7.09e+06 PoutEst:  3.57e+06  Error: -9.75e+05\n",
            "FindLoc - LLeak  6.60e+04 PLeak1:  7.09e+06 PoutEst:  3.57e+06  Error: -9.75e+05\n",
            "FindLoc - LLeak  6.60e+04 PLeak1:  7.09e+06 PoutEst:  3.57e+06  Error: -9.75e+05\n",
            "FindLoc - LLeak  1.45e+05 PLeak1:  3.68e+06 PoutEst:  2.41e+06  Error:  1.90e+05\n",
            "FindLoc - LLeak  1.32e+05 PLeak1:  4.42e+06 PoutEst:  2.64e+06  Error: -3.53e+04\n",
            "FindLoc - LLeak  1.34e+05 PLeak1:  4.31e+06 PoutEst:  2.60e+06  Error: -1.29e+03\n",
            "FindLoc - LLeak  1.34e+05 PLeak1:  4.30e+06 PoutEst:  2.60e+06  Error:  8.73e+00\n",
            "FindLoc - LLeak  1.34e+05 PLeak1:  4.30e+06 PoutEst:  2.60e+06  Error: -2.16e-03\n",
            "FindLoc - LLeak  1.34e+05 PLeak1:  4.30e+06 PoutEst:  2.60e+06  Error: -2.79e-09\n",
            "End of FindLeak - Mout,LLeakOpt: 30.829355354109314 [133872.18045113]\n",
            "MLeak, PLeak, LLeak:  3.425e+00 4.304e+06 1.339e+05\n",
            "Min,Pout: 3.425e+01 2.600e+06 MLeak, PLeak, LLeak:  3.425e+00 4.304e+06 1.339e+05\n",
            "L-LLeak:  31127.819548872358 Ratio(Lleak/L):  0.8113465481886524\n",
            "In CheckLeak Qin,Qout,Pout 34.25483928234368 30.82935535410934 2600000.0\n",
            "Check - MLeak:  3.4254839282343426\n",
            "===================\n",
            "Main - Mout: 27.403871425874947\n",
            "Start of FindLeak - Mout: 27.403871425874947\n",
            "End of FindLeak - Mout,LLeakOpt: 27.403871425874947 [148571.42857143]\n",
            "MLeak, PLeak, LLeak:  6.851e+00 3.416e+06 1.486e+05\n",
            "Min,Pout: 3.425e+01 2.600e+06 MLeak, PLeak, LLeak:  6.851e+00 3.416e+06 1.486e+05\n",
            "L-LLeak:  16428.571428568393 Ratio(Lleak/L):  0.9004329004329188\n",
            "In CheckLeak Qin,Qout,Pout 34.25483928234368 27.40387142587352 2600000.0\n",
            "Check - MLeak:  6.850967856470163\n",
            "===================\n",
            "Main - Mout: 30.829355354109314\n",
            "Start of FindLeak - Mout: 30.829355354109314\n",
            "End of FindLeak - Mout,LLeakOpt: 30.829355354109314 [121691.72932331]\n",
            "MLeak, PLeak, LLeak:  3.425e+00 4.920e+06 1.217e+05\n",
            "Min,Pout: 3.425e+01 2.800e+06 MLeak, PLeak, LLeak:  3.425e+00 4.920e+06 1.217e+05\n",
            "L-LLeak:  43308.27067669177 Ratio(Lleak/L):  0.7375256322624741\n",
            "In CheckLeak Qin,Qout,Pout 34.25483928234368 30.829355354109307 2800000.0\n",
            "Check - MLeak:  3.4254839282343745\n",
            "===================\n",
            "The mid-point case\n",
            "Main - Mout: 30.829355354109314\n",
            "Start of FindLeak - Mout: 30.829355354109314\n",
            "End of FindLeak - Mout,LLeakOpt: 30.829355354109314 [82500.]\n",
            "MLeak, PLeak, LLeak:  3.425e+00 6.519e+06 8.250e+04\n",
            "Min,Pout: 3.425e+01 3.364e+06 MLeak, PLeak, LLeak:  3.425e+00 6.519e+06 8.250e+04\n",
            "L-LLeak:  82499.99999999996 Ratio(Lleak/L):  0.5000000000000002\n",
            "In CheckLeak Qin,Qout,Pout 34.25483928234368 30.829355354109307 3363777.638310831\n",
            "Check - MLeak:  3.4254839282343745\n"
          ]
        },
        {
          "data": {
            "text/plain": [
              "3.4254839282343745"
            ]
          },
          "execution_count": 5,
          "metadata": {},
          "output_type": "execute_result"
        }
      ],
      "source": [
        "#FindLeak validation\n",
        "L = 165000\n",
        "Min = 34.25483928234368*1 # 0.8 kg/m^3 is from data sheet. Assuming incompressibility.\n",
        "Mout = Min * 0.9 # A 1% leak :-)\n",
        "Pin = 9.0E6\n",
        "Pout = 2.0E6 * 1.3 # Pressure drop is less!\n",
        "print(\"Main tests - Mout:\",Mout)\n",
        "[MLeak,PLeak,LLeak] = FindLeak(Min, Pin, Mout, Pout, (0.4*L),\n",
        "                               D = 0.34, L = 1.65E5, Sg = 0.693, Tavg = 277.2, zavg = 1, Tst = 288.15, Pst = 1.01325e5, EPE = 0, DEBUG = 1)\n",
        "print(\"MLeak, PLeak, LLeak: \",'{:9.3e}'.format(MLeak), '{:9.3e}'.format(PLeak),'{:9.3e}'.format(LLeak[0]))\n",
        "print(\"Min,Pout:\",'{:9.3e}'.format(Min),'{:9.3e}'.format(Pout), \"MLeak, PLeak, LLeak: \",'{:9.3e}'.format(MLeak), '{:9.3e}'.format(PLeak),'{:9.3e}'.format(LLeak[0]))\n",
        "CheckLeak(Pin,PLeak,Pout,LLeak[0])\n",
        "print(\"===================\")\n",
        "Min = 34.25483928234368*1 # 0.8 kg/m^3 is from data sheet. Assuming incompressibility.\n",
        "Mout = Min * 0.8 # A 1% leak :-)\n",
        "Pout = 2.0E6 * 1.3 # Pressure drop is less!\n",
        "print(\"Main - Mout:\",Mout)\n",
        "[MLeak,PLeak,LLeak] = FindLeak(Min, Pin, Mout, Pout, (0.4*L),\n",
        "                               D = 0.34, L = 1.65E5, Sg = 0.693, Tavg = 277.2, zavg = 1, Tst = 288.15, Pst = 1.01325e5, EPE = 0, DEBUG = 0)\n",
        "print(\"MLeak, PLeak, LLeak: \",'{:9.3e}'.format(MLeak), '{:9.3e}'.format(PLeak),'{:9.3e}'.format(LLeak[0]))\n",
        "print(\"Min,Pout:\",'{:9.3e}'.format(Min),'{:9.3e}'.format(Pout), \"MLeak, PLeak, LLeak: \",'{:9.3e}'.format(MLeak), '{:9.3e}'.format(PLeak),'{:9.3e}'.format(LLeak[0]))\n",
        "CheckLeak(Pin,PLeak,Pout,LLeak[0])\n",
        "print(\"===================\")\n",
        "Min = 34.25483928234368*1 # 0.8 kg/m^3 is from data sheet. Assuming incompressibility.\n",
        "Mout = Min * 0.9 # A 1% leak :-)\n",
        "Pout = 2.0E6 * 1.4 # Pressure drop is less!\n",
        "print(\"Main - Mout:\",Mout)\n",
        "[MLeak,PLeak,LLeak] = FindLeak(Min, Pin, Mout, Pout, (0.4*L),\n",
        "                               D = 0.34, L = 1.65E5, Sg = 0.693, Tavg = 277.2, zavg = 1, Tst = 288.15, Pst = 1.01325e5, EPE = 0, DEBUG = 0)\n",
        "print(\"MLeak, PLeak, LLeak: \",'{:9.3e}'.format(MLeak), '{:9.3e}'.format(PLeak),'{:9.3e}'.format(LLeak[0]))\n",
        "print(\"Min,Pout:\",'{:9.3e}'.format(Min),'{:9.3e}'.format(Pout), \"MLeak, PLeak, LLeak: \",'{:9.3e}'.format(MLeak), '{:9.3e}'.format(PLeak),'{:9.3e}'.format(LLeak[0]))\n",
        "CheckLeak(Pin,PLeak,Pout,LLeak[0])\n",
        "print(\"===================\")\n",
        "print(\"The mid-point case\")\n",
        "Min = 34.25483928234368*1 # 0.8 kg/m^3 is from data sheet. Assuming incompressibility.\n",
        "Mout = Min * 0.9 # A 1% leak :-)\n",
        "Pout = 3363777.638310831 # From previous calculation\n",
        "print(\"Main - Mout:\",Mout)\n",
        "[MLeak,PLeak,LLeak] = FindLeak(Min, Pin, Mout, Pout, (0.4*L),\n",
        "                               D = 0.34, L = 1.65E5, Sg = 0.693, Tavg = 277.2, zavg = 1, Tst = 288.15, Pst = 1.01325e5, EPE = 0, DEBUG = 0)\n",
        "print(\"MLeak, PLeak, LLeak: \",'{:9.3e}'.format(MLeak), '{:9.3e}'.format(PLeak),'{:9.3e}'.format(LLeak[0]))\n",
        "print(\"Min,Pout:\",'{:9.3e}'.format(Min),'{:9.3e}'.format(Pout), \"MLeak, PLeak, LLeak: \",'{:9.3e}'.format(MLeak), '{:9.3e}'.format(PLeak),'{:9.3e}'.format(LLeak[0]))\n",
        "CheckLeak(Pin,PLeak,Pout,LLeak[0])"
      ]
    },
    {
      "cell_type": "code",
      "execution_count": null,
      "metadata": {
        "id": "O1QVrfClDgYr"
      },
      "outputs": [],
      "source": [
        "#SO the N-leaks problem for a single pipe requires least squares solution of the equations.\n",
        "#Here's the documentation and calling sequence.\n",
        "#Or maybe it's time to go to Bayesian optimisation.\n",
        "#https://docs.scipy.org/doc/scipy/reference/generated/scipy.optimize.least_squares.html\n",
        "#scipy.optimize.least_squares\n",
        "#(fun, x0, jac='2-point', bounds=- inf, inf, method='trf',\n",
        "# ftol=1e-08, xtol=1e-08, gtol=1e-08, x_scale=1.0, loss='linear', f_scale=1.0, diff_step=None, tr_solver=None, tr_options={},\n",
        "# jac_sparsity=None, max_nfev=None, verbose=0, args=(), kwargs={})"
      ]
    },
    {
      "cell_type": "markdown",
      "metadata": {
        "id": "sRt1k0dCDgYr"
      },
      "source": []
    },
    {
      "cell_type": "markdown",
      "metadata": {
        "id": "1BfJeuBmDgYr"
      },
      "source": [
        "#### Stage 1.1: Single pipe - *N*-leaks.\n",
        "Some notation:\n",
        "1. Define the position of leak $i$ by $L_i$.\n",
        "   - $L_0$ is the inlet and $L_{N+1}$ is the outlet. Of course, $L_0 = 0$ and the pipe length, $L_{N+1}$ is known. _Unknowns: $N$_\n",
        "1. We assume that we have data for the flow performance for $R$ different inlet pressures. The data is the inlet and outlet pressures and flow rates:  \n",
        "$P_0(r) , P_{N+1}(r), \\dot{Q}_0(r) , \\dot{Q}_{N+1}(r)$ respectively.\n",
        "_\"Equations\": 4R (discount)_\n",
        "1. With each pipe segment, $L_{i-1}$ to $L_i$, associate a flowrate $\\dot{Q}_{i-1}(r)$\n",
        " $i = 1\\dots N, r=1\\dots R$\n",
        "1. With each node ($L_i$) we have a leak coefficient $C_i$. _Unknowns: $N$_\n",
        "1. Further, for each node and for each flow case ($r$),  we associate a pressure, $P_i(r)$ and a leakage rate, $\\dot{Q}_i^{leak}(r)$.\n",
        "  - Obviously mass conservation at node $i$ gives:\n",
        "  $$\n",
        "  \\dot{Q}_i^{leak}(r) = \\dot{Q}_i(r) - \\dot{Q}_{i-1}(r)\n",
        "  $$\n",
        "\n",
        "We have the folling relationships:\n",
        "1. We assume that the leakage rate is determined by Bernoulli's equation; so\n",
        "$$\n",
        "\\dot{Q}_i^{leak}(r) = C_i \\left[P_i(r) - P_{ext}\\right]^2\n",
        "$$\n",
        "where $P_{ext}$ is the external pressure, assumed consant for values of $i$ and $r$.\n",
        "1. The pressure drop along segment $L_{i-1}$ to $L_i$ satisfies:\n",
        "$$\n",
        "{\\cal F}\\left(\\overline{\\rho}_{i-1}(r)\\dot{Q}_{i-1}(r),P_{i-1}(r),P_{i}(r),(L_{i-1}-L_i)\\right) = 0\n",
        "$$\n",
        "\n",
        "\n",
        "The next question - how do we find *N*?\n",
        "Approach:\n",
        "- Loop: NLeak = 1,NLkMax monitor size of the normalized residual.\n",
        "- Compare:\n",
        "    - Infinity norm (look at some components - e.g. all $P_i$, $Q_i$ and _ALL_ equations).\n",
        "    - Two norm as we did with PAMG -?- $\\left (\\frac{1}{NLeak}\\Sigma_{NLeak} res_{P_i}^2 \\right)$\n",
        "    -**How does this quantity vary?**\n",
        "    "
      ]
    },
    {
      "cell_type": "code",
      "execution_count": null,
      "metadata": {
        "id": "2veulw9sDgYs"
      },
      "outputs": [],
      "source": [
        "def GenLeak(Qdotin,Pin,LEAKS,D,Sg,Tavg = 277.2,zavg =1,Tst=288.15,Pst=1.01325E5,EPE=0,Const=137.2364,Pext=1.01325E5,DEBUG = 0):\n",
        "    \"\"\"\n",
        "    GenLeak(Qdot, Pin, LEAKS, D, Sg, Tavg = 277.2K, zavg = 1, Tst = 288.15K, Pst = 1.01325E5Pa, EPE = 0)\n",
        "    - use the Weymouth formula to generate one of Qdot_st, Pin, Pout - given the other two.\n",
        "    The unknown is specified by a value of -9999.\n",
        "    We use PARAMS: [D(iameter), L(ength), Sg].\n",
        "    Qdot in standard cubic metres per second.\n",
        "    \"\"\"\n",
        "#Sanity check\n",
        "    if len(LEAKS) == 0:\n",
        "#No leaks case (Compute Pout)\n",
        "        Pout = 0\n",
        "    if len(LEAKS) > 0:\n",
        "        if len(LEAKS[0]) != 2:\n",
        "            print(\"PANIC\")\n",
        "    print(\"Needs to be written and validated!\")\n",
        "    return [Qout,LEAKS,Pout]\n",
        "#TEST CASES:\n",
        "# Standard case - 0 leaks\n",
        "# Case 1 leak (investigate the sensitivity - to size of leak and position, e.g. near to ends)\n",
        "# Case 2 leaks (investigate accuracy and sensitivity)\n",
        "# Case 10 leaks"
      ]
    },
    {
      "cell_type": "markdown",
      "metadata": {
        "id": "J7PYJOovDgYs"
      },
      "source": [
        "#### Stage 2: Single pipes and uncertainty.\n",
        "-   In the presence of uncertainty we have uncertainty in the sensor readings: $\\dot{M}_{in}$, $P_{in}$ and $\\dot{M}_{out}$, $P_{out}$\n",
        "   -  Assume they are all uniformly distributed with a parameter ${\\mathbf{\\chi}}$.  \n",
        "   Values of $\\chi$ can be obtained from the equipment manufacturer (see above).\n",
        "- Denote the uncertain readings by: $\\overline{\\dot{M}}_{x}, \\overline{P}_{x}$ at location $x \\in \\{in, leak, out\\}$.\n",
        "Then we have:\n",
        "   -  $\\overline{\\dot{M}}_{leak} = \\overline{\\dot{M}}_{in} - \\overline{\\dot{M}}_{out}$\n",
        "   -  ${\\cal W}(\\overline{\\dot{M}}_{in},\\overline{P}_{in},\\overline{P}_{leak},\\overline{L}_{leak}) = 0$\n",
        "   -  ${\\cal W}(\\overline{\\dot{M}}_{out},\\overline{P}_{leak},\\overline{P}_{out},(L - \\overline{L}_{leak})) = 0$\n",
        "   -  $\\overline{\\dot{M}}_{leak} = C(\\overline{P_{leak}} - P_{external})^2$\n",
        "- Let us assume that we have $n$ uncertainty readings denoted by:  $\\overline{\\dot{M}}_{x}(i), \\overline{P}_{x}(i)$ at location $x \\in \\{in, leak, out\\}$; $ 1 \\leq i \\leq n$.  \n",
        "Then, for each $i$ we can write:\n",
        "   -  $\\overline{\\dot{M}}_{leak}(i) = \\overline{\\dot{M}}_{in}(i) - \\overline{\\dot{M}}_{out}(i)$\n",
        "   -  ${\\cal W}(\\overline{\\dot{M}}_{in}(i),\\overline{P}_{in}(i),\\overline{P}_{leak}(i),\\overline{L}_{leak}(i)) = 0$\n",
        "   -  ${\\cal W}(\\overline{\\dot{M}}_{out}(i),\\overline{P}_{leak}(i),\\overline{P}_{out},(L - \\overline{L}_{leak}(i))) = 0$\n",
        "   -  $\\overline{\\dot{M}}_{leak}(i) = C(\\overline{P_{leak}}(i) - P_{external})^2$\n",
        "we are assuming that: $C$ and $P_{external}$ are unaffected by the flow paramters."
      ]
    },
    {
      "cell_type": "code",
      "execution_count": null,
      "metadata": {
        "id": "fA0Wy1I_DgYs",
        "outputId": "89ba6c18-4d8f-4f40-df69-7fa64c2ea96a"
      },
      "outputs": [
        {
          "name": "stdout",
          "output_type": "stream",
          "text": [
            "Some little tests of the len() function: 0 2 1\n"
          ]
        }
      ],
      "source": [
        "print('Some little tests of the len() function:',len([]),len([1,2]),len([[1,2]]))"
      ]
    },
    {
      "cell_type": "markdown",
      "metadata": {
        "id": "vW8AIRcWDgYt"
      },
      "source": [
        "### Laminar flow in leaky trees\n",
        "\n",
        "\"DIAGRAM\"\n",
        "<img src=\"https://github.com/mm002a/JupyterNotebooks-V0.0/blob/main/Y-junc.png?raw=1\" />\n"
      ]
    },
    {
      "cell_type": "markdown",
      "metadata": {
        "id": "DUByPNNoDgYt"
      },
      "source": [
        "\n",
        "\n",
        "Let's make some simplifications and see where we get to!  \n",
        "Assume that:\n",
        "   1. the network is a directed tree.\n",
        "   1. the flow is laminar so the drag is $64/Re$\n",
        "   1. all pipes have the same diameter.\n",
        "   1. that the inlet flow rate at the the root is given: $Q_{in} = Q_0$\n",
        "   1. all leaf nodes are at the same pressure: $P_{external} = P_e$\n",
        "   1. all leaks are into an external environment at pressure: $P_{external}$\n",
        "   1. Define the tree with a connectivity graph:\n",
        "      - Define the root of the tree to be node $0$\n",
        "      - Associate with each node $i$:\n",
        "        1. $Par_i$ The node number of the incoming pipe (Parent) (this is redundant information!)\n",
        "        1. $C_1, C_2, \\dots C_{n_i}$ The node numbers of the children of node $i$.\n",
        "        - Note that we can number the tree so that $Par_i < C_1 < C_2 < \\dots < C_{n_i} \\forall i$\n",
        "   - **Data associated** with  node $i$\n",
        "      - $Q_i$ The incoming flow rate of fluid  \n",
        "      - $P_i$ The pressure\n",
        "      - $L_i$ The length of the incoming pipe\n",
        "   - Therefore: each node has exactly one incoming pipe (except the root). Denote this by $pipe_i$\n",
        "   \n",
        "Start really simple:\n",
        "   - Consider the smallest tree (a \"Y\" structure)."
      ]
    },
    {
      "cell_type": "code",
      "execution_count": null,
      "metadata": {
        "id": "Jj16fdxXDgYt"
      },
      "outputs": [],
      "source": []
    }
  ],
  "metadata": {
    "kernelspec": {
      "display_name": "Python 3",
      "language": "python",
      "name": "python3"
    },
    "language_info": {
      "codemirror_mode": {
        "name": "ipython",
        "version": 3
      },
      "file_extension": ".py",
      "mimetype": "text/x-python",
      "name": "python",
      "nbconvert_exporter": "python",
      "pygments_lexer": "ipython3",
      "version": "3.8.8"
    },
    "colab": {
      "name": "Leaks1.11.ipynb",
      "provenance": [],
      "include_colab_link": true
    }
  },
  "nbformat": 4,
  "nbformat_minor": 0
}