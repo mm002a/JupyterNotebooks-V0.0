{
  "cells": [
    {
      "cell_type": "markdown",
      "metadata": {
        "id": "view-in-github",
        "colab_type": "text"
      },
      "source": [
        "<a href=\"https://colab.research.google.com/github/mm002a/JupyterNotebooks-V0.0/blob/main/GasCompressibilityJT.ipynb\" target=\"_parent\"><img src=\"https://colab.research.google.com/assets/colab-badge.svg\" alt=\"Open In Colab\"/></a>"
      ]
    },
    {
      "cell_type": "markdown",
      "metadata": {
        "id": "n1nhZktIH76u"
      },
      "source": [
        "_V1.1.0_\n",
        "# Equations of State and Gas compressibility\n",
        "We now investigate correlations for gas compressibility factors $Z$.\n",
        "## __A quick historical overview.__\n",
        "\n",
        "### Stage I - Foundations\n",
        "-   Boyle's Law (1662)\n",
        "\\begin{align}\n",
        "V \\propto \\frac{1}{P}\n",
        "\\end{align}\n",
        "-   Charles' Law (1787)\n",
        "\\begin{align}\n",
        "V \\propto T\n",
        "\\end{align}\n",
        "-   Dalton's Law of Partial Pressures (1801)\n",
        "\\begin{align}\n",
        "P_{tot} = \\sum_i P_i\n",
        "\\end{align}\n",
        "-   Gay-Lussac  Definition of the Universal Gas Constant $R$ (1802)\n",
        "$$ R = N_A \\,k_B ~~~~~~~~~\\text{ so that: }~~\n",
        " R = 8.314\\,462\\,618\\,153\\,24 ~~~~ J\\,K^{-1}\\,mol^{−1} $$\n",
        "-   Cagniard de la Tour (1822)\n",
        "Discovery of critical point.\n",
        "\\begin{align}\n",
        "\\left .\\frac{\\partial P}{\\partial V} \\right |_T = 0 ~~~~~~~\n",
        "\\text{ and: } ~~~~~~ \\left .\\frac{\\partial^2 P}{\\partial V^2} \\right |_T = 0\n",
        "\\end{align}\n",
        "-   Clapeyron Concept of absolute zero (1834)\n",
        "\\begin{align}\n",
        "PV = R\\,( \\,T^\\circ C+273\\,)\n",
        "\\end{align}\n",
        "### Extensions to non-ideal gases\n",
        "-   1873: van der Waals.\n",
        "\\begin{align}\n",
        "\\left ( P + \\frac{a}{V^2} \\right ) (V - b)= RT\n",
        "\\end{align}\n",
        "With van der Waals, a quantitative approach was taken\n",
        "for the first time. He was an experimentalist and proposed the continuity of gases and liquid that won for him a Nobel Prize. He has provided the most important contribution to EOS development.\n",
        "\n",
        "-   1875: Gibbs, an American mathematical physicist, made the most important contributions to the thermodynamics of equilibrium in what has been recognized as a monumental work.\n",
        "\n",
        "-   1901: Onnes theoretically confirmed the critical state.\n",
        "\n",
        "-   1902: Lewis defined the concept of fugacity.\n",
        "\n",
        "-   1927: Ursell proposed a series solution (polynomial functional form) for EOS:\n",
        "\\begin{align}\n",
        "P = 1+ \\sum_n c_n V^{-n}\n",
        "\\end{align}\n",
        "This is known as the virial EOS. Virial EOS has better theoretical foundation than any other. However, cubic EOS (as vdW’s) need only 2 parameters and have become more widespread in use.\n",
        "### Refinement\n",
        "-   1940: Benedit, Webb, & Rubin proposed what can be called the “Cadillac” of EOS, i.e., the most sophisticated and most accurate for some systems. However, the price to pay is that it is complicated and not easy to use.\n",
        "\\begin{align}\n",
        "P=\\rho RT + \\left(B_0 RT-A_0 - \\frac{C_0}{T^2} \\right) \\rho^2 +\n",
        "\\left(bRT-a\\right) \\rho^3 + \\alpha  a  \\rho^6 +\n",
        "\\frac{c\\rho^3}{T^2}\\left(1 + \\gamma\\rho^2\\right)\\exp\\left(-\\gamma\\rho^2\\right)\n",
        "\\end{align}\n",
        "-   1949: Redlich & Kwong introduced a temperature dependency to the attraction parameter “$a$” of the vdW EOS.\n",
        "\\begin{align}\n",
        "P = \\frac{R\\,T}{V_m-b} - \\frac{a}{\\sqrt{T}\\; V_m\\, (V_m+b)}\n",
        "\\end{align}\n",
        "where:\n",
        "   -   $V_m$ is the molar volume $V/n$\n",
        "\n",
        "-   1955: Pitzer introduced the idea of the “acentric factor” ($\\omega$) to quantify the non-sphericity of molecules and was able to relate it to vapour pressure data.\n",
        "\\begin{align}\n",
        "\\omega = - \\log_{10}(P_r^{sat}) -1, ~~~~~~~~~~\\text{ at: } T_r = 0.7\n",
        "\\end{align}\n",
        "\n",
        "-   1972: Soave modified the RK EOS by introducing Pitzer’s acentric factorinto the EOS.\n",
        "\\begin{align}\n",
        "\\alpha =\\,& \\left(1 + \\left(0.48508 + 1.55171\\,\\omega - 0.15613\\,\\omega^2\\right) \\left(1-T_r^{0.5}\\right)\\right)^2\\\\\n",
        "P =\\,& \\frac{R\\,T}{V_m-b} - \\frac{\\alpha \\, a}{\\sqrt{T}\\; V_m\\, (V_m+b)}\n",
        "\\end{align}\n",
        "\n",
        "-   1976: Peng and Robinson proposed their EOS as a result of a study sponsored by the Canadian Gas Commission, in which the main goal was finding the EOS best applicable to natural gas systems.\n",
        "$$P = \\frac{RT}{V-b} - \\frac{a(T)}{V(V+b)+b(V-b)} $$\n",
        "\n",
        "\n",
        "##References\n",
        "Some key sources are:\n",
        "1. Charles Cagniard de la Tour (1822). \"_Exposé de quelques résultats obtenu par l'action combinée de la chaleur et de la compression sur certains liquides, tels que l'eau, l'alcool, l'éther sulfurique et l'essence de pétrole rectifiée_\" [Presentation of some results obtained by the combined action of heat and compression on certain liquids, such as water, alcohol, sulfuric ether (i.e., diethyl ether), and distilled petroleum spirit]. Annales de Chimie et de Physique (in French). 21: 127–132.\n",
        "1. van der Waals, J.D. (1873) Over de Continuited van den Gas-en Vloeistoftoestand. Doctoral Thesis, University of Leiden, Leiden\n",
        "1. Lewis, G.N. A NEW CONCEPTION OF THERMAL PRESSURE AND\n",
        " A THEORY OF SOLUTIONS\n",
        " Proceedings of the American Academy of Arts and Sciences , Oct., 1900, Vol. 36,\n",
        "No. 9 (Oct., 1900), pp. 145-168\n",
        "  https://www.jstor.org/stable/20020988\n",
        "1. Ursell, H.D., The evaluation of Gibbs' phase-integral for imperfect gases,Proc Camb Phil Soc __23__, 685 (1927)  \n",
        "DOI: https://doi.org/10.1017/S0305004100011191\n",
        "1. Manson Benedict, George B. Webb, and Louis C. Rubin , \"An Empirical Equation for Thermodynamic Properties of Light Hydrocarbons and Their Mixtures II. Mixtures of Methane, Ethane, Propane, and n‐Butane\", J. Chem. Phys. 10, 747-758 (1942) https://doi.org/10.1063/1.1723658\n",
        "1. Otto. Redlich and J. N. S. Kwong (1949)\n",
        "On the Thermodynamics of Solutions. V. An Equation of State. Fugacities of Gaseous Solutions.\n",
        "Chem. Rev. 1949, 44, 1, 233–244\n",
        "https://doi.org/10.1021/cr60137a013\n",
        "1. Pitzer, K.S.; Lippmann, D.Z.; Curl, R.F.; Huggins, C.M.; Petersen, D.E. (1955) \"The volumetric and thermodynamic properties of fluids. II. Compressibility factor, vapour pressure and entropy of vaporization\", J.Am.Chem.Soc., 77:3433\n",
        "1. Soave, G. (1972) Equilibrium Constants from a Modified Redlich-Kwong Equation of State. Chemical Engineering Science, 27, 1197-1203.\n",
        "https://doi.org/10.1016/0009-2509(72)80096-4\n",
        "1. Ding-Yu Peng & Donald B. Robinson, **A New Two-Constant Equation of State**, *Ind. Eng. Chem. Fundam., Vol. 15, No. 1*, 1976\n",
        "[link](https://pubs.acs.org/doi/abs/10.1021/i160057a011)\n",
        "1. Azad Jarrahian, Babak Aghel, Ehsan Heidaryan, **On the viscosity of natural gas**, *Fuel 150 Pp 609–618*, 2015 [link](https://www.sciencedirect.com/science/article/pii/S0016236115001970)\n",
        "1. Gouq-Jen Su, **Modified Law of Corresponding States for Real Gases**,*Industrial and Engineering Chemistry*, Pp 803-806, (1946)\n",
        "\n",
        "###Web References\n",
        "1. https://www.slideshare.net/VeroMirandaBastias/redlich-kwong-1949\n",
        "1. https://www.e-education.psu.edu/png520/m7_p4.html\n",
        "\n"
      ]
    },
    {
      "cell_type": "markdown",
      "source": [
        "## The Law of Corresponding States\n",
        "__This derivation shows *the Law of Corresponding States*:__  \n",
        "\n",
        "All fluids behave similarly when described in terms of their reduced temperature and pressure ($T_r$ and $P_r$).\n",
        "\n",
        "For more information see: [link](https://chem.libretexts.org/Bookshelves/Physical_and_Theoretical_Chemistry_Textbook_Maps/Physical_Chemistry_(LibreTexts)/16%3A_The_Properties_of_Gases/16.04%3A_The_Law_of_Corresponding_States)"
      ],
      "metadata": {
        "id": "SwcmUecnoFVv"
      }
    },
    {
      "cell_type": "markdown",
      "metadata": {
        "id": "XfkEhMq6H760"
      },
      "source": [
        "## Joule-Thomson Cooling\n",
        "\n",
        "[//]: # (https://en.wikipedia.org/wiki/Joule–Thomson_effect)\n",
        "\n",
        "The Joule-Thomson coefficient is defined by:\n",
        "$$\n",
        "\\mu_{JT} = \\left . \\frac{\\partial T}{\\partial P} \\right |_H\n",
        "$$\n",
        "Real gases have an inversion point at which the JT coefficient changes sign. If we consider an isenthalmic throttling process then we two cases:\n",
        "   - [Below the inversion temperature] $ \\implies\\mu{JT} > 0$\n",
        "   - [Throttling process] $ \\implies \\delta P < 0 $\n",
        "   - $ \\implies \\delta T < 0~~~~~~$ __the gas cools__  \n",
        "\n",
        "Conversely:\n",
        " - [Above the inversion temperature] $ \\implies\\mu{JT} > 0$\n",
        "   - [Throttling process] $ \\implies \\delta P < 0 $\n",
        "   - $ \\implies \\delta T > 0~~~~~~$ __the gas warms__  \n",
        "\n",
        "Note: ideal gases have $\\mu_{JT} = 0 \\implies~~~~~~$ __no temperature change__\n",
        "\n",
        "$$\\quad$$\n",
        "$$\\quad$$\n",
        "\n",
        ">### __An important practical example is the flow of gas through a pressure reducing valve; the properties of the flow are similar.__  \n",
        ">### __At typical (field) temperatures/pressures natural gas cools down by approximately 0.5K per bar of pressure decrease.__\n",
        "\n",
        "$$\\quad$$\n",
        "$$\\quad$$\n",
        "\n",
        "### Joule-Thomson Cooling in terms of coefficient of thermal expansion.\n",
        "By considering the total derivative of a function $f(x,y,z) = 0$ we can deduce Euler's chain rule:\n",
        "$$\n",
        "\\left(\\frac{\\partial x}{\\partial y}\\right)\\left(\\frac{\\partial y}{\\partial z}\\right)\\left(\\frac{\\partial z}{\\partial x}\\right) = -1\n",
        "$$\n",
        "We now apply this to the the function:\n",
        "$\n",
        "\\mu_{JT} \\equiv \\mu_{JT}(T,P,H)\n",
        "$\n",
        "\n",
        "to give:\n",
        "$$\n",
        "\\left(\\frac{\\partial T}{\\partial P}\\right)_H\\left(\\frac{\\partial H}{\\partial T}\\right)_P \\left(\\frac{\\partial P}{\\partial H}\\right)_T = -1\n",
        "$$\n",
        "\n",
        "Let us identify these terms:\n",
        "   - the Joule-Thomson coefficient:\n",
        "$\n",
        "\\mu_{JT} = \\left . \\frac{\\partial T}{\\partial P} \\right |_H\n",
        "$\n",
        "   - the heat capacity at constant pressure:\n",
        "$\n",
        "C_P = \\left . \\frac{\\partial H}{\\partial T} \\right |_P\n",
        "$\n",
        "   - the inverse of the third term:\n",
        "$\n",
        "\\mu_T = \\left . \\frac{\\partial H}{\\partial P} \\right |_T\n",
        "$\n",
        "   is the isothermal Joule-Thomson coefficient.\n",
        "\n",
        "Clearly, combining the above results we obtain:\n",
        "$$\n",
        "\\mu_{JT} = - \\frac{\\mu_T}{C_P}\n",
        "$$\n",
        "We now use the enthalpy equation:\n",
        "$~~~~~dH = TdS + VdP~~~~~~$\n",
        "or, equivalently:  \n",
        "$$\\left.\\frac{\\partial H}{\\partial P}\\right|_T =\n",
        "    T\\left.\\frac{\\partial S}{\\partial P}\\right|_T + V\n",
        "$$\n",
        "now combine this with the Maxwell relation:\n",
        "$$\n",
        "\\left.\\frac{\\partial S}{\\partial P}\\right|_T =\n",
        "\\left.\\frac{\\partial V}{\\partial T}\\right|_P = -\\beta V\n",
        "$$\n",
        "\n",
        "[//]: # (https://www.ucl.ac.uk/EarthSci/people/lidunka/GEOL2014/Geophysics3%20-%20Elasticity%20and%20EoS/Elasticity%20and%20EOS.html)\n",
        "\n",
        "and use the definition of the coefficient of thermal expansion:\n",
        "$$ \\beta = \\frac{1}{V} \\left . \\frac{\\partial V}{\\partial T} \\right |_P$$\n",
        "\n",
        "Combining these results we obtain:\n",
        "$$\n",
        "\\mu_T = -\\beta V T + V = V ( 1 - \\beta T)\n",
        "$$\n",
        "or, finally:\n",
        "$$\n",
        "\\mu_{JT} = \\left . \\frac{\\partial T}{\\partial P} \\right |_H\n",
        "= \\frac{V}{C_P} (\\beta T -1)\n",
        "$$\n",
        "\n"
      ]
    },
    {
      "cell_type": "markdown",
      "metadata": {
        "id": "NZg0gq5FH76z"
      },
      "source": [
        "## The van der Waal Model\n",
        "\n",
        "We shall consider monatomic gases obeying van der Waal's equation:\n",
        "$ \\left ( P + \\frac{a}{V^2} \\right ) (V - b)= RT $  \n",
        "\n",
        "Note: the constants $a$ and $b$ can be thought of as analogous to the constants in the Peng-Robinson approach. However, van der Waal's equation is usually derived by considering atomic structure.\n",
        "\n",
        "We now introduce the internal energy of the gas, $E$.   \n",
        "If we assume that the centre of mass of the gas is at rest then $E$ is the sum of:  \n",
        "   * the translational kinetic energy of the molecules ($KE$),\n",
        "   * the potential energy associated with the *intermolecular* interactions ($PE_{inter}$) and\n",
        "   * the potential  energy associated with the *intramolecular* interactions ($PE_{intra}$)  \n",
        "\n",
        "Therefore:\n",
        "$$E = KE + PE _{inter} + PE_{intra}$$\n",
        "   \n",
        "For a monatomic, van der Waal's gas this can be written simply as:\n",
        "\\begin{align*}\n",
        "E = \\frac{3}{2} RT - \\frac{a}{V}\n",
        "\\end{align*}\n",
        "For more information see this\n",
        "[link](https://phys.libretexts.org/Bookshelves/Classical_Mechanics/Book%3A_Classical_Mechanics_(Dourmashkin)/29%3A_Kinetic_Theory_of_Gases/29.03%3A_Internal_Energy_of_a_Gas)  \n",
        "\n",
        "By the definition of $C_V$:\n",
        "\\begin{align*}\n",
        "C_V &= \\left . \\left ( \\frac{\\partial E}{\\partial T} \\right ) \\right |_V \\\\\n",
        " &= \\frac{3}{2} R\n",
        "\\end{align*}\n",
        "Similarly, we use the definition of $C_P$:\n",
        "\\begin{align*}\n",
        "C_P \\delta T &= \\delta E + P \\delta V \\textsf{ because the volume changes to maintain the pressure}\\\\\n",
        " &= \\delta \\left ( \\frac{3}{2} RT - \\frac{a}{V}\\right )  + P \\delta V\\\\\n",
        " &= \\frac{3}{2} R \\delta T + \\frac{a}{V^2} \\delta V + P \\delta V\\\\\n",
        " &= C_V \\delta T + \\left (\\frac{a}{V^2} + P \\right ) \\delta V\n",
        "\\end{align*}\n",
        "We now need to determine the relationship between $\\delta V$ and $\\delta T$ which maintain constant pressure.  \n",
        "Again we perturb the van der Waal's equation:\n",
        "\\begin{align*}\n",
        " R \\delta T&=\n",
        "\\left ( P + \\frac{a}{V^2}\\right ) \\delta (V - b) +\n",
        "(V-b) \\delta\\left ( P + \\frac{a}{V^2}\\right )\\\\\n",
        " &= \\left ( P + \\frac{a}{V^2}\\right ) \\delta V +\n",
        " (V-b) \\delta P - (V-b)\\left ( \\frac{2a}{V^3}\\right )\\delta V\\\\\n",
        " &= (V-b) \\delta P + \\left ( P - \\frac{a}{V^2}\\right ) \\delta V\\\\\n",
        " &= \\left ( P - \\frac{a}{V^2}\\right ) \\delta V\n",
        "\\end{align*}\n",
        "(we have used the fact that $P$ is constant, so $\\delta P =0$; and we have ignored the second order term $\\frac{ab}{V^3}$.)\n",
        "\n",
        "We combine these two results and use the binomial theorem to give:\n",
        "\\begin{align*}\n",
        "C_P - C_V &= R \\frac{P + \\frac{a}{V^2}}{P - \\frac{a}{V^2}}\\\\\n",
        "&= R \\left ( 1 + \\frac{2a}{RVT} \\right )\n",
        "\\end{align*}\n",
        "Thus we can finally deduce that:\n",
        "$$\n",
        "C_P = \\frac{5}{2} R + \\frac{2a}{VT}\n",
        "$$"
      ]
    },
    {
      "cell_type": "markdown",
      "source": [
        "### Joule-Thomson Cooling for a monatomic, van der Waal's gas\n",
        "We now consider the effect of changes in pressure and volume for _non-ideal_ gases.\n",
        "Let us consider the flow of gas through a porous plug.  \n",
        "(In 1852 the experimenters used a silk handherchief, now a porous ceramic plug is more common.)\n",
        "\n",
        "If we ignore viscous effects and assume that the experiment has reached a steady state then the process is isenthalpic.\n",
        "It is possible to show that, under these assumptions,\n",
        "$$\n",
        "\\frac{dT}{dP} = \\frac{\\frac{2a}{RT} - b}{C_p}\n",
        "$$\n",
        "In the experiment the pressure decreases so, if $ \\frac{dT}{dP} > 0$ then the temperature of the gas will also decrease.  \n",
        "We know that $a > 0 $ so if $\\frac{2a}{RT} > b $ then the Joule-Thomson process will result in *cooling* the gas."
      ],
      "metadata": {
        "id": "gbH8Q3hDKsgn"
      }
    },
    {
      "cell_type": "markdown",
      "metadata": {
        "id": "rpA5zCn7H761"
      },
      "source": [
        "### Joule-Thomson Cooling: Derivation\n",
        "Let's derive this result.\n",
        "\n",
        "The enthalpy of the gas is defined by:\n",
        "\\begin{align*}\n",
        "H = E + PV &= \\frac{3}{2} RT - \\frac{a}{V} + RT - \\frac{a}{V} + bP\\\\\n",
        "   &= \\frac{5}{2} RT - \\frac{2aP}{RT} + bP\n",
        "\\end{align*}.  \n",
        "(We have neglected the second order terms involving: $a^2$ and $ab$.)  \n",
        "Since the flow is isenthalpic: $ \\delta H = \\delta (E+PV) = 0$  \n",
        "Substituting in we obtain:\n",
        "\n",
        "\\begin{align*}\n",
        "0 &= \\frac{5}{2} R \\delta T - \\frac{2a}{R}\\left ( \\frac{1}{T} \\delta P - \\frac{P}{T^2} \\delta T \\right ) + b \\delta P\\\\\n",
        " &= \\left ( \\frac{5}{2} R + \\frac{2aP}{RT^2} \\right ) \\delta T\n",
        "  + \\left ( b - \\frac{2a}{RT} \\right )\\delta P\\\\\n",
        "    &=C_P \\delta T + \\left ( b - \\frac{2a}{RT} \\right )\\delta P\n",
        "\\end{align*}.  \n",
        "\n",
        "(We have substituted: $\\frac{2a}{VT} = \\frac{2aP}{RT^2}$ and then used the earlier result for $C_P$.)\n",
        "\n",
        "Thus, for a Joule-Thomson process we have:\n",
        "$$\n",
        "\\frac{dT}{dP} = \\frac{1}{C_P}\\left ( \\frac{2a}{RT}  -b \\right )\n",
        "$$\n",
        "\n",
        "This expression is known as the differential Joule-Thomson coefficient.\n",
        "\n",
        "Note that this argument may be extended to more complex molecules; the results are qualitatively the same.\n",
        "\n",
        "The sign of the JT coefficient depends on temperature and pressure.  \n",
        "\n",
        "$$\\quad$$\n",
        "$$\\quad$$\n",
        "\n",
        ">### __At typical (field) temperatures/pressures natural gas cools down by approximately 0.5K per bar of pressure decrease.__\n",
        "\n",
        "$$\\quad$$\n",
        "$$\\quad$$"
      ]
    },
    {
      "cell_type": "markdown",
      "source": [
        "##The Peng Robinson Model\n",
        "We start by decomposing pressure into a repulsive and attractive component motivated by non-ideal kinetic theory and an inter-molecular attractive force.\n",
        "\n",
        "$$ P = P_R + P_A = \\frac{RT}{V-b} - \\frac{a}{g(V)} $$\n",
        "where $b$ is related to the size of the 'hard' molecules (independent of $T$), $a$ is a representation of the inter-molecular attraction (and is a function of $T$). $g(V)$ is a function of the molar volume, $V$. Peng and Robinson suggest that:\n",
        "$$P = \\frac{RT}{V-b} - \\frac{a(T)}{V(V+b)+b(V-b)} ~~~~~~~~~~~~~~~\\textsf{Eqn: PR}$$\n",
        "\n",
        ">  *Compare Van der Waal's forces which can be written as: $\\left (P+\\frac{n^2a}{V^2} \\right ) \\left (V-nb \\right )=nRT $.\n",
        "This has the analytic solution $a=\\frac{27n^2R^2T_c^2}{64P_c}(4-3n^2)$ and $b=\\frac{RT_c}{8P_c}(4-3n^2)$. For $n=1$ we have $a=0.421875\\frac{R^2T_c^2}{P_c}$ and $b=0.125\\frac{RT_c}{P_c}$; compare the PR values obtained below.*\n",
        "\n",
        "We introduce $Z = \\frac{PV}{RT}$ into __Eqn:PR__;  \n",
        "_(re-write as a cubic in $Z$, simplify and scale the coefficients)_.   \n",
        "Then we can write:\n",
        "$$Z^3 - (1-B)Z^2 + (A-3B^2 -2B) Z - (AB -B^2 - B^3) = 0$$\n",
        "where\n",
        "$ A = \\frac{aP}{(RT)^2}, B = \\frac{bP}{RT} $\n",
        "\n",
        "Of course, we can write this as:\n",
        "$$\n",
        "Z^3 - Z^2 + [ B Z^2 + (A-3B^2 -2B) Z - (AB -B^2 - B^3) ] = 0\n",
        "$$\n",
        "which is consistant with the statement that $Z = 1$ for an ideal gas (because $ a = b = 0$ for an *ideal* gas).\n",
        "\n",
        "At the critical point we have:\n",
        "$$ \\left. \\frac{\\partial P}{\\partial V} \\right |_T = 0 ~~\\textsf{and}~~  \\left. \\frac{\\partial^2 P}{\\partial V^2} \\right |_T = 0$$ which leads to:\n",
        "$$\n",
        "a(T_c) = 0.45724 \\frac{R^2T_c^2}{P_c} , ~~b(T_c) = 0.07780 \\frac{RT_c}{P_c} ~~\\textsf{and}~~ Z_c = 0.307\n",
        "$$\n",
        "\n",
        "At other temperatures it is reasonable to write: $b(T) = b(T_c)$ (a constant)\n",
        "and $a(T) = a(T_c)\\times\\alpha(T_r,\\omega)$\n",
        "\n",
        "where $T_r = T/T_c$ is the reduced temperature and $\\omega$ is an 'acentric' factor; clearly we need $\\alpha(1,\\omega) \\equiv 1 ~~~~\\forall~ \\omega$.\n",
        "\n",
        "Comparison with experimental data gives:\n",
        "\\begin{align}\n",
        "\\sqrt{\\alpha} = 1 + \\kappa \\left(1 -T_r^{\\frac{1}{2}}\\right)\n",
        "\\end{align}\n",
        "with:\n",
        "$$\\kappa = 0.37464 + 1.54226\\omega - 0.26992 \\omega^2 $$\n",
        "Values of $\\omega$ can be found from this graph taken from Peng and Robinson (Figure 2).\n",
        "_(This data is also available in tabular form at: [Reid et al.](http://www.kaylaiacovino.com/Petrology_Tools/Critical_Constants_and_Acentric_Factors.htm))_\n",
        "<img src=\"https://github.com/mm002a/JupyterNotebooks-V0.0/blob/main/DocPengRobDiag.png?raw=1\" />  \n"
      ],
      "metadata": {
        "id": "TWqhyuUolVvR"
      }
    },
    {
      "cell_type": "markdown",
      "source": [],
      "metadata": {
        "id": "rWKcl58czpIj"
      }
    },
    {
      "cell_type": "markdown",
      "metadata": {
        "id": "aLJe-K59H764"
      },
      "source": [
        "## Notes on Peng Robinson coefficients at the critical point\n",
        "\n",
        "First let's evaluate the basic polynomial:\n",
        "\\begin{align}\n",
        " PR(Z) \\equiv Z^3 - Z^2 + [ B Z^2 + (A-3B^2 -2B) Z - (AB -B^2 - B^3) ] = 0\n",
        "\\end{align}\n",
        "\n",
        "We evaluate this in the `Python` cell below.\n",
        "\n",
        "$\\quad$"
      ]
    },
    {
      "cell_type": "code",
      "execution_count": null,
      "metadata": {
        "id": "K-WclZjJH765",
        "outputId": "04f7b841-911b-47f3-adb7-90d0aefcb893",
        "colab": {
          "base_uri": "https://localhost:8080/"
        }
      },
      "outputs": [
        {
          "output_type": "stream",
          "name": "stdout",
          "text": [
            "Ideal Gas:  0\n",
            "At the Critical Point -- PolyZ(0.307,0.45724,0.07780) =  -2.69E-06\n"
          ]
        }
      ],
      "source": [
        "\n",
        "def PolyZ(Z, A, B):\n",
        "    \"\"\"\n",
        "    Evaluate the Peng-Robinson polynomial for the non-dimensional compressibility (Z):\n",
        "    P(Z,A,B) = Z^3 -(1-B)Z^2 + (A-3B^2-2B)Z-(AB-B^2-B^3)\n",
        "    Validation tests:\n",
        "    A=B=0 (the ideal gas case) => Z=0\n",
        "    and\n",
        "    PolyZ(0.307,0.45724,0.07780) =0 The coefficients in the PR paper evaluated at the critical point.\n",
        "    \"\"\"\n",
        "    PZ = Z**3 - (1-B)*Z**2 + (A-3*B**2 - 2*B) *Z -( A*B - B**2 - B**3)\n",
        "    return PZ\n",
        "print(\"Ideal Gas: \",PolyZ(1,0,0))\n",
        "#print(\"Z=\",Z,\" A=\",A,\" B=\",B,\"ANS=\",PZ)\n",
        "print(\"At the Critical Point -- PolyZ(0.307,0.45724,0.07780) = \",\"{:8.2E}\".format(PolyZ(0.307,0.45724,0.07780)))"
      ]
    },
    {
      "cell_type": "markdown",
      "metadata": {
        "id": "uR30ZtdBH766"
      },
      "source": [
        "#### Notes on PR coefficients at the critical point - the first derivative\n",
        "<a id='Notes1'></a>\n",
        "We differentiate __Eqn:PR__ with respect to V:\n",
        "\n",
        "\\begin{align}\n",
        "\\left . \\frac{\\partial P}{\\partial V} \\right |_T &= - \\frac{RT}{(V-b)^2} + 2a \\frac{(V + b)}{(V^2+2bV-b^2)^2}\\\\\n",
        "\\end{align}\n",
        "\n",
        "which can be written in normalised form as:\n",
        "\\begin{align}\n",
        "- PositiveFn \\times \\frac{P^4}{(RT)^5}\\left .\\frac{\\partial P}{\\partial V} \\right |_T = \\{ 2A (Z+B)(Z-B)^2 - (Z^2 + 2BZ -B^2)^2 \\}\n",
        "\\end{align}\n",
        "\n",
        "Evaluating this at the critical point we have:\n",
        "$\n",
        "\\left .\\frac{\\partial P}{\\partial V} \\right |_T = 0\n",
        "$\n",
        "which is satisfied by the coefficients and value given above."
      ]
    },
    {
      "cell_type": "code",
      "execution_count": null,
      "metadata": {
        "id": "M6fGvfUDH766",
        "outputId": "37606cdc-505b-43b8-cb28-0bef421215cf"
      },
      "outputs": [
        {
          "name": "stdout",
          "output_type": "stream",
          "text": [
            "Gradient at Critical Point  -7.684081830341971e-07\n",
            "Gradient at Critical Point  1.290313487653516e-08\n"
          ]
        }
      ],
      "source": [
        "def DPolyZ(Z,A,B):\n",
        "    \"\"\"\n",
        "    This function evaluates the RHS of the above equation for DP/DV.\n",
        "    Usage: DPolyZ(Z-compressibility, A, B - non-dimensional constants from Peng Robinson)\n",
        "    Validation test: It should be zero at the critical point.\n",
        "    \"\"\"\n",
        "    DPZ = 2*A*(Z+B)*(Z-B)**2 - (Z**2 + 2*B*Z - B**2)**2\n",
        "    return DPZ\n",
        "print(\"Gradient at Critical Point \",DPolyZ(0.307,0.45724,0.07780))\n",
        "print(\"Gradient at Critical Point \",DPolyZ(3.07401e-01,4.57236e-01,7.77961e-02))"
      ]
    },
    {
      "cell_type": "markdown",
      "metadata": {
        "id": "yME_LcqQH767"
      },
      "source": [
        "#### Notes on PR coefficients at the critical point - the second derivative\n",
        "\n",
        "We differentiate Eqn:PR **twice** wrt V:\n",
        "\n",
        "\\begin{align}\n",
        "\\left . \\frac{\\partial^2 P}{\\partial V^2} \\right |_T &= \\frac{2RT}{(V-b)^3} - 2a \\frac{(3V^2+6BV + 5b^2)}{(V^2+2bV-b^2)^3}\\\\\n",
        "\\end{align}\n",
        "\n",
        "which can be written in normalised form as:\n",
        "\\begin{align}\n",
        "- 𝑃𝑜𝑠𝑖𝑡𝑖𝑣𝑒𝐹𝑛 \\times \\frac{RT^2}{P^3}\\left .\\frac{\\partial^2 P}{\\partial V^2} \\right |_T &=\n",
        "2\\left \\{ -A \\frac{3Z^2+6BZ+5B^2}{(Z^2+2BZ - B^2)^3}  + \\frac{1}{(Z-B)^3} \\right \\}\\\\\n",
        "&=\\left \\{ \\frac{1}{(Z-B)^3} - A \\frac{3Z^2+6BZ+5B^2}{(Z^2+2BZ - B^2)^3} \\right \\}\n",
        "\\end{align}\n",
        "\n",
        "Evaluating this at the critical point we have:\n",
        "$\n",
        "\\left .\\frac{\\partial^2 P}{\\partial V^2} \\right |_T = 0\n",
        "$\n",
        "which is satisfied by the coefficients and value given above."
      ]
    },
    {
      "cell_type": "code",
      "execution_count": null,
      "metadata": {
        "id": "-3d0hO67H767",
        "outputId": "00550122-1e82-4fc6-c81b-e4a4e281b8a2",
        "colab": {
          "base_uri": "https://localhost:8080/"
        }
      },
      "outputs": [
        {
          "output_type": "stream",
          "name": "stdout",
          "text": [
            "Second Gradient at Critical Point  0.04366953294452003 That's quite small?\n",
            "Second Gradient at Critical Point (define coeffs to SIX figures) -1.79E-05 . That's pretty sensitive to rounding!\n"
          ]
        }
      ],
      "source": [
        "def D2PolyZ(Z,A,B):\n",
        "    \"\"\"A function to evaluate a multiple of D^2P/DV^2 of the PR equation\"\"\"\n",
        "    D2PZ = 1/(Z-B)**3 - A*(3*Z**2+6*B*Z+5*B**2)/(Z**2+2*B*Z-B**2)**3\n",
        "    return D2PZ\n",
        "print(\"Second Gradient at Critical Point \",D2PolyZ(0.307,0.45724,0.07780),\"That's quite small?\")\n",
        "print(\"Second Gradient at Critical Point (define coeffs to SIX figures)\",\n",
        "      \"{:8.2E}\".format(D2PolyZ(3.07401e-01,4.57236e-01,7.77961e-02)),\n",
        "      \". That's pretty sensitive to rounding!\")"
      ]
    },
    {
      "cell_type": "code",
      "execution_count": null,
      "metadata": {
        "id": "3girlKxaH767",
        "outputId": "b6e1e691-7ba5-46ce-9d74-5db8968a0e33"
      },
      "outputs": [
        {
          "name": "stdout",
          "output_type": "stream",
          "text": [
            "Validation - compressibility for an ideal gas:\n",
            "x:  [1.0, 0, 0] 1.0 0 0\n",
            "Validation for PR values (close to critical point) x:  [0.307, 0.45724, 0.0778] 0.307 0.45724 0.0778\n",
            "                                   F:  [-2.691488000014508e-06, -7.684081830341971e-07, 0.04366953294452003]\n",
            "Behaviour at the critical point - confirms PR result (Eqns. 9,10,11)\n",
            "optimize.fsolve [Z,A,B] [0.30740131 0.45723553 0.07779607] [PR(Z),DP,D^2P] [-3.5388358909926865e-15, 8.396061623727746e-16, -3.1874947126198094e-11]\n",
            "2.5 optimize.fsolve [Z,A,B] [0.30740131 0.45723553 0.07779607] [PR(Z),DP,D^2P] -3.54e-15 8.40e-16 -3.19e-11 \n",
            "4   optimize.fsolve [Z,A,B] [0.30740131 0.45723553 0.07779607] [PR(Z),DP,D^2P] [-3.5388358909926865e-15, 8.396061623727746e-16, -3.1874947126198094e-11]\n"
          ]
        }
      ],
      "source": [
        "#\n",
        "#This last result suggests that the coefficients given in the original PR paper\n",
        "# are not very accurate. This cell calculates improved values of coefficients.\n",
        "# And improves the results!\n",
        "#\n",
        "from scipy import optimize\n",
        "def func(x):\n",
        "    \"\"\"\n",
        "    A function to evaluate a scaled function of P, DP/DV, D2P/DV2\n",
        "    when written in the Peng-Robinson notation of:\n",
        "    Z,A,B\n",
        "    \"\"\"\n",
        "    DEBUG = 0 # 0 => FALSE\n",
        "#First switch to normal (PR) notation\n",
        "    Z=x[0]; A=x[1] ; B=x[2]\n",
        "    F=[1.0,1.0,1.0] # Initialise to some easy to recognize value\n",
        "#    print(\"Z,A,B: \",Z,A,B)\n",
        "#Calculate P\n",
        "    F[0] = Z**3 - (1-B)*Z**2 +(A-3*B**2-2*B)*Z - (A*B-B**2-B**3)\n",
        "#Calculate DP/DV\n",
        "    F[1] = 2*A*(Z+B)*(Z-B)**2 - (Z**2 + 2*B*Z - B**2)**2\n",
        "#Calculate D2P/DV2\n",
        "    F[2] = 1/(Z-B)**3 - A*(3*Z**2+6*B*Z+5*B**2)/(Z**2+2*B*Z-B**2)**3\n",
        "\n",
        "    if DEBUG: print(\"Z,A,B: \",'{:12.5e}'.format(Z),'{:12.5e}'.format(A),'{:12.5e}'.format(B),\n",
        "          \"   F: \",'{:8.2e}'.format(F[0]),\" DP/DV:\",'{:8.1e}'.format(F[1]),\"D2P/DV2:\",'{:8.1e}'.format(F[2]))\n",
        "\n",
        "    return F\n",
        "\n",
        "print(\"Validation - compressibility for an ideal gas:\")\n",
        "x=x0 = [1.0,0,0]\n",
        "print(\"x: \",x, x[0],x[1],x[2])\n",
        "x=x0 = [0.307,0.45724,0.07780]\n",
        "print(\"Validation for PR values (close to critical point) x: \",x, x[0],x[1],x[2])\n",
        "\n",
        "FN = func(x0)\n",
        "print(\"                                   F: \",FN)\n",
        "\n",
        "print(\"Behaviour at the critical point - confirms PR result (Eqns. 9,10,11)\")\n",
        "x=optimize.fsolve(func,x0,full_output=0)\n",
        "print(\"optimize.fsolve [Z,A,B]\",x,\"[PR(Z),DP,D^2P]\",func(x))\n",
        "fstring = '{:8.2E}'\n",
        "print(\"2.5 optimize.fsolve [Z,A,B]\",x,\"[PR(Z),DP,D^2P]\",end=' ');\n",
        "for i in range (0,3): print('{:8.2e}'.format(func(x)[i]), end=' ')\n",
        "print()\n",
        "print(\"4   optimize.fsolve [Z,A,B]\",x,\"[PR(Z),DP,D^2P]\",func(x))"
      ]
    },
    {
      "cell_type": "markdown",
      "metadata": {
        "id": "spXcQgjtH768"
      },
      "source": [
        "### Summary - Peng-Robinson model\n",
        "\n",
        "These results show that the coefficients given in the Peng Robinson paper follow directly form the analysis of the gas behaviour around the critical point. Although the results are sensitive to exact values four decimal places for $b(T_cr)$ has a significant effect on the value of $\\left . \\frac{\\partial ^2 P}{\\partial V^2} \\right |_T$"
      ]
    },
    {
      "cell_type": "markdown",
      "metadata": {
        "id": "pdMM99ugH761"
      },
      "source": [
        "## Case Study: Compressibility of Methane and Ethane for the Frigg pipeline conditions.\n",
        "\n",
        "(Using the Peng Robinson EOS.)"
      ]
    },
    {
      "cell_type": "code",
      "execution_count": null,
      "metadata": {
        "id": "Rom4LebCH762",
        "outputId": "deb8f860-9cdf-4dcf-eac2-eb701ff55b78",
        "colab": {
          "base_uri": "https://localhost:8080/"
        }
      },
      "outputs": [
        {
          "output_type": "stream",
          "name": "stdout",
          "text": [
            "Z= 1.0  A= 0.0  B= 0.0 PRCubic= 0.0\n",
            "Ideal Gas (PR cubic should be 0.0): 0.0\n",
            "XARGS:  0.4572355289212813 0.07779607390386772 1\n",
            "Z= 0.30740131  A= 0.4572355289212813  B= 0.07779607390386772 PRCubic= -3.5388358909926865e-15\n",
            "Critical Point (PR cubic should be 0.0): -3.5388358909926865e-15\n",
            "\n",
            "Compressibility of Methane\n",
            "Case 9: T =: 313 K, P = 13010000.0 Pa\n",
            "The compressibility of methane at Frigg conditions is: [0.83924289]\n",
            "\n",
            "Compressibility of Ethane\n",
            "Case 9: T =: 313 K, P = 13010000.0 Pa\n",
            "The compressibility of ethane at Frigg conditions is: [0.39788793]\n"
          ]
        }
      ],
      "source": [
        "import math\n",
        "from scipy import optimize\n",
        "\n",
        "def PRZP3(Z, XARGS =[0.4572355289212813, 0.07779607390386772, 1]):\n",
        "    \"\"\"\n",
        "    Evaluate the Peng-Robinson polynomial for the non-dimensional compressibility (Z):\n",
        "    P(Z,A,B) = Z^3 -(1-B)Z^2 + (A-3B^2-2B)Z-(AB-B^2-B^3)\n",
        "    Try:\n",
        "    A=B=0 (the ideal gas case) => Z=0\n",
        "    and\n",
        "    PolyZ(0.307,0.45724,0.07780) =0 The coefficients in the PR paper evaluated at the critical point.\n",
        "    \"\"\"\n",
        "    Acap=XARGS[0]; Bcap=XARGS[1]; DEBUG=XARGS[2]\n",
        "    PRZ3 = Z**3 - (1-Bcap)*Z**2 + (Acap-3*Bcap**2 - 2*Bcap)*Z -( Acap*Bcap - Bcap**2 - Bcap**3)\n",
        "    if DEBUG: print(\"Z=\",Z,\" A=\",Acap,\" B=\",Bcap,\"PRCubic=\",PRZ3)\n",
        "    return PRZ3\n",
        "Acap=Bcap=0.0; Z=1.0\n",
        "XARGS= [Acap, Bcap,1]\n",
        "print(\"Ideal Gas (PR cubic should be 0.0):\",PRZP3(1.0, XARGS))\n",
        "Acap=0.4572355289212813 # optimal value x[1], from below\n",
        "Bcap=0.07779607390386772 # optimal value x[2], from below\n",
        "XARGS= [Acap, Bcap,1]\n",
        "print(\"XARGS: \",XARGS[0],XARGS[1],XARGS[2])\n",
        "print(\"Critical Point (PR cubic should be 0.0):\",PRZP3(0.30740131,XARGS))\n",
        "\n",
        "\n",
        "R = 8.314413 # The ideal gas constant\n",
        "print(\"\\nCompressibility of Methane\")\n",
        "#R. C. Reid, J. M. Prausnitz, & B. E. Poling, 1987, The Properties of Gases & Liquids, 4th Ed. New York: McGraw-Hill\n",
        "#    http://www.kaylaiacovino.com/Petrology_Tools/Critical_Constants_and_Acentric_Factors.htm\n",
        "\n",
        "omega = 0.0115              # acentric factor for methane\n",
        "kappa = 0.37464+1.54226*omega-0.26992*omega**2\n",
        "Tc = 191.15; Pc = 4.641E6   # Methane critical point properties\n",
        "T= 313 ; P = 13.01E6        # Frigg pipeline conditions (Case 9) Frigg - MCP01\n",
        "Tr = T/Tc; Pr = P/Pc        #Compute reduced temperature and pressure\n",
        "print(\"Case 9: T =:\",T,\"K, P =\",P,\"Pa\")\n",
        "alpha = (1+kappa*(1-math.sqrt(Tr)))**2\n",
        "Acap = (0.4572355289212813*Pr*alpha)/Tr**2 # Use improved values for A and B\n",
        "Bcap = (0.07779607390386772*Pr)/Tr\n",
        "zx=optimize.fsolve(PRZP3,[1], [Acap, Bcap,0],full_output=0)\n",
        "print(\"The compressibility of methane at Frigg conditions is:\", zx)\n",
        "#\n",
        "#\n",
        "print(\"\\nCompressibility of Ethane\")\n",
        "omega = 0.099              # acentric factor for ethane\n",
        "kappa = 0.37464+1.54226*omega-0.26992*omega**2\n",
        "Tc = 305.4; Pc = 4.88E6    # Ethane critical point properties\n",
        "T= 313 ; P = 13.01E6       # Frigg pipeline conditions (Case 9) Frigg - MCP01\n",
        "Tr = T/Tc; Pr = P/Pc       #Compute reduced temperature and pressure\n",
        "print(\"Case 9: T =:\",T,\"K, P =\",P,\"Pa\")\n",
        "alpha = (1+kappa*(1-math.sqrt(Tr)))**2\n",
        "Acap = (0.4572355289212813*Pr*alpha)/Tr**2   # Use improved values for A and B\n",
        "Bcap = (0.07779607390386772*Pr)/Tr\n",
        "zx=optimize.fsolve(PRZP3,1, [Acap, Bcap,0],full_output=0)\n",
        "print(\"The compressibility of ethane at Frigg conditions is:\", zx)"
      ]
    },
    {
      "cell_type": "markdown",
      "metadata": {
        "id": "oSahKJnqH764"
      },
      "source": [
        "## Other resources\n",
        "For methane: [USGS web page](https://pubs.usgs.gov/of/2005/1451/equation.html):\n",
        "$\\omega = 0.0115, T_c = 191.15K, P_c = 4.641 MPa$\n",
        "The ideal gas constant $R = 8.314413 J mol^{-1}K^{-1}$\n",
        "\n",
        "For enthalpy diagrams of other fluids see this [on-line worksheet](https://www.questconsult.com/thermo/enthalpy_pressure_diagram.html):\n",
        "\n",
        "This data is available in tabular form at: [Reid et al.](http://www.kaylaiacovino.com/Petrology_Tools/Critical_Constants_and_Acentric_Factors.htm)\n",
        "\n",
        "Taken from:\n",
        "R. C. Reid, J. M. Prausnitz, and B. E. Poling, 1987, The Properties of Gases and Liquids, 4th Ed. New York: McGraw-Hill\n",
        "\n",
        " #### Other relevant web sites\n",
        "1.  https://engineeringunits.com/compressibility-factor-calculator-z/\n",
        "1.  https://petrowiki.org/Real_gases - poor\n",
        "3.  https://checalc.com/solved/naturalgasZ.html\n",
        "4.  https://pubs.usgs.gov/of/2005/1451/equation.html (Peng-Robinson equation of state)\n",
        "5.  http://www.kaylaiacovino.com/Petrology_Tools/Critical_Constants_and_Acentric_Factors.htm\n",
        "1.  https://engineeringunits.com/compressibility-factor-z-factor/ (Deals with mixtures e.g. Kay's rule - worth a look.)\n",
        "1.  http://www.peacesoftware.de/einigewerte/methan_e.html (Compressibility factors - and other thermodynamic properties - for a few interesting gases.)"
      ]
    },
    {
      "cell_type": "markdown",
      "metadata": {
        "id": "LNgpDUpnH768"
      },
      "source": [
        "## CNGA compressibility factor (Under Development)\n",
        "\n",
        "The California Natural Gas Association gives the following simple formula for the compressibility of natural gas:\n",
        "$$\n",
        "Z = \\left [ 1+ \\frac{3.44400\\mathrm{E}5 \\times \\overline{P}_{psi~g} \\times 10^{1.785\\gamma}}{\\overline{T}_R^{~3.825}} \\right ]^{~-1}\n",
        "$$\n",
        "in field units(!):\n",
        "$\\overline{P}_{psi~g}$ -- average gas pressure in psig; $\\overline{T}_R$ -- average gas temperature in $ ^\\circ R$ and $\\gamma$ -- specific gravity of the gas. This gives reasonable accuracy for pressures over 100psig ($\\approx 0.69MPa$); below this pressure we can take $Z \\equiv 1$.\n",
        "\n",
        "Converting this to SI units, we obtain:\n",
        "$$\n",
        "Z =\n",
        "\\left [ 1+  \\frac{344\\,400}{6894.75728} \\left ( \\frac{5}{9}\\right )^{3.825} \\frac{  \\overline{P}_{Pa~g} \\times 10^{1.785\\gamma}}{\\overline{T}_{K}^{~3.825}} \\right ]^{~-1}\n",
        "  = \\left [ 1+ \\frac{ 5.273838529 \\times\\overline{P}_{Pa~g} \\times 10^{1.785\\gamma}}{\\overline{T}_{K}^{~3.825}} \\right ]^{~-1}\n",
        "$$\n",
        "where: $\\overline{P}_{Pa~g}$ -- average gas (gauge) pressure in Pa; $\\overline{T}_K$ -- average gas temperature in $K$ and $\\gamma$ -- specific gravity of the gas."
      ]
    },
    {
      "cell_type": "code",
      "execution_count": null,
      "metadata": {
        "id": "sTrqtU2lH769",
        "outputId": "b8608501-d271-4105-921c-09a350a51887",
        "colab": {
          "base_uri": "https://localhost:8080/"
        }
      },
      "outputs": [
        {
          "output_type": "stream",
          "name": "stdout",
          "text": [
            "[0.83924289] Should be: 0.83924289\n"
          ]
        }
      ],
      "source": [
        "import math\n",
        "from scipy import optimize\n",
        "def PengRComp(T, P, omega = 0.0115,Tc = 191.15, Pc = 4.641E6, DEBUG=0):\n",
        "    \"\"\"\n",
        "    A function to evaluate the compressibility of a gas using Peng Robinson.\n",
        "    Default values are for methane.\n",
        "    Usage: PengRComp(Temp[K], Press[Pa}, omega(acentric factor),Temp(crit pt), Pres(crit pt), DEBUG(0=>False))\n",
        "    \"\"\"\n",
        "\n",
        "    kappa = 0.37464+1.54226*omega-0.26992*omega**2\n",
        "\n",
        "    Tr = T/Tc; Pr = P/Pc        #Compute reduced temperature and pressure\n",
        "    alpha = (1+kappa*(1-math.sqrt(Tr)))**2\n",
        "    Acap = (0.4572355289212813*Pr*alpha)/Tr**2 # Use improved values for A and B\n",
        "    Bcap = (0.07779607390386772*Pr)/Tr\n",
        "    PRZ=optimize.fsolve(PRZP3,1,[Acap,Bcap,DEBUG],full_output=0)\n",
        "    if DEBUG: print(\"PengRComp - omega: \",omega, \"T: \", T,\" P: \", P,\" Z: \", PRZ)\n",
        "    return PRZ\n",
        "T= 313 ; P = 13.01E6\n",
        "PRZX=PengRComp(T,P,DEBUG=0)\n",
        "print(PRZX, \"Should be: 0.83924289\")\n"
      ]
    },
    {
      "cell_type": "code",
      "execution_count": null,
      "metadata": {
        "id": "KjZhfItuH769",
        "outputId": "6df08be2-9ece-42a0-a741-8ebb9331b60f",
        "colab": {
          "base_uri": "https://localhost:8080/",
          "height": 300
        }
      },
      "outputs": [
        {
          "output_type": "stream",
          "name": "stdout",
          "text": [
            "Acap:  1.145493977613641  Bcap:  0.20236707289506495\n"
          ]
        },
        {
          "output_type": "display_data",
          "data": {
            "text/plain": [
              "<Figure size 432x288 with 1 Axes>"
            ],
            "image/png": "[encoded data removed]"
          },
          "metadata": {
            "needs_background": "light"
          }
        },
        {
          "output_type": "stream",
          "name": "stdout",
          "text": [
            "\n"
          ]
        }
      ],
      "source": [
        "import matplotlib.pyplot as plt\n",
        "import numpy as np\n",
        "%matplotlib inline\n",
        "# evenly sampled time at 200ms intervals\n",
        "t = np.arange(-.1, 2.0, 0.05)\n",
        "zero = t*0\n",
        "# red dashes, blue squares and green triangles\n",
        "print(\"Acap: \",Acap,\" Bcap: \", Bcap)\n",
        "plt.plot(t, PRZP3(t,[Acap,Bcap,0]),t,zero,)\n",
        "#plt.ylabel('PR polynomial')\n",
        "#plt.xlabel('Compressibility - Z')\n",
        "plt.show()\n",
        "print(\"\") #To fix colab printing."
      ]
    },
    {
      "cell_type": "code",
      "execution_count": null,
      "metadata": {
        "id": "2NDR7TX8H769",
        "outputId": "842fcda9-76c7-4dc0-9954-050a55f84bd5"
      },
      "outputs": [
        {
          "name": "stdout",
          "output_type": "stream",
          "text": [
            "Acap:  1.145493977613641  Bcap:  0.20236707289506495\n"
          ]
        },
        {
          "data": {
            "image/png": "[encoded data removed]",
            "text/plain": [
              "<Figure size 432x288 with 1 Axes>"
            ]
          },
          "metadata": {
            "needs_background": "light"
          },
          "output_type": "display_data"
        }
      ],
      "source": [
        "import matplotlib.pyplot as plt\n",
        "import numpy as np\n",
        "%matplotlib inline\n",
        "# evenly sampled time at 200ms intervals\n",
        "t = np.arange(-1.0,1.0, 0.05)\n",
        "TEMP = 313+50*t\n",
        "PRTEMP=zero = t*0\n",
        "for index in range (len(TEMP)):\n",
        "    PRTEMP[index]=PengRComp(TEMP[index],P,DEBUG=0)\n",
        "# red dashes, blue squares and green triangles\n",
        "print(\"Acap: \",Acap,\" Bcap: \", Bcap)\n",
        "plt.plot(TEMP, PRTEMP,TEMP,zero,)\n",
        "plt.xlabel('Temperature (K)')\n",
        "plt.ylabel('Compressibility - Z')\n",
        "plt.show()"
      ]
    },
    {
      "cell_type": "code",
      "execution_count": null,
      "metadata": {
        "id": "mj2E5JrwH76-",
        "colab": {
          "base_uri": "https://localhost:8080/"
        },
        "outputId": "171c07c5-f969-4088-a3ca-0ac3fc3b0ace"
      },
      "outputs": [
        {
          "output_type": "stream",
          "name": "stdout",
          "text": [
            "Discriminant - Delta:  -9812.0784\n",
            "Value of cubic at (-5.12E+00+0.00E+00j) = -4.97E-14+0.00E+00j\n",
            "Root: 0 - Value of cubic at (-5.12E+00+0.00E+00j) = 4.97E-14\n",
            "Value of cubic at (4.87E-01-3.91E-01j) = 7.11E-15+1.33E-15j\n",
            "Root: 1 - Value of cubic at (4.87E-01-3.91E-01j) = 7.23E-15\n",
            "Value of cubic at (4.87E-01+3.91E-01j) = 9.77E-15-1.33E-15j\n",
            "Root: 2 - Value of cubic at (4.87E-01+3.91E-01j) = 9.86E-15\n",
            "Discriminant - Delta:  -27\n",
            "Roots: -1.00E+00+0.00E+00j, 5.00E-01-8.66E-01j, 5.00E-01+8.66E-01j\n",
            "Discriminant - Delta:  0\n",
            "Roots: 1.00E+00+0.00E+00j, 1.00E+00+0.00E+00j, 1.00E+00+0.00E+00j\n",
            "ROOTS:  1.00E+00+0.00E+00j  1.00E+00+0.00E+00j  1.00E+00+0.00E+00j  \n",
            "Discriminant - Delta:  729\n",
            "ROOTS:  -1.00E+00+1.48E-16j  2.00E+00+2.96E-16j  5.00E-01-5.92E-16j  \n"
          ]
        }
      ],
      "source": [
        "import math\n",
        "import numpy\n",
        "def CubicSolve(a, b, c, d, DEBUG = 1):\n",
        "  \"\"\"\n",
        "  A function to solve cubic equations using Tartaglia's formula(?)\n",
        "  The cubic equation is defined by:\n",
        "  \\sum_0^3 a_i x^i = 0\n",
        "  https://en.wikipedia.org/wiki/Cubic_equation\n",
        "  Clean up printing.\n",
        "  \"\"\"\n",
        "  #\n",
        "  # Define the discriminant\n",
        "  #     Delta > 0 three distinct real roots\n",
        "  #     Delta = 0 repeated roots\n",
        "  #     Delta < 0 one real and two non-real complex conjugate roots\n",
        "  #\n",
        "  Delta = 18*a*b*c*d - 4*b**3 *d + b**2*c**2 - 4*a*c**3 - 27 * a**2*d**2\n",
        "  print(\"Discriminant - Delta: \", Delta)\n",
        "  #\n",
        "  #csi is a cube root of unity\n",
        "  csi = (-1 + pow(-3,1/2))/2\n",
        "  x = numpy.ones(3,dtype = complex)\n",
        "  #\n",
        "  Delta_0 = b**2 -3*a*c\n",
        "  Delta_1 = 2*b**3 - 9*a*b*c + 27*a**2*d\n",
        "  if Delta_0 != 0:\n",
        "    C = pow(Delta_1**2 - 4* Delta_0**3,1/2)\n",
        "    C = pow((Delta_1 + C)/2,1/3)\n",
        "    for i in range(0,3):\n",
        "      x[i] = -(b + C*csi**i + Delta_0/(C*csi**i))/(3*a)\n",
        "  elif (Delta_0 == 0) and (Delta_1 != 0):\n",
        "    C = pow(Delta_1,1/3)\n",
        "    for i in range(0,3):\n",
        "      x[i] = -(b + C*csi**i + Delta_0/(C*csi**i))/(3*a)\n",
        "  else:       #repeated roots\n",
        "    x = -b*x/(3*a)\n",
        "  #for i in range(0,3): print('x[{:1d}] = {:8.2E}'.format(i, x[i]))\n",
        "  #Let's do a little checking\n",
        "  MinCubic = 99.0\n",
        "  for i in range(0,3):\n",
        "    Cubic = a*x[i]**3 + b*x[i]**2 + c*x[i] +d\n",
        "    MinCubic = min(MinCubic, abs(Cubic))\n",
        "    #print('abs(Cubic): {:8.2E}'.format(abs(Cubic)))\n",
        "  assert MinCubic < 10**(-10), print('a: {:+8.2E}, b: {:+8.2E}, c: {:+8.2E}, d: {:+8.2E}, '.format(a,b,c,d))\n",
        "  return x\n",
        "\n",
        "def CubicEval(a, b, c, d, x):\n",
        "  \"\"\"\n",
        "  A function to evaluate the cubic at the point x\n",
        "  \"\"\"\n",
        "  Cubic = a*x**3 + b*x**2 + c*x +d\n",
        "  print('Value of cubic at ({:8.2E}) = {:8.2E}'.format(x, Cubic))\n",
        "  return abs(Cubic)\n",
        "\n",
        "a,b,c,d = 2.0,8.3,-9.2,4.0\n",
        "x = CubicSolve(a,b,c,d)\n",
        "for i in range (0,3):\n",
        "  apx = CubicEval(a,b,c,d,x[i])\n",
        "  print('Root: {:1d} - Value of cubic at ({:8.2E}) = {:8.2E}'.format(i,x[i],apx))\n",
        "a,b,c,d = 1,0,0,1\n",
        "x = CubicSolve(a,b,c,d)\n",
        "print('Roots: {:8.2E}, {:8.2E}, {:8.2E}'.format(x[0],x[1],x[2]))\n",
        "a,b,c,d = 1,-3,3,-1\n",
        "x = CubicSolve(a,b,c,d)\n",
        "print('Roots: {:8.2E}, {:8.2E}, {:8.2E}'.format(x[0],x[1],x[2]))\n",
        "fmtstr = '{:8.2E}  ' * 3\n",
        "print('ROOTS: ',fmtstr.format(x[0],x[1],x[2]))\n",
        "a,b,c,d = 2,-3,-3,2\n",
        "x = CubicSolve(a,b,c,d)\n",
        "print('ROOTS: ',fmtstr.format(x[0],x[1],x[2]))"
      ]
    },
    {
      "cell_type": "code",
      "source": [],
      "metadata": {
        "id": "02YCEDRQ_awY"
      },
      "execution_count": null,
      "outputs": []
    },
    {
      "cell_type": "markdown",
      "source": [
        "#### Hydrogen transport\n",
        "A couple of papers to review:  \n",
        "1. Tomasz Włodek, Mariusz Łaciak, Katarzyna Kuro, Łukasz Węgrzyn  \n",
        "__Thermodynamic analysis of hydrogen pipeline transportation – selected aspects__  \n",
        "AGH DRILLING, OIL, GAS, Vol. 33, No. 2, 2016  \n",
        "http://dx.doi.org/10.7494/drill.2016.33.2.379\n",
        "1. Alexandra C. Weber, Lazaros G. Papageorgiou  \n",
        "__Design of hydrogen transmission pipeline networks with hydraulics__  \n",
        "Chemical Engineering Research and Design, 2018, Vol 131, Pp266-278\n",
        "\n",
        "For Hydrogen we have:\n",
        "$$\n",
        "P_{crit} = 1.2838 MPa ~~~\\textsf{and}~~~T_{crit} =  32.94 K\n",
        "$$\n",
        "Under these conditions the specific volume of hydrogen  \n",
        "$\\rho^{-1}= 3.18879·10–2 m^3 kg^{-1}$"
      ],
      "metadata": {
        "id": "V3us0wykBiOx"
      }
    },
    {
      "cell_type": "markdown",
      "source": [],
      "metadata": {
        "id": "PxFRDuDqbOaf"
      }
    },
    {
      "cell_type": "markdown",
      "metadata": {
        "id": "yN7dfeeSH76-"
      },
      "source": [
        "__Status__ Jan/2022\n",
        "-   Summarised the Peng and Robinson Paper.\n",
        "-   Verified the math and arithmetic at the critical point.\n",
        "   -      included notes on Van der Waal's equation\n",
        "   -   https://en.wikipedia.org/wiki/Van_der_Waals_equation\n",
        "-   Computed the compressibilities of methane and ethane (correctly?).\n",
        "- Joule-Thomson cooling for (vdW gases) (from Flowers and Mendoza)\n",
        "- Very brief notes about Hydrogen   \n"
      ]
    },
    {
      "cell_type": "markdown",
      "source": [
        "##__Possible Extensions and Future Work.__\n",
        "  - Do the intro/overview: https://www.e-education.psu.edu/png520/m7_p4.html\n",
        "  - Law of corresponding states: (16.4)(include 16.4.1)\n",
        "    - Include MoorePhysicalChemistryFIG1.8.png\n",
        "  - Talk about mixtures (including mixtures with $CO_2$ and $H_2S$).\n",
        "    - Extend `Frigg cell `to mixtures\n",
        "    Wichert, E. and Aziz, K. 1972. **Calculate Z's for Sour Gases.** Hydrocarbon Processing 51 (May): 119–122.\n",
        "    - Talk about additional correlations.\n",
        "    - Add sheet about equations of state and gas viscosity $\\mu_g$.\n",
        "  -   Clean-up the code and comments (in progress)\n",
        "  -   **Look at Redlich-Kwong Equation of state**\n",
        "    -   https://chem.libretexts.org/Bookshelves/Physical_and_Theoretical_Chemistry_Textbook_Maps/Physical_Chemistry_(LibreTexts)/16%3A_The_Properties_of_Gases/16.02%3A_van_der_Waals_and_Redlich-Kwong_Equations_of_State\n",
        "    -   https://en.wikipedia.org/wiki/Redlich–Kwong_equation_of_state\n",
        "  - Find original references!\n",
        "       -   J. D. Van der Waals, The equation of state for gases and liquids: Nobel Lecture, December 12, 1910\" (PDF). Nobel Lectures, Physics 1901–1921. Amsterdam: Elsevier Publishing Company. 1967. pp. 254–26\n",
        "       -   Redlich, Otto; Kwong, J. N. S. (1949). \"On The Thermodynamics of Solutions\". Chem. Rev. 44 (1): 233–244. doi:10.1021/cr60137a013\n",
        "  - Find improvements to Redlich-Kwong: Soave.\n",
        "    - https://www.e-education.psu.edu/png520/m10_p5.html\n",
        "  - and  \n",
        "PNG 520\n",
        "Phase Relations in Reservoir Engineering  \n",
        "Compositional Modeling of Gas-Condensate Reservoirs:The Zero-dimensional Approach  \n",
        "https://www.e-education.psu.edu/png520/m20_p4.html\n",
        "  -   __Exercises:__\n",
        "        1.   Do JT cooling analysis for Redlich-Kwong\n",
        "        1.   Compute the constants $a$ and $b$ for vdV AND R-K\n",
        "        1.   Compare JT cooling effects for (at realistic field conditions) vdV and RK models\n",
        "        1. How big is a molecule? Consider $b$ implications.\n",
        "        1. How big is the gravitational constant $G$, implications from $a$ value?\n",
        "  -   Integrate with notes:\n",
        "        1. Compressibility ($Z$)\n",
        "        1. JT cooling\n",
        "        1. Thermal section (Kurbatova Galina Ibragimovna et al.)"
      ],
      "metadata": {
        "id": "pc_maeEnq380"
      }
    }
  ],
  "metadata": {
    "kernelspec": {
      "display_name": "Python 3",
      "language": "python",
      "name": "python3"
    },
    "language_info": {
      "codemirror_mode": {
        "name": "ipython",
        "version": 3
      },
      "file_extension": ".py",
      "mimetype": "text/x-python",
      "name": "python",
      "nbconvert_exporter": "python",
      "pygments_lexer": "ipython3",
      "version": "3.8.8"
    },
    "colab": {
      "name": "GasCompressibilityJT.ipynb",
      "provenance": [],
      "toc_visible": true,
      "include_colab_link": true
    },
    "gpuClass": "standard"
  },
  "nbformat": 4,
  "nbformat_minor": 0
}