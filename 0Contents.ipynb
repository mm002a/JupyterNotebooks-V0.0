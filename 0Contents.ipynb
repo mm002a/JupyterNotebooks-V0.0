{
  "nbformat": 4,
  "nbformat_minor": 0,
  "metadata": {
    "colab": {
      "name": "0Contents.ipynb",
      "provenance": [],
      "authorship_tag": "ABX9TyMYmKRRs759XPHLsacKEfQx",
      "include_colab_link": true
    },
    "kernelspec": {
      "name": "python3",
      "display_name": "Python 3"
    },
    "language_info": {
      "name": "python"
    }
  },
  "cells": [
    {
      "cell_type": "markdown",
      "metadata": {
        "id": "view-in-github",
        "colab_type": "text"
      },
      "source": [
        "<a href=\"https://colab.research.google.com/github/mm002a/JupyterNotebooks-V0.0/blob/main/0Contents.ipynb\" target=\"_parent\"><img src=\"https://colab.research.google.com/assets/colab-badge.svg\" alt=\"Open In Colab\"/></a>"
      ]
    },
    {
      "cell_type": "code",
      "execution_count": null,
      "metadata": {
        "id": "ZXs6V3H6qqM0"
      },
      "outputs": [],
      "source": [
        ""
      ]
    },
    {
      "cell_type": "markdown",
      "source": [
        "# Python Notebooks in this repository (mm002a/JupyterNotebooks-V0.0)\n",
        "1. GasCompressibilityJT\n",
        "  1. Peng-Robinson. (Done 19/1/22)\n",
        "  1. van de Waal's gases\n",
        "  1. Joule-Thomson Cooling\n",
        "  1. Includes some work for the Frigg Case Study.\n",
        "  1. CNGA section - UNDER REVIEW.\n",
        "1. GasEqns101\n",
        "  1. Implementation of various Gas Transport Formulae\n",
        "    - Simplified Isothermal (using Colebrook-White)\n",
        "    - Weymouth, AGA\n",
        "  1. Cases from the worksheet.\n",
        "  1. Leaks - UNDER DEVELOPMENt\n",
        "1. GasEqnsUtilities - UNDER DEVELOPMENT\n",
        "1. Gas Viscosity and Equations of State\n",
        "  1. Sutherland's formula\n",
        "  1. Londono et al. - Under review\n",
        "  1.Equations of State - Under development\n",
        "1. ThermalPipelies - UNDER DEVELOPMENT\n",
        "\n",
        "## Other Jupyter folders:\n",
        "1. Leaks1.11\n",
        "  1. Many leak-related exploratory computations\n",
        "    1. FindLeak - single pipes\n",
        "  1. Networks - UNDER DEVELOPMENT\n",
        "1. BuckleyLeverett\n",
        "  1. Buckley Leverett equations (1D-steady)\n",
        "  1. Water breakthrough calculations"
      ],
      "metadata": {
        "id": "Ikl8svGbqrKd"
      }
    }
  ]
}