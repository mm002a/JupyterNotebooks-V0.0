{
  "nbformat": 4,
  "nbformat_minor": 0,
  "metadata": {
    "colab": {
      "name": "0Contents.ipynb",
      "provenance": [],
      "authorship_tag": "ABX9TyMl3+8RLirNM5y7XQpQnQIz",
      "include_colab_link": true
    },
    "kernelspec": {
      "name": "python3",
      "display_name": "Python 3"
    },
    "language_info": {
      "name": "python"
    }
  },
  "cells": [
    {
      "cell_type": "markdown",
      "metadata": {
        "id": "view-in-github",
        "colab_type": "text"
      },
      "source": [
        "<a href=\"https://colab.research.google.com/github/mm002a/JupyterNotebooks-V0.0/blob/main/0Contents.ipynb\" target=\"_parent\"><img src=\"https://colab.research.google.com/assets/colab-badge.svg\" alt=\"Open In Colab\"/></a>"
      ]
    },
    {
      "cell_type": "code",
      "execution_count": null,
      "metadata": {
        "id": "ZXs6V3H6qqM0"
      },
      "outputs": [],
      "source": []
    },
    {
      "cell_type": "markdown",
      "source": [
        "# Python Notebooks in this repository (mm002a/JupyterNotebooks-V0.0)\n",
        "1. GasCompressibilityJT\n",
        "  1. Peng-Robinson. (Done 19/1/22)\n",
        "  1. van de Waal's gases. *(Updated 5/8/23 Tex notes MultiphaseFlowsGit)*\n",
        "  1. Law of corresponding states. *(Updated 5/8/23)(Also Tex notes MultiphaseFlowsGit)*\n",
        "  1. Joule-Thomson Cooling\n",
        "  1. Includes some work for the Frigg Case Study.\n",
        "  1. CNGA section - UNDER REVIEW.\n",
        "1. GasEqns101\n",
        "  1. Implementation of various Gas Transport Formulae\n",
        "    - Simplified Isothermal (using Colebrook-White)\n",
        "    - Weymouth, AGA\n",
        "  1. Cases from the worksheet.\n",
        "  1. Leaks - UNDER DEVELOPMENt\n",
        "1. GasEqnsUtilities - UNDER DEVELOPMENT\n",
        "1. Gas Viscosity and Equations of State\n",
        "  1. Sutherland's formula\n",
        "  1. Londono et al. - Under review\n",
        "  1.Equations of State - Under development\n",
        "\n"
      ],
      "metadata": {
        "id": "Ikl8svGbqrKd"
      }
    },
    {
      "cell_type": "markdown",
      "source": [
        "###GERG\n",
        "1. org:usnistgov /teqp\n",
        "1. org:usnistgov /coolprop\n"
      ],
      "metadata": {
        "id": "R67a49LXeanZ"
      }
    },
    {
      "cell_type": "markdown",
      "source": [
        "####GERG Usage:\n",
        "Cell 1: `!pip install teqp coolprop`\n",
        "####GERG Documentation:\n",
        "####GERG Literature:\n",
        "####GERG Web Pages:"
      ],
      "metadata": {
        "id": "YBEWMFlDfKeQ"
      }
    },
    {
      "cell_type": "markdown",
      "source": [
        "###Thermal Pipelines\n",
        "1. ThermalPipelies - UNDER DEVELOPMENT\n",
        "   * Sort out Hewitt pipe heating ==> Notes\n"
      ],
      "metadata": {
        "id": "eJDWlIwAeWM1"
      }
    },
    {
      "cell_type": "markdown",
      "source": [
        "## Other Jupyter folders:\n",
        "1. Leaks1.11\n",
        "  1. Many leak-related exploratory computations\n",
        "    1. FindLeak - single pipes\n",
        "  1. Networks - UNDER DEVELOPMENT\n",
        "1. BuckleyLeverett\n",
        "  1. Buckley Leverett equations (1D-steady)\n",
        "  1. Water breakthrough calculations\n",
        "1. Decline Curves (__NOT DeclineCurvesAnalysis__)\n",
        "  1. Some chat (needs typesetting).\n",
        "  Some examples\n",
        "  1. Nutall's code (model identification)\n",
        "1. Erosion and Deposition\n",
        "  1. Currently only studies of some deposition correlations.  \n",
        "  Looking at $d_p$ variation with $D_{crit}$\n",
        "  1. Next: look at erosion."
      ],
      "metadata": {
        "id": "SHF89NuLePPj"
      }
    }
  ]
}