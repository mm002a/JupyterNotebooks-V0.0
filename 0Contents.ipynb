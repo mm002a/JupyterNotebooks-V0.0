{
  "cells": [
    {
      "cell_type": "markdown",
      "metadata": {
        "id": "view-in-github",
        "colab_type": "text"
      },
      "source": [
        "<a href=\"https://colab.research.google.com/github/mm002a/JupyterNotebooks-V0.0/blob/main/0Contents.ipynb\" target=\"_parent\"><img src=\"https://colab.research.google.com/assets/colab-badge.svg\" alt=\"Open In Colab\"/></a>"
      ]
    },
    {
      "cell_type": "markdown",
      "source": [
        "Find these files at:  \n",
        " `C:\\Users\\chris\\OneDrive\\GitHub\\JupyterNotebooks-V0.0\\GasTransmission`"
      ],
      "metadata": {
        "id": "WUFtovobUur6"
      }
    },
    {
      "cell_type": "markdown",
      "source": [
        "# Python Notebooks in this repository (mm002a/JupyterNotebooks-V0.0)"
      ],
      "metadata": {
        "id": "CxYDEmiwU-nP"
      }
    },
    {
      "cell_type": "markdown",
      "metadata": {
        "id": "Ikl8svGbqrKd"
      },
      "source": [
        "1. GasCompressibilityJT\n",
        "  1. Peng-Robinson. (Done 19/1/22)\n",
        "  1. van de Waal's gases\n",
        "  1. Joule-Thomson Cooling\n",
        "  1. Includes some work for the Frigg Case Study.\n",
        "  1. CNGA section - UNDER REVIEW.\n",
        "1. GasEqns101\n",
        "  1. Implementation of various Gas Transport Formulae\n",
        "    - Simplified Isothermal (using Colebrook-White)\n",
        "    - Weymouth, AGA\n",
        "  1. Cases from the worksheet.\n",
        "  1. Leaks - UNDER DEVELOPMENt\n",
        "1. GasEqnsUtilities - UNDER DEVELOPMENT\n",
        "1. Gas Viscosity and Equations of State\n",
        "  1. Sutherland's formula\n",
        "  1. Londono et al. - Under review\n",
        "  1.Equations of State - Under development\n",
        "\n"
      ]
    },
    {
      "cell_type": "markdown",
      "source": [
        "##GERG project info\n",
        "1. Notebooks\n",
        "1. Documentation\n",
        "1. Literature"
      ],
      "metadata": {
        "id": "d3_BS-9QVYhe"
      }
    },
    {
      "cell_type": "markdown",
      "source": [
        "## Thermal pipelines\n",
        "\n",
        "Sort out section in notes anf Hewitt textbook.\n",
        "1. ThermalPipelies - UNDER DEVELOPMENT\n"
      ],
      "metadata": {
        "id": "ioWSwF0HVKSq"
      }
    },
    {
      "cell_type": "markdown",
      "source": [
        "## Other Jupyter folders:\n",
        "1. Leaks1.11\n",
        "  1. Many leak-related exploratory computations\n",
        "    1. FindLeak - single pipes\n",
        "  1. Networks - UNDER DEVELOPMENT\n",
        "1. BuckleyLeverett\n",
        "  1. Buckley Leverett equations (1D-steady)\n",
        "  1. Water breakthrough calculations\n",
        "1. Decline Curves (__NOT DeclineCurvesAnalysis__)\n",
        "  1. Some chat (needs typesetting).\n",
        "  Some examples\n",
        "  1. Nutall's code (model identification)\n",
        "1. Erosion and Deposition\n",
        "  1. Currently only studies of some deposition correlations.  \n",
        "  Looking at $d_p$ variation with $D_{crit}$\n",
        "  1. Next: look at erosion."
      ],
      "metadata": {
        "id": "rEMVGb8TVGRz"
      }
    }
  ],
  "metadata": {
    "colab": {
      "name": "0Contents.ipynb",
      "provenance": [],
      "authorship_tag": "ABX9TyMETKRU19UL+LnjNg9246gp",
      "include_colab_link": true
    },
    "kernelspec": {
      "display_name": "Python 3 (ipykernel)",
      "language": "python",
      "name": "python3"
    },
    "language_info": {
      "codemirror_mode": {
        "name": "ipython",
        "version": 3
      },
      "file_extension": ".py",
      "mimetype": "text/x-python",
      "name": "python",
      "nbconvert_exporter": "python",
      "pygments_lexer": "ipython3",
      "version": "3.12.3"
    }
  },
  "nbformat": 4,
  "nbformat_minor": 0
}