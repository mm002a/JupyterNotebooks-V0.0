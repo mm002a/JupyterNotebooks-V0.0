{
  "nbformat": 4,
  "nbformat_minor": 0,
  "metadata": {
    "colab": {
      "name": "DeclineCurveAnalysis.ipynb",
      "provenance": [],
      "authorship_tag": "ABX9TyPwiYcWAvwShLRWYjeMDu1v",
      "include_colab_link": true
    },
    "kernelspec": {
      "name": "python3",
      "display_name": "Python 3"
    },
    "language_info": {
      "name": "python"
    }
  },
  "cells": [
    {
      "cell_type": "markdown",
      "metadata": {
        "id": "view-in-github",
        "colab_type": "text"
      },
      "source": [
        "<a href=\"https://colab.research.google.com/github/mm002a/JupyterNotebooks-V0.0/blob/main/DeclineCurveAnalysis.ipynb\" target=\"_parent\"><img src=\"https://colab.research.google.com/assets/colab-badge.svg\" alt=\"Open In Colab\"/></a>"
      ]
    },
    {
      "cell_type": "code",
      "execution_count": null,
      "metadata": {
        "colab": {
          "base_uri": "https://localhost:8080/"
        },
        "id": "QtvX8UuogbiK",
        "outputId": "b8314dd5-b606-436a-95ee-8e45630e49ec"
      },
      "outputs": [
        {
          "output_type": "stream",
          "name": "stdout",
          "text": [
            "Collecting pytexit\n",
            "  Downloading pytexit-0.4.0-py2.py3-none-any.whl (24 kB)\n",
            "Requirement already satisfied: six in /usr/local/lib/python3.7/dist-packages (from pytexit) (1.15.0)\n",
            "Installing collected packages: pytexit\n",
            "Successfully installed pytexit-0.4.0\n"
          ]
        }
      ],
      "source": [
        "pip install pytexit"
      ]
    },
    {
      "cell_type": "code",
      "source": [
        "from pytexit import py2tex\n"
      ],
      "metadata": {
        "id": "pzIXZ49OhF9i"
      },
      "execution_count": null,
      "outputs": []
    },
    {
      "cell_type": "code",
      "source": [
        "py2tex('y = 2*pow(x,3/2)')"
      ],
      "metadata": {
        "colab": {
          "base_uri": "https://localhost:8080/",
          "height": 75
        },
        "id": "Hme4Hw4Wgp_C",
        "outputId": "86e56999-5e69-4f14-b48b-3584195bd716"
      },
      "execution_count": null,
      "outputs": [
        {
          "output_type": "display_data",
          "data": {
            "text/plain": [
              "<IPython.core.display.Latex object>"
            ],
            "text/latex": "$$y=2x^{\\frac{3}{2}}$$"
          },
          "metadata": {}
        },
        {
          "output_type": "stream",
          "name": "stdout",
          "text": [
            "$$y=2x^{\\frac{3}{2}}$$\n"
          ]
        },
        {
          "output_type": "execute_result",
          "data": {
            "text/plain": [
              "'$$y=2x^{\\\\frac{3}{2}}$$'"
            ],
            "application/vnd.google.colaboratory.intrinsic+json": {
              "type": "string"
            }
          },
          "metadata": {},
          "execution_count": 6
        }
      ]
    },
    {
      "cell_type": "code",
      "source": [
        "#Data from: https://faculty.ksu.edu.sa/sites/default/files/Production Decline Analysis.pdf Table 8-1\n",
        "import matplotlib.pyplot as plt\n",
        "q_STBpD = [904.84, 818.73, 740.82, 670.32, 606.53, 548.81, 496.59, 449.33, 406.57, 367.88, 332.87, 301.19, 272.53, 246.60, 223.13, 201.90, 182.68, 165.30, 149.57, 135.34, 122.46, 110.80, 100.26, 90.72]\n",
        "print(q_STBpD)\n",
        "plt(q_STBpD)"
      ],
      "metadata": {
        "colab": {
          "base_uri": "https://localhost:8080/",
          "height": 255
        },
        "id": "DneGZN53M9r-",
        "outputId": "c261326a-b3b7-46e3-bde1-07d4d7685af7"
      },
      "execution_count": 6,
      "outputs": [
        {
          "output_type": "stream",
          "name": "stdout",
          "text": [
            "[904.84, 818.73, 740.82, 670.32, 606.53, 548.81, 496.59, 449.33, 406.57, 367.88, 332.87, 301.19, 272.53, 246.6, 223.13, 201.9, 182.68, 165.3, 149.57, 135.34, 122.46, 110.8, 100.26, 90.72]\n"
          ]
        },
        {
          "output_type": "error",
          "ename": "TypeError",
          "evalue": "ignored",
          "traceback": [
            "\u001b[0;31m---------------------------------------------------------------------------\u001b[0m",
            "\u001b[0;31mTypeError\u001b[0m                                 Traceback (most recent call last)",
            "\u001b[0;32m<ipython-input-6-02fd56a770b8>\u001b[0m in \u001b[0;36m<module>\u001b[0;34m()\u001b[0m\n\u001b[1;32m      3\u001b[0m \u001b[0mq_STBpD\u001b[0m \u001b[0;34m=\u001b[0m \u001b[0;34m[\u001b[0m\u001b[0;36m904.84\u001b[0m\u001b[0;34m,\u001b[0m \u001b[0;36m818.73\u001b[0m\u001b[0;34m,\u001b[0m \u001b[0;36m740.82\u001b[0m\u001b[0;34m,\u001b[0m \u001b[0;36m670.32\u001b[0m\u001b[0;34m,\u001b[0m \u001b[0;36m606.53\u001b[0m\u001b[0;34m,\u001b[0m \u001b[0;36m548.81\u001b[0m\u001b[0;34m,\u001b[0m \u001b[0;36m496.59\u001b[0m\u001b[0;34m,\u001b[0m \u001b[0;36m449.33\u001b[0m\u001b[0;34m,\u001b[0m \u001b[0;36m406.57\u001b[0m\u001b[0;34m,\u001b[0m \u001b[0;36m367.88\u001b[0m\u001b[0;34m,\u001b[0m \u001b[0;36m332.87\u001b[0m\u001b[0;34m,\u001b[0m \u001b[0;36m301.19\u001b[0m\u001b[0;34m,\u001b[0m \u001b[0;36m272.53\u001b[0m\u001b[0;34m,\u001b[0m \u001b[0;36m246.60\u001b[0m\u001b[0;34m,\u001b[0m \u001b[0;36m223.13\u001b[0m\u001b[0;34m,\u001b[0m \u001b[0;36m201.90\u001b[0m\u001b[0;34m,\u001b[0m \u001b[0;36m182.68\u001b[0m\u001b[0;34m,\u001b[0m \u001b[0;36m165.30\u001b[0m\u001b[0;34m,\u001b[0m \u001b[0;36m149.57\u001b[0m\u001b[0;34m,\u001b[0m \u001b[0;36m135.34\u001b[0m\u001b[0;34m,\u001b[0m \u001b[0;36m122.46\u001b[0m\u001b[0;34m,\u001b[0m \u001b[0;36m110.80\u001b[0m\u001b[0;34m,\u001b[0m \u001b[0;36m100.26\u001b[0m\u001b[0;34m,\u001b[0m \u001b[0;36m90.72\u001b[0m\u001b[0;34m]\u001b[0m\u001b[0;34m\u001b[0m\u001b[0;34m\u001b[0m\u001b[0m\n\u001b[1;32m      4\u001b[0m \u001b[0mprint\u001b[0m\u001b[0;34m(\u001b[0m\u001b[0mq_STBpD\u001b[0m\u001b[0;34m)\u001b[0m\u001b[0;34m\u001b[0m\u001b[0;34m\u001b[0m\u001b[0m\n\u001b[0;32m----> 5\u001b[0;31m \u001b[0mplt\u001b[0m\u001b[0;34m(\u001b[0m\u001b[0mq_STBpD\u001b[0m\u001b[0;34m)\u001b[0m\u001b[0;34m\u001b[0m\u001b[0;34m\u001b[0m\u001b[0m\n\u001b[0m",
            "\u001b[0;31mTypeError\u001b[0m: 'module' object is not callable"
          ]
        }
      ]
    }
  ]
}